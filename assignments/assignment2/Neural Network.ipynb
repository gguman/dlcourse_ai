{
 "cells": [
  {
   "cell_type": "markdown",
   "metadata": {},
   "source": [
    "# Задание 2.1 - Нейронные сети\n",
    "\n",
    "В этом задании вы реализуете и натренируете настоящую нейроную сеть своими руками!\n",
    "\n",
    "В некотором смысле это будет расширением прошлого задания - нам нужно просто составить несколько линейных классификаторов вместе!\n",
    "\n",
    "<img src=\"https://i.redd.it/n9fgba8b0qr01.png\" alt=\"Stack_more_layers\" width=\"400px\"/>"
   ]
  },
  {
   "cell_type": "code",
   "execution_count": 1,
   "metadata": {},
   "outputs": [],
   "source": [
    "import numpy as np\n",
    "import matplotlib.pyplot as plt\n",
    "\n",
    "%matplotlib inline\n",
    "\n",
    "%load_ext autoreload\n",
    "%autoreload 2"
   ]
  },
  {
   "cell_type": "code",
   "execution_count": 2,
   "metadata": {},
   "outputs": [],
   "source": [
    "from dataset import load_svhn, random_split_train_val\n",
    "from gradient_check import check_layer_gradient, check_layer_param_gradient, check_model_gradient\n",
    "from layers import FullyConnectedLayer, ReLULayer\n",
    "from model import TwoLayerNet\n",
    "from trainer import Trainer, Dataset\n",
    "from optim import SGD, MomentumSGD\n",
    "from metrics import multiclass_accuracy"
   ]
  },
  {
   "cell_type": "markdown",
   "metadata": {},
   "source": [
    "# Загружаем данные\n",
    "\n",
    "И разделяем их на training и validation."
   ]
  },
  {
   "cell_type": "code",
   "execution_count": 3,
   "metadata": {},
   "outputs": [],
   "source": [
    "def prepare_for_neural_network(train_X, test_X):\n",
    "    train_flat = train_X.reshape(train_X.shape[0], -1).astype(np.float) / 255.0\n",
    "    test_flat = test_X.reshape(test_X.shape[0], -1).astype(np.float) / 255.0\n",
    "    \n",
    "    # Subtract mean\n",
    "    mean_image = np.mean(train_flat, axis = 0)\n",
    "    train_flat -= mean_image\n",
    "    test_flat -= mean_image\n",
    "    \n",
    "    return train_flat, test_flat\n",
    "    \n",
    "train_X, train_y, test_X, test_y = load_svhn(\"data\", max_train=10000, max_test=1000)    \n",
    "train_X, test_X = prepare_for_neural_network(train_X, test_X)\n",
    "# Split train into train and val\n",
    "train_X, train_y, val_X, val_y = random_split_train_val(train_X, train_y, num_val = 1000)"
   ]
  },
  {
   "cell_type": "markdown",
   "metadata": {},
   "source": [
    "# Как всегда, начинаем с кирпичиков\n",
    "\n",
    "Мы будем реализовывать необходимые нам слои по очереди. Каждый слой должен реализовать:\n",
    "- прямой проход (forward pass), который генерирует выход слоя по входу и запоминает необходимые данные\n",
    "- обратный проход (backward pass), который получает градиент по выходу слоя и вычисляет градиент по входу и по параметрам\n",
    "\n",
    "Начнем с ReLU, у которого параметров нет."
   ]
  },
  {
   "cell_type": "code",
   "execution_count": 4,
   "metadata": {
    "scrolled": false
   },
   "outputs": [
    {
     "name": "stdout",
     "output_type": "stream",
     "text": [
      "\n",
      "!Gradient check passed!\n",
      "\n",
      "\n"
     ]
    }
   ],
   "source": [
    "# TODO: Implement ReLULayer layer in layers.py\n",
    "# Note: you'll need to copy implementation of the gradient_check function from the previous assignment\n",
    "\n",
    "X = np.array([[1,-2,3],\n",
    "              [-1, 2, 0.1]\n",
    "              ])\n",
    "\n",
    "assert check_layer_gradient(ReLULayer(), X)"
   ]
  },
  {
   "cell_type": "markdown",
   "metadata": {},
   "source": [
    "А теперь реализуем полносвязный слой (fully connected layer), у которого будет два массива параметров: W (weights) и B (bias).\n",
    "\n",
    "Все параметры наши слои будут использовать для параметров специальный класс `Param`, в котором будут храниться значения параметров и градиенты этих параметров, вычисляемые во время обратного прохода.\n",
    "\n",
    "Это даст возможность аккумулировать (суммировать) градиенты из разных частей функции потерь, например, из cross-entropy loss и regularization loss."
   ]
  },
  {
   "cell_type": "code",
   "execution_count": 5,
   "metadata": {},
   "outputs": [
    {
     "name": "stdout",
     "output_type": "stream",
     "text": [
      "\n",
      "!Gradient check passed!\n",
      "\n",
      "\n",
      "\n",
      "!Gradient check passed!\n",
      "\n",
      "\n",
      "\n",
      "!Gradient check passed!\n",
      "\n",
      "\n"
     ]
    }
   ],
   "source": [
    "# TODO: Implement FullyConnected layer forward and backward methods\n",
    "assert check_layer_gradient(FullyConnectedLayer(3, 4), X)\n",
    "# TODO: Implement storing gradients for W and B\n",
    "assert check_layer_param_gradient(FullyConnectedLayer(3, 4), X, 'W')\n",
    "assert check_layer_param_gradient(FullyConnectedLayer(3, 4), X, 'B')"
   ]
  },
  {
   "cell_type": "markdown",
   "metadata": {},
   "source": [
    "## Создаем нейронную сеть\n",
    "\n",
    "Теперь мы реализуем простейшую нейронную сеть с двумя полносвязным слоями и нелинейностью ReLU. Реализуйте функцию `compute_loss_and_gradients`, она должна запустить прямой и обратный проход через оба слоя для вычисления градиентов.\n",
    "\n",
    "Не забудьте реализовать очистку градиентов в начале функции."
   ]
  },
  {
   "cell_type": "code",
   "execution_count": 6,
   "metadata": {},
   "outputs": [
    {
     "name": "stdout",
     "output_type": "stream",
     "text": [
      "Checking gradient for W1\n",
      "\n",
      "!Gradient check passed!\n",
      "\n",
      "\n",
      "Checking gradient for B1\n",
      "\n",
      "!Gradient check passed!\n",
      "\n",
      "\n",
      "Checking gradient for W2\n",
      "\n",
      "!Gradient check passed!\n",
      "\n",
      "\n",
      "Checking gradient for B2\n",
      "\n",
      "!Gradient check passed!\n",
      "\n",
      "\n"
     ]
    },
    {
     "data": {
      "text/plain": [
       "True"
      ]
     },
     "execution_count": 6,
     "metadata": {},
     "output_type": "execute_result"
    }
   ],
   "source": [
    "# TODO: In model.py, implement compute_loss_and_gradients function\n",
    "model = TwoLayerNet(n_input = train_X.shape[1], n_output = 10, hidden_layer_size = 3, reg = 0)\n",
    "loss = model.compute_loss_and_gradients(train_X[:2], train_y[:2])\n",
    "\n",
    "# TODO Now implement backward pass and aggregate all of the params\n",
    "check_model_gradient(model, train_X[:2], train_y[:2])"
   ]
  },
  {
   "cell_type": "markdown",
   "metadata": {},
   "source": [
    "Теперь добавьте к модели регуляризацию - она должна прибавляться к loss и делать свой вклад в градиенты."
   ]
  },
  {
   "cell_type": "code",
   "execution_count": 7,
   "metadata": {},
   "outputs": [
    {
     "name": "stdout",
     "output_type": "stream",
     "text": [
      "Checking gradient for W1\n",
      "\n",
      "!Gradient check passed!\n",
      "\n",
      "\n",
      "Checking gradient for B1\n",
      "\n",
      "!Gradient check passed!\n",
      "\n",
      "\n",
      "Checking gradient for W2\n",
      "\n",
      "!Gradient check passed!\n",
      "\n",
      "\n",
      "Checking gradient for B2\n",
      "\n",
      "!Gradient check passed!\n",
      "\n",
      "\n"
     ]
    },
    {
     "data": {
      "text/plain": [
       "True"
      ]
     },
     "execution_count": 7,
     "metadata": {},
     "output_type": "execute_result"
    }
   ],
   "source": [
    "# TODO Now implement l2 regularization in the forward and backward pass\n",
    "model_with_reg = TwoLayerNet(n_input = train_X.shape[1], n_output = 10, hidden_layer_size = 3, reg = 1e1)\n",
    "loss_with_reg = model_with_reg.compute_loss_and_gradients(train_X[:2], train_y[:2])\n",
    "assert loss_with_reg > loss and not np.isclose(loss_with_reg, loss), \\\n",
    "    \"Loss with regularization (%2.4f) should be higher than without it (%2.4f)!\" % (loss, loss_with_reg)\n",
    "\n",
    "check_model_gradient(model_with_reg, train_X[:2], train_y[:2])"
   ]
  },
  {
   "cell_type": "markdown",
   "metadata": {},
   "source": [
    "Также реализуем функцию предсказания (вычисления значения) модели на новых данных.\n",
    "\n",
    "Какое значение точности мы ожидаем увидеть до начала тренировки?"
   ]
  },
  {
   "cell_type": "code",
   "execution_count": 8,
   "metadata": {},
   "outputs": [
    {
     "data": {
      "text/plain": [
       "0.1"
      ]
     },
     "execution_count": 8,
     "metadata": {},
     "output_type": "execute_result"
    }
   ],
   "source": [
    "# Finally, implement predict function!\n",
    "\n",
    "# TODO: Implement predict function\n",
    "# What would be the value we expect?\n",
    "multiclass_accuracy(model_with_reg.predict(train_X[:30]), train_y[:30]) "
   ]
  },
  {
   "cell_type": "markdown",
   "metadata": {},
   "source": [
    "# Допишем код для процесса тренировки\n",
    "\n",
    "Если все реализовано корректно, значение функции ошибки должно уменьшаться с каждой эпохой, пусть и медленно. Не беспокойтесь пока про validation accuracy."
   ]
  },
  {
   "cell_type": "code",
   "execution_count": 22,
   "metadata": {},
   "outputs": [
    {
     "name": "stdout",
     "output_type": "stream",
     "text": [
      "Epoch: 1:, Loss: 2.136656, Train accuracy: 0.325667, val accuracy: 0.344000\n",
      "Epoch: 2:, Loss: 1.649692, Train accuracy: 0.546778, val accuracy: 0.516000\n",
      "Epoch: 3:, Loss: 1.335937, Train accuracy: 0.603889, val accuracy: 0.604000\n",
      "Epoch: 4:, Loss: 1.190426, Train accuracy: 0.684667, val accuracy: 0.651000\n",
      "Epoch: 5:, Loss: 1.078083, Train accuracy: 0.693000, val accuracy: 0.662000\n",
      "Epoch: 6:, Loss: 1.022692, Train accuracy: 0.696444, val accuracy: 0.657000\n",
      "Epoch: 7:, Loss: 0.961038, Train accuracy: 0.755222, val accuracy: 0.697000\n",
      "Epoch: 8:, Loss: 0.909645, Train accuracy: 0.755111, val accuracy: 0.699000\n",
      "Epoch: 9:, Loss: 0.876118, Train accuracy: 0.768111, val accuracy: 0.687000\n",
      "Epoch: 10:, Loss: 0.813742, Train accuracy: 0.741444, val accuracy: 0.660000\n",
      "Epoch: 11:, Loss: 0.834913, Train accuracy: 0.745778, val accuracy: 0.682000\n",
      "Epoch: 12:, Loss: 0.738433, Train accuracy: 0.803889, val accuracy: 0.713000\n",
      "Epoch: 13:, Loss: 0.739599, Train accuracy: 0.809444, val accuracy: 0.725000\n",
      "Epoch: 14:, Loss: 0.711703, Train accuracy: 0.825444, val accuracy: 0.734000\n",
      "Epoch: 15:, Loss: 0.709209, Train accuracy: 0.813444, val accuracy: 0.716000\n",
      "Epoch: 16:, Loss: 0.682599, Train accuracy: 0.784444, val accuracy: 0.684000\n",
      "Epoch: 17:, Loss: 0.640454, Train accuracy: 0.794556, val accuracy: 0.699000\n",
      "Epoch: 18:, Loss: 0.651426, Train accuracy: 0.755778, val accuracy: 0.654000\n",
      "Epoch: 19:, Loss: 0.624090, Train accuracy: 0.797333, val accuracy: 0.694000\n",
      "Epoch: 20:, Loss: 0.616270, Train accuracy: 0.863000, val accuracy: 0.733000\n"
     ]
    }
   ],
   "source": [
    "model = TwoLayerNet(n_input = train_X.shape[1], n_output = 10, hidden_layer_size = 100, reg = 1e-4) #1e1\n",
    "dataset = Dataset(train_X, train_y, val_X, val_y)\n",
    "trainer = Trainer(model, dataset, SGD(), learning_rate = 1e-2)\n",
    "\n",
    "# TODO Implement missing pieces in Trainer.fit function\n",
    "# You should expect loss to go down every epoch, even if it's slow\n",
    "loss_history, train_history, val_history = trainer.fit()"
   ]
  },
  {
   "cell_type": "code",
   "execution_count": 23,
   "metadata": {},
   "outputs": [
    {
     "data": {
      "text/plain": [
       "[<matplotlib.lines.Line2D at 0x7fd48b35b070>]"
      ]
     },
     "execution_count": 23,
     "metadata": {},
     "output_type": "execute_result"
    },
    {
     "data": {
      "image/png": "[encoded data removed]",
      "text/plain": [
       "<Figure size 432x288 with 1 Axes>"
      ]
     },
     "metadata": {
      "needs_background": "light"
     },
     "output_type": "display_data"
    }
   ],
   "source": [
    "plt.plot(train_history)\n",
    "plt.plot(val_history)"
   ]
  },
  {
   "cell_type": "code",
   "execution_count": 24,
   "metadata": {},
   "outputs": [
    {
     "data": {
      "text/plain": [
       "[<matplotlib.lines.Line2D at 0x7fd48bac2250>]"
      ]
     },
     "execution_count": 24,
     "metadata": {},
     "output_type": "execute_result"
    },
    {
     "data": {
      "image/png": "[encoded data removed]",
      "text/plain": [
       "<Figure size 432x288 with 1 Axes>"
      ]
     },
     "metadata": {
      "needs_background": "light"
     },
     "output_type": "display_data"
    }
   ],
   "source": [
    "plt.plot(loss_history)"
   ]
  },
  {
   "cell_type": "markdown",
   "metadata": {},
   "source": [
    "# Улучшаем процесс тренировки\n",
    "\n",
    "Мы реализуем несколько ключевых оптимизаций, необходимых для тренировки современных нейросетей."
   ]
  },
  {
   "cell_type": "markdown",
   "metadata": {},
   "source": [
    "## Уменьшение скорости обучения (learning rate decay)\n",
    "\n",
    "Одна из необходимых оптимизаций во время тренировки нейронных сетей - постепенное уменьшение скорости обучения по мере тренировки.\n",
    "\n",
    "Один из стандартных методов - уменьшение скорости обучения (learning rate) каждые N эпох на коэффициент d (часто называемый decay). Значения N и d, как всегда, являются гиперпараметрами и должны подбираться на основе эффективности на проверочных данных (validation data). \n",
    "\n",
    "В нашем случае N будет равным 1."
   ]
  },
  {
   "cell_type": "code",
   "execution_count": 26,
   "metadata": {},
   "outputs": [
    {
     "name": "stdout",
     "output_type": "stream",
     "text": [
      "Epoch: 1:, Loss: 2.180947, Train accuracy: 0.306222, val accuracy: 0.317000\n",
      "Epoch: 2:, Loss: 1.923583, Train accuracy: 0.495222, val accuracy: 0.499000\n",
      "Epoch: 3:, Loss: 1.831440, Train accuracy: 0.516222, val accuracy: 0.514000\n",
      "Epoch: 4:, Loss: 1.815076, Train accuracy: 0.553333, val accuracy: 0.520000\n",
      "Epoch: 5:, Loss: 1.802100, Train accuracy: 0.559778, val accuracy: 0.576000\n",
      "Epoch: 6:, Loss: 1.788637, Train accuracy: 0.541778, val accuracy: 0.527000\n",
      "Epoch: 7:, Loss: 1.786339, Train accuracy: 0.602111, val accuracy: 0.597000\n",
      "Epoch: 8:, Loss: 1.793315, Train accuracy: 0.594556, val accuracy: 0.579000\n",
      "Epoch: 9:, Loss: 1.777327, Train accuracy: 0.557111, val accuracy: 0.574000\n",
      "Epoch: 10:, Loss: 1.775627, Train accuracy: 0.603111, val accuracy: 0.602000\n",
      "Epoch: 11:, Loss: 1.773415, Train accuracy: 0.612667, val accuracy: 0.587000\n",
      "Epoch: 12:, Loss: 1.774800, Train accuracy: 0.622889, val accuracy: 0.600000\n",
      "Epoch: 13:, Loss: 1.762728, Train accuracy: 0.598444, val accuracy: 0.581000\n",
      "Epoch: 14:, Loss: 1.754482, Train accuracy: 0.577222, val accuracy: 0.569000\n",
      "Epoch: 15:, Loss: 1.765281, Train accuracy: 0.600111, val accuracy: 0.565000\n",
      "Epoch: 16:, Loss: 1.748808, Train accuracy: 0.556889, val accuracy: 0.561000\n",
      "Epoch: 17:, Loss: 1.752482, Train accuracy: 0.656444, val accuracy: 0.634000\n",
      "Epoch: 18:, Loss: 1.748511, Train accuracy: 0.640000, val accuracy: 0.616000\n",
      "Epoch: 19:, Loss: 1.738255, Train accuracy: 0.648667, val accuracy: 0.628000\n",
      "Epoch: 20:, Loss: 1.728117, Train accuracy: 0.597000, val accuracy: 0.584000\n"
     ]
    }
   ],
   "source": [
    "# TODO Implement learning rate decay inside Trainer.fit method\n",
    "# Decay should happen once per epoch\n",
    "\n",
    "model = TwoLayerNet(n_input = train_X.shape[1], n_output = 10, hidden_layer_size = 100, reg = 1e-1)\n",
    "dataset = Dataset(train_X, train_y, val_X, val_y)\n",
    "trainer = Trainer(model, dataset, SGD(), learning_rate_decay=0.99)\n",
    "\n",
    "initial_learning_rate = trainer.learning_rate\n",
    "loss_history, train_history, val_history = trainer.fit()\n",
    "\n",
    "assert trainer.learning_rate < initial_learning_rate, \"Learning rate should've been reduced\"\n",
    "assert trainer.learning_rate > 0.5*initial_learning_rate, \"Learning rate shouldn'tve been reduced that much!\""
   ]
  },
  {
   "cell_type": "markdown",
   "metadata": {},
   "source": [
    "# Накопление импульса (Momentum SGD)\n",
    "\n",
    "Другой большой класс оптимизаций - использование более эффективных методов градиентного спуска. Мы реализуем один из них - накопление импульса (Momentum SGD).\n",
    "\n",
    "Этот метод хранит скорость движения, использует градиент для ее изменения на каждом шаге, и изменяет веса пропорционально значению скорости.\n",
    "(Физическая аналогия: Вместо скорости градиенты теперь будут задавать ускорение, но будет присутствовать сила трения.)\n",
    "\n",
    "```\n",
    "velocity = momentum * velocity - learning_rate * gradient \n",
    "w = w + velocity\n",
    "```\n",
    "\n",
    "`momentum` здесь коэффициент затухания, который тоже является гиперпараметром (к счастью, для него часто есть хорошее значение по умолчанию, типичный диапазон -- 0.8-0.99).\n",
    "\n",
    "Несколько полезных ссылок, где метод разбирается более подробно:  \n",
    "http://cs231n.github.io/neural-networks-3/#sgd  \n",
    "https://distill.pub/2017/momentum/"
   ]
  },
  {
   "cell_type": "code",
   "execution_count": 192,
   "metadata": {},
   "outputs": [
    {
     "name": "stdout",
     "output_type": "stream",
     "text": [
      "Epoch: 1:, Loss: 2.263594, Train accuracy: 0.196667, val accuracy: 0.206000\n",
      "Epoch: 2:, Loss: 2.236137, Train accuracy: 0.196667, val accuracy: 0.206000\n",
      "Epoch: 3:, Loss: 2.230521, Train accuracy: 0.196667, val accuracy: 0.206000\n",
      "Epoch: 4:, Loss: 2.214856, Train accuracy: 0.196667, val accuracy: 0.206000\n",
      "Epoch: 5:, Loss: 2.175385, Train accuracy: 0.207556, val accuracy: 0.215000\n",
      "Epoch: 6:, Loss: 2.134266, Train accuracy: 0.250000, val accuracy: 0.250000\n",
      "Epoch: 7:, Loss: 2.095533, Train accuracy: 0.272444, val accuracy: 0.272000\n",
      "Epoch: 8:, Loss: 2.041778, Train accuracy: 0.288556, val accuracy: 0.295000\n",
      "Epoch: 9:, Loss: 1.974068, Train accuracy: 0.346556, val accuracy: 0.350000\n",
      "Epoch: 10:, Loss: 1.904163, Train accuracy: 0.381222, val accuracy: 0.367000\n",
      "Epoch: 11:, Loss: 1.841721, Train accuracy: 0.413889, val accuracy: 0.402000\n",
      "Epoch: 12:, Loss: 1.788450, Train accuracy: 0.434667, val accuracy: 0.414000\n",
      "Epoch: 13:, Loss: 1.744786, Train accuracy: 0.481444, val accuracy: 0.475000\n",
      "Epoch: 14:, Loss: 1.703217, Train accuracy: 0.521778, val accuracy: 0.513000\n",
      "Epoch: 15:, Loss: 1.662619, Train accuracy: 0.545444, val accuracy: 0.542000\n",
      "Epoch: 16:, Loss: 1.629212, Train accuracy: 0.573000, val accuracy: 0.564000\n",
      "Epoch: 17:, Loss: 1.598798, Train accuracy: 0.588556, val accuracy: 0.581000\n",
      "Epoch: 18:, Loss: 1.572309, Train accuracy: 0.601889, val accuracy: 0.601000\n",
      "Epoch: 19:, Loss: 1.553999, Train accuracy: 0.612667, val accuracy: 0.612000\n",
      "Epoch: 20:, Loss: 1.536940, Train accuracy: 0.627778, val accuracy: 0.618000\n"
     ]
    }
   ],
   "source": [
    "# TODO: Implement MomentumSGD.update function in optim.py\n",
    "\n",
    "model = TwoLayerNet(n_input = train_X.shape[1], n_output = 10, hidden_layer_size = 100, reg = 1e-1)\n",
    "dataset = Dataset(train_X, train_y, val_X, val_y)\n",
    "trainer = Trainer(model, dataset, MomentumSGD(), learning_rate=1e-4, learning_rate_decay=0.99)\n",
    "\n",
    "# You should see even better results than before!\n",
    "loss_history, train_history, val_history = trainer.fit()"
   ]
  },
  {
   "cell_type": "markdown",
   "metadata": {},
   "source": [
    "# Ну что, давайте уже тренировать сеть!"
   ]
  },
  {
   "cell_type": "markdown",
   "metadata": {},
   "source": [
    "## Последний тест - переобучимся (overfit) на маленьком наборе данных\n",
    "\n",
    "Хороший способ проверить, все ли реализовано корректно - переобучить сеть на маленьком наборе данных.  \n",
    "Наша модель обладает достаточной мощностью, чтобы приблизить маленький набор данных идеально, поэтому мы ожидаем, что на нем мы быстро дойдем до 100% точности на тренировочном наборе. \n",
    "\n",
    "Если этого не происходит, то где-то была допущена ошибка!"
   ]
  },
  {
   "cell_type": "code",
   "execution_count": 62,
   "metadata": {},
   "outputs": [
    {
     "name": "stdout",
     "output_type": "stream",
     "text": [
      "Epoch: 1:, Loss: 2.313370, Train accuracy: 0.200000, val accuracy: 0.133333\n",
      "Epoch: 2:, Loss: 2.305011, Train accuracy: 0.200000, val accuracy: 0.133333\n",
      "Epoch: 3:, Loss: 2.298854, Train accuracy: 0.200000, val accuracy: 0.133333\n",
      "Epoch: 4:, Loss: 2.292870, Train accuracy: 0.200000, val accuracy: 0.133333\n",
      "Epoch: 5:, Loss: 2.290371, Train accuracy: 0.200000, val accuracy: 0.133333\n",
      "Epoch: 6:, Loss: 2.283197, Train accuracy: 0.200000, val accuracy: 0.133333\n",
      "Epoch: 7:, Loss: 2.278006, Train accuracy: 0.200000, val accuracy: 0.133333\n",
      "Epoch: 8:, Loss: 2.272471, Train accuracy: 0.200000, val accuracy: 0.133333\n",
      "Epoch: 9:, Loss: 2.268757, Train accuracy: 0.200000, val accuracy: 0.133333\n",
      "Epoch: 10:, Loss: 2.261246, Train accuracy: 0.200000, val accuracy: 0.133333\n",
      "Epoch: 11:, Loss: 2.252093, Train accuracy: 0.200000, val accuracy: 0.066667\n",
      "Epoch: 12:, Loss: 2.239125, Train accuracy: 0.200000, val accuracy: 0.066667\n",
      "Epoch: 13:, Loss: 2.223542, Train accuracy: 0.266667, val accuracy: 0.000000\n",
      "Epoch: 14:, Loss: 2.199134, Train accuracy: 0.266667, val accuracy: 0.000000\n",
      "Epoch: 15:, Loss: 2.172120, Train accuracy: 0.400000, val accuracy: 0.000000\n",
      "Epoch: 16:, Loss: 2.122555, Train accuracy: 0.400000, val accuracy: 0.000000\n",
      "Epoch: 17:, Loss: 2.068201, Train accuracy: 0.400000, val accuracy: 0.000000\n",
      "Epoch: 18:, Loss: 2.027021, Train accuracy: 0.400000, val accuracy: 0.000000\n",
      "Epoch: 19:, Loss: 1.958833, Train accuracy: 0.400000, val accuracy: 0.000000\n",
      "Epoch: 20:, Loss: 1.926733, Train accuracy: 0.400000, val accuracy: 0.000000\n",
      "Epoch: 21:, Loss: 1.866854, Train accuracy: 0.400000, val accuracy: 0.000000\n",
      "Epoch: 22:, Loss: 1.814602, Train accuracy: 0.400000, val accuracy: 0.000000\n",
      "Epoch: 23:, Loss: 1.757347, Train accuracy: 0.333333, val accuracy: 0.000000\n",
      "Epoch: 24:, Loss: 1.723460, Train accuracy: 0.333333, val accuracy: 0.000000\n",
      "Epoch: 25:, Loss: 1.689751, Train accuracy: 0.333333, val accuracy: 0.000000\n",
      "Epoch: 26:, Loss: 1.660959, Train accuracy: 0.333333, val accuracy: 0.000000\n",
      "Epoch: 27:, Loss: 1.668133, Train accuracy: 0.333333, val accuracy: 0.000000\n",
      "Epoch: 28:, Loss: 1.674847, Train accuracy: 0.333333, val accuracy: 0.000000\n",
      "Epoch: 29:, Loss: 1.635073, Train accuracy: 0.400000, val accuracy: 0.000000\n",
      "Epoch: 30:, Loss: 1.616392, Train accuracy: 0.400000, val accuracy: 0.000000\n",
      "Epoch: 31:, Loss: 1.587625, Train accuracy: 0.400000, val accuracy: 0.000000\n",
      "Epoch: 32:, Loss: 1.618051, Train accuracy: 0.466667, val accuracy: 0.000000\n",
      "Epoch: 33:, Loss: 1.561654, Train accuracy: 0.466667, val accuracy: 0.000000\n",
      "Epoch: 34:, Loss: 1.561475, Train accuracy: 0.466667, val accuracy: 0.000000\n",
      "Epoch: 35:, Loss: 1.539422, Train accuracy: 0.466667, val accuracy: 0.000000\n",
      "Epoch: 36:, Loss: 1.536005, Train accuracy: 0.466667, val accuracy: 0.000000\n",
      "Epoch: 37:, Loss: 1.533621, Train accuracy: 0.466667, val accuracy: 0.000000\n",
      "Epoch: 38:, Loss: 1.487996, Train accuracy: 0.466667, val accuracy: 0.000000\n",
      "Epoch: 39:, Loss: 1.454609, Train accuracy: 0.466667, val accuracy: 0.000000\n",
      "Epoch: 40:, Loss: 1.451219, Train accuracy: 0.466667, val accuracy: 0.066667\n",
      "Epoch: 41:, Loss: 1.419222, Train accuracy: 0.466667, val accuracy: 0.066667\n",
      "Epoch: 42:, Loss: 1.413765, Train accuracy: 0.533333, val accuracy: 0.066667\n",
      "Epoch: 43:, Loss: 1.402263, Train accuracy: 0.466667, val accuracy: 0.066667\n",
      "Epoch: 44:, Loss: 1.387391, Train accuracy: 0.533333, val accuracy: 0.066667\n",
      "Epoch: 45:, Loss: 1.360738, Train accuracy: 0.533333, val accuracy: 0.066667\n",
      "Epoch: 46:, Loss: 1.381738, Train accuracy: 0.533333, val accuracy: 0.066667\n",
      "Epoch: 47:, Loss: 1.326261, Train accuracy: 0.533333, val accuracy: 0.066667\n",
      "Epoch: 48:, Loss: 1.319453, Train accuracy: 0.533333, val accuracy: 0.066667\n",
      "Epoch: 49:, Loss: 1.289167, Train accuracy: 0.600000, val accuracy: 0.066667\n",
      "Epoch: 50:, Loss: 1.282583, Train accuracy: 0.600000, val accuracy: 0.066667\n",
      "Epoch: 51:, Loss: 1.264379, Train accuracy: 0.600000, val accuracy: 0.066667\n",
      "Epoch: 52:, Loss: 1.261500, Train accuracy: 0.600000, val accuracy: 0.066667\n",
      "Epoch: 53:, Loss: 1.227323, Train accuracy: 0.600000, val accuracy: 0.066667\n",
      "Epoch: 54:, Loss: 1.220694, Train accuracy: 0.600000, val accuracy: 0.066667\n",
      "Epoch: 55:, Loss: 1.205380, Train accuracy: 0.600000, val accuracy: 0.066667\n",
      "Epoch: 56:, Loss: 1.185096, Train accuracy: 0.666667, val accuracy: 0.066667\n",
      "Epoch: 57:, Loss: 1.168335, Train accuracy: 0.666667, val accuracy: 0.066667\n",
      "Epoch: 58:, Loss: 1.167839, Train accuracy: 0.733333, val accuracy: 0.066667\n",
      "Epoch: 59:, Loss: 1.141402, Train accuracy: 0.733333, val accuracy: 0.066667\n",
      "Epoch: 60:, Loss: 1.130949, Train accuracy: 0.733333, val accuracy: 0.066667\n",
      "Epoch: 61:, Loss: 1.111060, Train accuracy: 0.733333, val accuracy: 0.066667\n",
      "Epoch: 62:, Loss: 1.099369, Train accuracy: 0.733333, val accuracy: 0.066667\n",
      "Epoch: 63:, Loss: 1.100841, Train accuracy: 0.733333, val accuracy: 0.066667\n",
      "Epoch: 64:, Loss: 1.074251, Train accuracy: 0.733333, val accuracy: 0.066667\n",
      "Epoch: 65:, Loss: 1.067507, Train accuracy: 0.733333, val accuracy: 0.066667\n",
      "Epoch: 66:, Loss: 1.036991, Train accuracy: 0.733333, val accuracy: 0.066667\n",
      "Epoch: 67:, Loss: 1.017461, Train accuracy: 0.800000, val accuracy: 0.066667\n",
      "Epoch: 68:, Loss: 0.998012, Train accuracy: 0.800000, val accuracy: 0.066667\n",
      "Epoch: 69:, Loss: 1.001466, Train accuracy: 0.800000, val accuracy: 0.066667\n",
      "Epoch: 70:, Loss: 0.978072, Train accuracy: 0.800000, val accuracy: 0.066667\n",
      "Epoch: 71:, Loss: 0.941772, Train accuracy: 0.800000, val accuracy: 0.066667\n",
      "Epoch: 72:, Loss: 0.922809, Train accuracy: 0.800000, val accuracy: 0.066667\n",
      "Epoch: 73:, Loss: 0.904720, Train accuracy: 0.800000, val accuracy: 0.066667\n",
      "Epoch: 74:, Loss: 0.892158, Train accuracy: 0.800000, val accuracy: 0.066667\n",
      "Epoch: 75:, Loss: 0.888522, Train accuracy: 0.800000, val accuracy: 0.066667\n",
      "Epoch: 76:, Loss: 0.866230, Train accuracy: 0.800000, val accuracy: 0.066667\n",
      "Epoch: 77:, Loss: 0.855476, Train accuracy: 0.800000, val accuracy: 0.066667\n",
      "Epoch: 78:, Loss: 0.847154, Train accuracy: 0.800000, val accuracy: 0.066667\n",
      "Epoch: 79:, Loss: 0.824048, Train accuracy: 0.800000, val accuracy: 0.066667\n",
      "Epoch: 80:, Loss: 0.823714, Train accuracy: 0.800000, val accuracy: 0.066667\n",
      "Epoch: 81:, Loss: 0.815330, Train accuracy: 0.800000, val accuracy: 0.066667\n",
      "Epoch: 82:, Loss: 0.806776, Train accuracy: 0.800000, val accuracy: 0.066667\n",
      "Epoch: 83:, Loss: 0.796364, Train accuracy: 0.800000, val accuracy: 0.066667\n",
      "Epoch: 84:, Loss: 0.798389, Train accuracy: 0.800000, val accuracy: 0.066667\n",
      "Epoch: 85:, Loss: 0.783314, Train accuracy: 0.800000, val accuracy: 0.066667\n",
      "Epoch: 86:, Loss: 0.778143, Train accuracy: 0.800000, val accuracy: 0.066667\n",
      "Epoch: 87:, Loss: 0.770104, Train accuracy: 0.800000, val accuracy: 0.066667\n",
      "Epoch: 88:, Loss: 0.765334, Train accuracy: 0.800000, val accuracy: 0.066667\n",
      "Epoch: 89:, Loss: 0.758294, Train accuracy: 0.800000, val accuracy: 0.066667\n",
      "Epoch: 90:, Loss: 0.746352, Train accuracy: 0.800000, val accuracy: 0.066667\n",
      "Epoch: 91:, Loss: 0.748944, Train accuracy: 0.800000, val accuracy: 0.066667\n",
      "Epoch: 92:, Loss: 0.738888, Train accuracy: 0.800000, val accuracy: 0.066667\n",
      "Epoch: 93:, Loss: 0.734974, Train accuracy: 0.800000, val accuracy: 0.066667\n",
      "Epoch: 94:, Loss: 0.728807, Train accuracy: 0.800000, val accuracy: 0.066667\n",
      "Epoch: 95:, Loss: 0.724683, Train accuracy: 0.866667, val accuracy: 0.066667\n",
      "Epoch: 96:, Loss: 0.722458, Train accuracy: 0.866667, val accuracy: 0.066667\n",
      "Epoch: 97:, Loss: 0.713364, Train accuracy: 0.866667, val accuracy: 0.066667\n",
      "Epoch: 98:, Loss: 0.705964, Train accuracy: 0.866667, val accuracy: 0.066667\n",
      "Epoch: 99:, Loss: 0.698848, Train accuracy: 0.933333, val accuracy: 0.066667\n",
      "Epoch: 100:, Loss: 0.690982, Train accuracy: 0.933333, val accuracy: 0.066667\n",
      "Epoch: 101:, Loss: 0.684375, Train accuracy: 1.000000, val accuracy: 0.066667\n",
      "Epoch: 102:, Loss: 0.680712, Train accuracy: 1.000000, val accuracy: 0.066667\n",
      "Epoch: 103:, Loss: 0.673289, Train accuracy: 1.000000, val accuracy: 0.066667\n",
      "Epoch: 104:, Loss: 0.661091, Train accuracy: 1.000000, val accuracy: 0.066667\n",
      "Epoch: 105:, Loss: 0.659893, Train accuracy: 1.000000, val accuracy: 0.066667\n",
      "Epoch: 106:, Loss: 0.651176, Train accuracy: 1.000000, val accuracy: 0.066667\n",
      "Epoch: 107:, Loss: 0.640074, Train accuracy: 1.000000, val accuracy: 0.066667\n"
     ]
    },
    {
     "name": "stdout",
     "output_type": "stream",
     "text": [
      "Epoch: 108:, Loss: 0.634157, Train accuracy: 1.000000, val accuracy: 0.066667\n",
      "Epoch: 109:, Loss: 0.624932, Train accuracy: 1.000000, val accuracy: 0.066667\n",
      "Epoch: 110:, Loss: 0.615278, Train accuracy: 1.000000, val accuracy: 0.066667\n",
      "Epoch: 111:, Loss: 0.606355, Train accuracy: 1.000000, val accuracy: 0.066667\n",
      "Epoch: 112:, Loss: 0.594899, Train accuracy: 1.000000, val accuracy: 0.066667\n",
      "Epoch: 113:, Loss: 0.589208, Train accuracy: 1.000000, val accuracy: 0.066667\n",
      "Epoch: 114:, Loss: 0.574491, Train accuracy: 1.000000, val accuracy: 0.066667\n",
      "Epoch: 115:, Loss: 0.565395, Train accuracy: 1.000000, val accuracy: 0.066667\n",
      "Epoch: 116:, Loss: 0.555633, Train accuracy: 1.000000, val accuracy: 0.066667\n",
      "Epoch: 117:, Loss: 0.547651, Train accuracy: 1.000000, val accuracy: 0.066667\n",
      "Epoch: 118:, Loss: 0.536141, Train accuracy: 1.000000, val accuracy: 0.066667\n",
      "Epoch: 119:, Loss: 0.528902, Train accuracy: 1.000000, val accuracy: 0.066667\n",
      "Epoch: 120:, Loss: 0.517071, Train accuracy: 1.000000, val accuracy: 0.066667\n",
      "Epoch: 121:, Loss: 0.508045, Train accuracy: 1.000000, val accuracy: 0.066667\n",
      "Epoch: 122:, Loss: 0.500894, Train accuracy: 1.000000, val accuracy: 0.066667\n",
      "Epoch: 123:, Loss: 0.491943, Train accuracy: 1.000000, val accuracy: 0.066667\n",
      "Epoch: 124:, Loss: 0.482652, Train accuracy: 1.000000, val accuracy: 0.066667\n",
      "Epoch: 125:, Loss: 0.477132, Train accuracy: 1.000000, val accuracy: 0.066667\n",
      "Epoch: 126:, Loss: 0.468378, Train accuracy: 1.000000, val accuracy: 0.066667\n",
      "Epoch: 127:, Loss: 0.460650, Train accuracy: 1.000000, val accuracy: 0.066667\n",
      "Epoch: 128:, Loss: 0.457227, Train accuracy: 1.000000, val accuracy: 0.066667\n",
      "Epoch: 129:, Loss: 0.449664, Train accuracy: 1.000000, val accuracy: 0.066667\n",
      "Epoch: 130:, Loss: 0.445722, Train accuracy: 1.000000, val accuracy: 0.066667\n",
      "Epoch: 131:, Loss: 0.442139, Train accuracy: 1.000000, val accuracy: 0.066667\n",
      "Epoch: 132:, Loss: 0.438010, Train accuracy: 1.000000, val accuracy: 0.066667\n",
      "Epoch: 133:, Loss: 0.432129, Train accuracy: 1.000000, val accuracy: 0.066667\n",
      "Epoch: 134:, Loss: 0.428875, Train accuracy: 1.000000, val accuracy: 0.066667\n",
      "Epoch: 135:, Loss: 0.425158, Train accuracy: 1.000000, val accuracy: 0.066667\n",
      "Epoch: 136:, Loss: 0.423878, Train accuracy: 1.000000, val accuracy: 0.066667\n",
      "Epoch: 137:, Loss: 0.420009, Train accuracy: 1.000000, val accuracy: 0.066667\n",
      "Epoch: 138:, Loss: 0.419226, Train accuracy: 1.000000, val accuracy: 0.000000\n",
      "Epoch: 139:, Loss: 0.417034, Train accuracy: 1.000000, val accuracy: 0.000000\n",
      "Epoch: 140:, Loss: 0.415421, Train accuracy: 1.000000, val accuracy: 0.000000\n",
      "Epoch: 141:, Loss: 0.413926, Train accuracy: 1.000000, val accuracy: 0.000000\n",
      "Epoch: 142:, Loss: 0.411466, Train accuracy: 1.000000, val accuracy: 0.000000\n",
      "Epoch: 143:, Loss: 0.410848, Train accuracy: 1.000000, val accuracy: 0.000000\n",
      "Epoch: 144:, Loss: 0.409986, Train accuracy: 1.000000, val accuracy: 0.000000\n",
      "Epoch: 145:, Loss: 0.407201, Train accuracy: 1.000000, val accuracy: 0.000000\n",
      "Epoch: 146:, Loss: 0.406081, Train accuracy: 1.000000, val accuracy: 0.000000\n",
      "Epoch: 147:, Loss: 0.405594, Train accuracy: 1.000000, val accuracy: 0.000000\n",
      "Epoch: 148:, Loss: 0.403252, Train accuracy: 1.000000, val accuracy: 0.000000\n",
      "Epoch: 149:, Loss: 0.402678, Train accuracy: 1.000000, val accuracy: 0.000000\n",
      "Epoch: 150:, Loss: 0.402979, Train accuracy: 1.000000, val accuracy: 0.000000\n"
     ]
    }
   ],
   "source": [
    "data_size = 15\n",
    "model = TwoLayerNet(n_input = train_X.shape[1], n_output = 10, hidden_layer_size = 100, reg = 1e-1)\n",
    "dataset = Dataset(train_X[:data_size], train_y[:data_size], val_X[:data_size], val_y[:data_size])\n",
    "trainer = Trainer(model, dataset, SGD(), learning_rate=1e-2, num_epochs=150, batch_size=5)\n",
    "\n",
    "# You should expect this to reach 1.0 training accuracy \n",
    "loss_history, train_history, val_history = trainer.fit()"
   ]
  },
  {
   "cell_type": "markdown",
   "metadata": {},
   "source": [
    "Теперь найдем гипепараметры, для которых этот процесс сходится быстрее.\n",
    "Если все реализовано корректно, то существуют параметры, при которых процесс сходится в **20** эпох или еще быстрее.\n",
    "Найдите их!"
   ]
  },
  {
   "cell_type": "code",
   "execution_count": 149,
   "metadata": {},
   "outputs": [
    {
     "name": "stdout",
     "output_type": "stream",
     "text": [
      "Epoch: 1:, Loss: 2.301127, Train accuracy: 0.200000, val accuracy: 0.133333\n",
      "Epoch: 2:, Loss: 2.272814, Train accuracy: 0.200000, val accuracy: 0.133333\n",
      "Epoch: 3:, Loss: 2.241802, Train accuracy: 0.266667, val accuracy: 0.066667\n",
      "Epoch: 4:, Loss: 2.173250, Train accuracy: 0.400000, val accuracy: 0.000000\n",
      "Epoch: 5:, Loss: 1.969030, Train accuracy: 0.400000, val accuracy: 0.000000\n",
      "Epoch: 6:, Loss: 1.731063, Train accuracy: 0.333333, val accuracy: 0.066667\n",
      "Epoch: 7:, Loss: 1.759590, Train accuracy: 0.400000, val accuracy: 0.133333\n",
      "Epoch: 8:, Loss: 1.824562, Train accuracy: 0.466667, val accuracy: 0.000000\n",
      "Epoch: 9:, Loss: 1.648372, Train accuracy: 0.466667, val accuracy: 0.000000\n",
      "Epoch: 10:, Loss: 1.413341, Train accuracy: 0.466667, val accuracy: 0.066667\n",
      "Epoch: 11:, Loss: 1.292311, Train accuracy: 0.600000, val accuracy: 0.066667\n",
      "Epoch: 12:, Loss: 1.264750, Train accuracy: 0.666667, val accuracy: 0.000000\n",
      "Epoch: 13:, Loss: 1.209340, Train accuracy: 0.600000, val accuracy: 0.000000\n",
      "Epoch: 14:, Loss: 1.124906, Train accuracy: 0.800000, val accuracy: 0.000000\n",
      "Epoch: 15:, Loss: 0.811229, Train accuracy: 0.800000, val accuracy: 0.133333\n",
      "Epoch: 16:, Loss: 0.696821, Train accuracy: 0.800000, val accuracy: 0.066667\n",
      "Epoch: 17:, Loss: 0.550553, Train accuracy: 0.933333, val accuracy: 0.066667\n",
      "Epoch: 18:, Loss: 0.463780, Train accuracy: 0.933333, val accuracy: 0.066667\n",
      "Epoch: 19:, Loss: 0.378649, Train accuracy: 1.000000, val accuracy: 0.066667\n",
      "Epoch: 20:, Loss: 0.301259, Train accuracy: 1.000000, val accuracy: 0.066667\n"
     ]
    }
   ],
   "source": [
    "model = TwoLayerNet(n_input = train_X.shape[1], n_output = 10, hidden_layer_size = 200, reg = 1e-5)\n",
    "dataset = Dataset(train_X[:data_size], train_y[:data_size], val_X[:data_size], val_y[:data_size])\n",
    "\n",
    "#trainer = Trainer(model, dataset, MomentumSGD(), learning_rate=3e-2, learning_rate_decay=0.99)\n",
    "trainer = Trainer(model, dataset, SGD(), learning_rate=5e-2, num_epochs=20, batch_size=5)\n",
    "\n",
    "loss_history, train_history, val_history = trainer.fit()"
   ]
  },
  {
   "cell_type": "code",
   "execution_count": 150,
   "metadata": {},
   "outputs": [
    {
     "name": "stdout",
     "output_type": "stream",
     "text": [
      "Epoch: 1:, Loss: 1.726814, Train accuracy: 0.200000, val accuracy: 0.066667\n",
      "Epoch: 2:, Loss: 1.725487, Train accuracy: 0.200000, val accuracy: 0.066667\n",
      "Epoch: 3:, Loss: 1.711575, Train accuracy: 0.266667, val accuracy: 0.066667\n",
      "Epoch: 4:, Loss: 1.687510, Train accuracy: 0.266667, val accuracy: 0.000000\n",
      "Epoch: 5:, Loss: 1.650604, Train accuracy: 0.266667, val accuracy: 0.000000\n",
      "Epoch: 6:, Loss: 1.573816, Train accuracy: 0.400000, val accuracy: 0.000000\n",
      "Epoch: 7:, Loss: 1.399941, Train accuracy: 0.400000, val accuracy: 0.000000\n",
      "Epoch: 8:, Loss: 1.243898, Train accuracy: 0.333333, val accuracy: 0.066667\n",
      "Epoch: 9:, Loss: 1.337942, Train accuracy: 0.400000, val accuracy: 0.133333\n",
      "Epoch: 10:, Loss: 1.222172, Train accuracy: 0.600000, val accuracy: 0.000000\n",
      "Epoch: 11:, Loss: 0.998845, Train accuracy: 0.533333, val accuracy: 0.000000\n",
      "Epoch: 12:, Loss: 0.844013, Train accuracy: 0.666667, val accuracy: 0.000000\n",
      "Epoch: 13:, Loss: 0.669868, Train accuracy: 0.733333, val accuracy: 0.066667\n",
      "Epoch: 14:, Loss: 0.501299, Train accuracy: 0.800000, val accuracy: 0.066667\n",
      "Epoch: 15:, Loss: 0.344888, Train accuracy: 0.933333, val accuracy: 0.066667\n",
      "Epoch: 16:, Loss: 0.192741, Train accuracy: 1.000000, val accuracy: 0.066667\n",
      "Epoch: 17:, Loss: 0.067305, Train accuracy: 1.000000, val accuracy: 0.000000\n",
      "Epoch: 18:, Loss: 0.027526, Train accuracy: 1.000000, val accuracy: 0.000000\n",
      "Epoch: 19:, Loss: 0.003541, Train accuracy: 1.000000, val accuracy: 0.000000\n",
      "Epoch: 20:, Loss: 0.000902, Train accuracy: 1.000000, val accuracy: 0.000000\n"
     ]
    }
   ],
   "source": [
    "# Now, tweak some hyper parameters and make it train to 1.0 accuracy in 20 epochs or less\n",
    "\n",
    "#model = TwoLayerNet(n_input = train_X.shape[1], n_output = 10, hidden_layer_size = 100, reg = 1e-1)\n",
    "model = TwoLayerNet(n_input = train_X.shape[1], n_output = 10, hidden_layer_size = 200, reg = 1e-5)\n",
    "dataset = Dataset(train_X[:data_size], train_y[:data_size], val_X[:data_size], val_y[:data_size])\n",
    "# TODO: Change any hyperparamers or optimizators to reach training accuracy in 20 epochs\n",
    "#trainer = Trainer(model, dataset, SGD(), learning_rate=1e-1, num_epochs=20, batch_size=5)\n",
    "trainer = Trainer(model, dataset, MomentumSGD(), learning_rate=3e-2, learning_rate_decay=0.99)\n",
    "#trainer = Trainer(model, dataset, SGD(), learning_rate=5e-2, num_epochs=20, batch_size=5)\n",
    "\n",
    "loss_history, train_history, val_history = trainer.fit()"
   ]
  },
  {
   "cell_type": "markdown",
   "metadata": {},
   "source": [
    "# Итак, основное мероприятие!\n",
    "\n",
    "Натренируйте лучшую нейросеть! Можно добавлять и изменять параметры, менять количество нейронов в слоях сети и как угодно экспериментировать. \n",
    "\n",
    "Добейтесь точности лучше **60%** на validation set."
   ]
  },
  {
   "cell_type": "code",
   "execution_count": 189,
   "metadata": {
    "scrolled": false
   },
   "outputs": [
    {
     "name": "stdout",
     "output_type": "stream",
     "text": [
      "Epoch: 1:, Loss: 2.256747, Train accuracy: 0.196667, val accuracy: 0.206000\n",
      "Epoch: 2:, Loss: 2.225294, Train accuracy: 0.196667, val accuracy: 0.206000\n",
      "Epoch: 3:, Loss: 2.219863, Train accuracy: 0.196667, val accuracy: 0.206000\n",
      "Epoch: 4:, Loss: 2.207319, Train accuracy: 0.196667, val accuracy: 0.206000\n",
      "Epoch: 5:, Loss: 2.165845, Train accuracy: 0.208556, val accuracy: 0.215000\n",
      "Epoch: 6:, Loss: 2.107015, Train accuracy: 0.261556, val accuracy: 0.263000\n",
      "Epoch: 7:, Loss: 2.033433, Train accuracy: 0.289444, val accuracy: 0.291000\n",
      "Epoch: 8:, Loss: 1.928398, Train accuracy: 0.341111, val accuracy: 0.346000\n",
      "Epoch: 9:, Loss: 1.798382, Train accuracy: 0.399667, val accuracy: 0.387000\n",
      "Epoch: 10:, Loss: 1.681281, Train accuracy: 0.451222, val accuracy: 0.449000\n",
      "Epoch: 11:, Loss: 1.581271, Train accuracy: 0.486111, val accuracy: 0.483000\n",
      "Epoch: 12:, Loss: 1.496782, Train accuracy: 0.530333, val accuracy: 0.534000\n",
      "Epoch: 13:, Loss: 1.416387, Train accuracy: 0.560556, val accuracy: 0.554000\n",
      "Epoch: 14:, Loss: 1.342575, Train accuracy: 0.588333, val accuracy: 0.574000\n",
      "Epoch: 15:, Loss: 1.277755, Train accuracy: 0.618000, val accuracy: 0.591000\n",
      "Epoch: 16:, Loss: 1.220299, Train accuracy: 0.639333, val accuracy: 0.625000\n",
      "Epoch: 17:, Loss: 1.167554, Train accuracy: 0.651667, val accuracy: 0.634000\n",
      "Epoch: 18:, Loss: 1.125820, Train accuracy: 0.662556, val accuracy: 0.649000\n",
      "Epoch: 19:, Loss: 1.086187, Train accuracy: 0.678667, val accuracy: 0.650000\n",
      "Epoch: 20:, Loss: 1.052171, Train accuracy: 0.694000, val accuracy: 0.678000\n",
      "Epoch: 21:, Loss: 1.016948, Train accuracy: 0.705000, val accuracy: 0.686000\n",
      "Epoch: 22:, Loss: 0.985889, Train accuracy: 0.712556, val accuracy: 0.689000\n",
      "Epoch: 23:, Loss: 0.957504, Train accuracy: 0.721222, val accuracy: 0.689000\n",
      "Epoch: 24:, Loss: 0.936251, Train accuracy: 0.721333, val accuracy: 0.698000\n",
      "Epoch: 25:, Loss: 0.914373, Train accuracy: 0.733000, val accuracy: 0.702000\n",
      "Epoch: 26:, Loss: 0.890891, Train accuracy: 0.742333, val accuracy: 0.714000\n",
      "Epoch: 27:, Loss: 0.868781, Train accuracy: 0.746111, val accuracy: 0.710000\n",
      "Epoch: 28:, Loss: 0.850046, Train accuracy: 0.756111, val accuracy: 0.724000\n",
      "Epoch: 29:, Loss: 0.832911, Train accuracy: 0.754889, val accuracy: 0.719000\n",
      "Epoch: 30:, Loss: 0.813181, Train accuracy: 0.761333, val accuracy: 0.722000\n",
      "Epoch: 31:, Loss: 0.798184, Train accuracy: 0.768333, val accuracy: 0.718000\n",
      "Epoch: 32:, Loss: 0.783787, Train accuracy: 0.770667, val accuracy: 0.717000\n",
      "Epoch: 33:, Loss: 0.766782, Train accuracy: 0.778889, val accuracy: 0.727000\n",
      "Epoch: 34:, Loss: 0.754715, Train accuracy: 0.786000, val accuracy: 0.738000\n",
      "Epoch: 35:, Loss: 0.738793, Train accuracy: 0.783556, val accuracy: 0.731000\n",
      "Epoch: 36:, Loss: 0.725587, Train accuracy: 0.793444, val accuracy: 0.717000\n",
      "Epoch: 37:, Loss: 0.709900, Train accuracy: 0.799111, val accuracy: 0.729000\n",
      "Epoch: 38:, Loss: 0.698189, Train accuracy: 0.799778, val accuracy: 0.720000\n",
      "Epoch: 39:, Loss: 0.690695, Train accuracy: 0.799000, val accuracy: 0.737000\n",
      "Epoch: 40:, Loss: 0.675195, Train accuracy: 0.801889, val accuracy: 0.724000\n",
      "Epoch: 41:, Loss: 0.663513, Train accuracy: 0.816444, val accuracy: 0.731000\n",
      "Epoch: 42:, Loss: 0.651914, Train accuracy: 0.809222, val accuracy: 0.728000\n",
      "Epoch: 43:, Loss: 0.643598, Train accuracy: 0.817222, val accuracy: 0.725000\n",
      "Epoch: 44:, Loss: 0.630994, Train accuracy: 0.819000, val accuracy: 0.738000\n",
      "Epoch: 45:, Loss: 0.617382, Train accuracy: 0.826556, val accuracy: 0.736000\n",
      "Epoch: 46:, Loss: 0.610881, Train accuracy: 0.830778, val accuracy: 0.737000\n",
      "Epoch: 47:, Loss: 0.599924, Train accuracy: 0.827111, val accuracy: 0.729000\n",
      "Epoch: 48:, Loss: 0.591166, Train accuracy: 0.838444, val accuracy: 0.736000\n",
      "Epoch: 49:, Loss: 0.577868, Train accuracy: 0.840000, val accuracy: 0.736000\n",
      "Epoch: 50:, Loss: 0.568713, Train accuracy: 0.839222, val accuracy: 0.733000\n",
      "Epoch: 51:, Loss: 0.560477, Train accuracy: 0.845667, val accuracy: 0.743000\n",
      "Epoch: 52:, Loss: 0.554443, Train accuracy: 0.845222, val accuracy: 0.739000\n",
      "Epoch: 53:, Loss: 0.544767, Train accuracy: 0.854111, val accuracy: 0.743000\n",
      "Epoch: 54:, Loss: 0.536472, Train accuracy: 0.850333, val accuracy: 0.745000\n",
      "Epoch: 55:, Loss: 0.528018, Train accuracy: 0.858556, val accuracy: 0.749000\n",
      "Epoch: 56:, Loss: 0.521432, Train accuracy: 0.860444, val accuracy: 0.738000\n",
      "Epoch: 57:, Loss: 0.515948, Train accuracy: 0.863000, val accuracy: 0.745000\n",
      "Epoch: 58:, Loss: 0.503963, Train accuracy: 0.860889, val accuracy: 0.739000\n",
      "Epoch: 59:, Loss: 0.496156, Train accuracy: 0.855222, val accuracy: 0.744000\n",
      "Epoch: 60:, Loss: 0.492194, Train accuracy: 0.870000, val accuracy: 0.746000\n",
      "Epoch: 61:, Loss: 0.480861, Train accuracy: 0.872000, val accuracy: 0.759000\n",
      "Epoch: 62:, Loss: 0.476513, Train accuracy: 0.871556, val accuracy: 0.743000\n",
      "Epoch: 63:, Loss: 0.471922, Train accuracy: 0.871889, val accuracy: 0.742000\n",
      "Epoch: 64:, Loss: 0.466969, Train accuracy: 0.875556, val accuracy: 0.745000\n",
      "Epoch: 65:, Loss: 0.460124, Train accuracy: 0.876889, val accuracy: 0.750000\n",
      "Epoch: 66:, Loss: 0.452787, Train accuracy: 0.878111, val accuracy: 0.751000\n",
      "Epoch: 67:, Loss: 0.446209, Train accuracy: 0.882222, val accuracy: 0.758000\n",
      "Epoch: 68:, Loss: 0.440367, Train accuracy: 0.885778, val accuracy: 0.748000\n",
      "Epoch: 69:, Loss: 0.434460, Train accuracy: 0.879667, val accuracy: 0.751000\n",
      "Epoch: 70:, Loss: 0.426635, Train accuracy: 0.887000, val accuracy: 0.752000\n",
      "Epoch: 71:, Loss: 0.423305, Train accuracy: 0.889111, val accuracy: 0.749000\n",
      "Epoch: 72:, Loss: 0.419639, Train accuracy: 0.889000, val accuracy: 0.754000\n",
      "Epoch: 73:, Loss: 0.412377, Train accuracy: 0.892000, val accuracy: 0.752000\n",
      "Epoch: 74:, Loss: 0.408833, Train accuracy: 0.895889, val accuracy: 0.757000\n",
      "Epoch: 75:, Loss: 0.404160, Train accuracy: 0.893444, val accuracy: 0.756000\n",
      "Epoch: 76:, Loss: 0.396472, Train accuracy: 0.897889, val accuracy: 0.760000\n",
      "Epoch: 77:, Loss: 0.394838, Train accuracy: 0.897889, val accuracy: 0.757000\n",
      "Epoch: 78:, Loss: 0.389454, Train accuracy: 0.900889, val accuracy: 0.750000\n",
      "Epoch: 79:, Loss: 0.381193, Train accuracy: 0.904556, val accuracy: 0.752000\n",
      "Epoch: 80:, Loss: 0.380712, Train accuracy: 0.901778, val accuracy: 0.755000\n",
      "Epoch: 81:, Loss: 0.375882, Train accuracy: 0.906000, val accuracy: 0.765000\n",
      "Epoch: 82:, Loss: 0.371741, Train accuracy: 0.903556, val accuracy: 0.759000\n",
      "Epoch: 83:, Loss: 0.368095, Train accuracy: 0.905222, val accuracy: 0.754000\n",
      "Epoch: 84:, Loss: 0.362566, Train accuracy: 0.908222, val accuracy: 0.758000\n",
      "Epoch: 85:, Loss: 0.359921, Train accuracy: 0.912889, val accuracy: 0.762000\n",
      "Epoch: 86:, Loss: 0.354640, Train accuracy: 0.911667, val accuracy: 0.757000\n",
      "Epoch: 87:, Loss: 0.352645, Train accuracy: 0.915889, val accuracy: 0.773000\n",
      "Epoch: 88:, Loss: 0.348055, Train accuracy: 0.913778, val accuracy: 0.760000\n",
      "Epoch: 89:, Loss: 0.344441, Train accuracy: 0.909778, val accuracy: 0.755000\n",
      "Epoch: 90:, Loss: 0.343620, Train accuracy: 0.915111, val accuracy: 0.760000\n",
      "Epoch: 91:, Loss: 0.338138, Train accuracy: 0.915889, val accuracy: 0.760000\n",
      "Epoch: 92:, Loss: 0.334794, Train accuracy: 0.916667, val accuracy: 0.761000\n",
      "Epoch: 93:, Loss: 0.333722, Train accuracy: 0.919556, val accuracy: 0.768000\n",
      "Epoch: 94:, Loss: 0.328725, Train accuracy: 0.920444, val accuracy: 0.756000\n",
      "Epoch: 95:, Loss: 0.324696, Train accuracy: 0.923556, val accuracy: 0.754000\n",
      "Epoch: 96:, Loss: 0.320989, Train accuracy: 0.923000, val accuracy: 0.760000\n",
      "Epoch: 97:, Loss: 0.319303, Train accuracy: 0.924333, val accuracy: 0.764000\n",
      "Epoch: 98:, Loss: 0.315454, Train accuracy: 0.924333, val accuracy: 0.765000\n",
      "Epoch: 99:, Loss: 0.311443, Train accuracy: 0.925556, val accuracy: 0.760000\n",
      "Epoch: 100:, Loss: 0.309516, Train accuracy: 0.926000, val accuracy: 0.765000\n",
      "best validation accuracy achieved: 0.765000\n"
     ]
    }
   ],
   "source": [
    "# Let's train the best one-hidden-layer network we can\n",
    "\n",
    "learning_rates = 1e-4\n",
    "#learning_rates = [1e-3, 1e-4]\n",
    "reg_strength = 1e-4\n",
    "#reg_strengths = [1e-3, 1e-4]\n",
    "learning_rate_decay = 0.99#9\n",
    "#learning_rate_decays = [.99, .9]\n",
    "hidden_layer_size = 128\n",
    "#hidden_layer_sizes = [100, 150]\n",
    "num_epochs = 100\n",
    "batch_size = 64\n",
    "#batch_sizes = [50, 100]\n",
    "\n",
    "best_classifier = None\n",
    "best_val_accuracy = None\n",
    "\n",
    "loss_history = []\n",
    "train_history = []\n",
    "val_history = []\n",
    "\n",
    "# TODO find the best hyperparameters to train the network\n",
    "# Don't hesitate to add new values to the arrays above, perform experiments, use any tricks you want\n",
    "# You should expect to get to at least 40% of valudation accuracy\n",
    "# Save loss/train/history of the best classifier to the variables above\n",
    "\n",
    "#val_accuracy = 0\n",
    "\n",
    "#for lr in learning_rates:\n",
    "#    for rs in reg_strengths:\n",
    "#        for lrd in learning_rate_decays:\n",
    "#            for hidden_layer_size in hidden_layer_sizes:\n",
    "#                for batch_size in batch_sizes:\n",
    "#                    print(f'Started with LR: {lr}, RS: {rs}, LRD: {lrd}, HLS: {hidden_layer_size}, BS: {batch_size}')\n",
    "\n",
    "model = TwoLayerNet(\n",
    "    n_input = train_X.shape[1], \n",
    "    n_output = 10, \n",
    "    hidden_layer_size = hidden_layer_size, \n",
    "    reg = reg_strength)\n",
    "\n",
    "dataset = Dataset(\n",
    "    train_X, \n",
    "    train_y, \n",
    "    val_X, \n",
    "    val_y)\n",
    "\n",
    "#trainer = Trainer(model, dataset, SGD(), learning_rate=1e-1, num_epochs=20, batch_size=5)\n",
    "trainer = Trainer(\n",
    "    model, \n",
    "    dataset, \n",
    "    MomentumSGD(), \n",
    "    learning_rate=learning_rates, \n",
    "    learning_rate_decay=learning_rate_decay,\n",
    "    batch_size=batch_size,\n",
    "    num_epochs=num_epochs)\n",
    "\n",
    "_loss_history, _train_history, _val_history = trainer.fit()\n",
    "\n",
    "if _val_history[-1] > val_accuracy:\n",
    "    best_classifier = model\n",
    "    best_val_accuracy = _val_history[-1]\n",
    "    loss_history = _loss_history, \n",
    "    train_history = _train_history,\n",
    "    val_history = _val_history\n",
    "                        \n",
    "print('best validation accuracy achieved: %f' % best_val_accuracy)"
   ]
  },
  {
   "cell_type": "code",
   "execution_count": 190,
   "metadata": {
    "scrolled": false
   },
   "outputs": [
    {
     "data": {
      "text/plain": [
       "[<matplotlib.lines.Line2D at 0x7fd48bbfb7c0>]"
      ]
     },
     "execution_count": 190,
     "metadata": {},
     "output_type": "execute_result"
    },
    {
     "data": {
      "image/png": "[encoded data removed]",
      "text/plain": [
       "<Figure size 1080x504 with 2 Axes>"
      ]
     },
     "metadata": {
      "needs_background": "light"
     },
     "output_type": "display_data"
    }
   ],
   "source": [
    "plt.figure(figsize=(15, 7))\n",
    "plt.subplot(211)\n",
    "plt.title(\"Loss\")\n",
    "plt.plot(loss_history[0])\n",
    "plt.subplot(212)\n",
    "plt.title(\"Train/validation accuracy\")\n",
    "plt.plot(train_history[0])\n",
    "plt.plot(val_history)"
   ]
  },
  {
   "cell_type": "markdown",
   "metadata": {},
   "source": [
    "# Как обычно, посмотрим, как наша лучшая модель работает на тестовых данных"
   ]
  },
  {
   "cell_type": "code",
   "execution_count": 191,
   "metadata": {},
   "outputs": [
    {
     "name": "stdout",
     "output_type": "stream",
     "text": [
      "Neural net test set accuracy: 0.745000\n"
     ]
    }
   ],
   "source": [
    "test_pred = best_classifier.predict(test_X)\n",
    "test_accuracy = multiclass_accuracy(test_pred, test_y)\n",
    "print('Neural net test set accuracy: %f' % (test_accuracy, ))"
   ]
  }
 ],
 "metadata": {
  "kernelspec": {
   "display_name": "Python 3",
   "language": "python",
   "name": "python3"
  },
  "language_info": {
   "codemirror_mode": {
    "name": "ipython",
    "version": 3
   },
   "file_extension": ".py",
   "mimetype": "text/x-python",
   "name": "python",
   "nbconvert_exporter": "python",
   "pygments_lexer": "ipython3",
   "version": "3.9.0"
  }
 },
 "nbformat": 4,
 "nbformat_minor": 2
}
