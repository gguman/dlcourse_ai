{
 "cells": [
  {
   "cell_type": "markdown",
   "metadata": {},
   "source": [
    "# Задание 1.2 - Линейный классификатор (Linear classifier)\n",
    "\n",
    "В этом задании мы реализуем другую модель машинного обучения - линейный классификатор. Линейный классификатор подбирает для каждого класса веса, на которые нужно умножить значение каждого признака и потом сложить вместе.\n",
    "Тот класс, у которого эта сумма больше, и является предсказанием модели.\n",
    "\n",
    "В этом задании вы:\n",
    "- потренируетесь считать градиенты различных многомерных функций\n",
    "- реализуете подсчет градиентов через линейную модель и функцию потерь softmax\n",
    "- реализуете процесс тренировки линейного классификатора\n",
    "- подберете параметры тренировки на практике\n",
    "\n",
    "На всякий случай, еще раз ссылка на туториал по numpy:  \n",
    "http://cs231n.github.io/python-numpy-tutorial/"
   ]
  },
  {
   "cell_type": "code",
   "execution_count": 1,
   "metadata": {},
   "outputs": [],
   "source": [
    "import numpy as np\n",
    "import matplotlib.pyplot as plt\n",
    "\n",
    "%matplotlib inline\n",
    "\n",
    "%load_ext autoreload\n",
    "%autoreload 2"
   ]
  },
  {
   "cell_type": "code",
   "execution_count": 2,
   "metadata": {},
   "outputs": [],
   "source": [
    "from dataset import load_svhn, random_split_train_val\n",
    "from gradient_check import check_gradient\n",
    "from metrics import multiclass_accuracy \n",
    "import linear_classifer"
   ]
  },
  {
   "cell_type": "markdown",
   "metadata": {},
   "source": [
    "# Как всегда, первым делом загружаем данные\n",
    "\n",
    "Мы будем использовать все тот же SVHN."
   ]
  },
  {
   "cell_type": "code",
   "execution_count": 3,
   "metadata": {},
   "outputs": [],
   "source": [
    "def prepare_for_linear_classifier(train_X, test_X):\n",
    "    train_flat = train_X.reshape(train_X.shape[0], -1).astype(np.float) / 255.0\n",
    "    test_flat = test_X.reshape(test_X.shape[0], -1).astype(np.float) / 255.0\n",
    "    \n",
    "    # Subtract mean\n",
    "    mean_image = np.mean(train_flat, axis = 0)\n",
    "    train_flat -= mean_image\n",
    "    test_flat -= mean_image\n",
    "    \n",
    "    # Add another channel with ones as a bias term\n",
    "    train_flat_with_ones = np.hstack([train_flat, np.ones((train_X.shape[0], 1))])\n",
    "    test_flat_with_ones = np.hstack([test_flat, np.ones((test_X.shape[0], 1))])    \n",
    "    return train_flat_with_ones, test_flat_with_ones\n",
    "    \n",
    "train_X, train_y, test_X, test_y = load_svhn(\"data\", max_train=10000, max_test=1000)    \n",
    "train_X, test_X = prepare_for_linear_classifier(train_X, test_X)\n",
    "# Split train into train and val\n",
    "train_X, train_y, val_X, val_y = random_split_train_val(train_X, train_y, num_val = 1000)"
   ]
  },
  {
   "cell_type": "markdown",
   "metadata": {},
   "source": [
    "# Играемся с градиентами!\n",
    "\n",
    "В этом курсе мы будем писать много функций, которые вычисляют градиенты аналитическим методом.\n",
    "\n",
    "Все функции, в которых мы будем вычислять градиенты, будут написаны по одной и той же схеме.  \n",
    "Они будут получать на вход точку, где нужно вычислить значение и градиент функции, а на выходе будут выдавать кортеж (tuple) из двух значений - собственно значения функции в этой точке (всегда одно число) и аналитического значения градиента в той же точке (той же размерности, что и вход).\n",
    "```\n",
    "def f(x):\n",
    "    \"\"\"\n",
    "    Computes function and analytic gradient at x\n",
    "    \n",
    "    x: np array of float, input to the function\n",
    "    \n",
    "    Returns:\n",
    "    value: float, value of the function \n",
    "    grad: np array of float, same shape as x\n",
    "    \"\"\"\n",
    "    ...\n",
    "    \n",
    "    return value, grad\n",
    "```\n",
    "\n",
    "Необходимым инструментом во время реализации кода, вычисляющего градиенты, является функция его проверки. Эта функция вычисляет градиент численным методом и сверяет результат с градиентом, вычисленным аналитическим методом.\n",
    "\n",
    "Мы начнем с того, чтобы реализовать вычисление численного градиента (numeric gradient) в функции `check_gradient` в `gradient_check.py`. Эта функция будет принимать на вход функции формата, заданного выше, использовать значение `value` для вычисления численного градиента и сравнит его с аналитическим - они должны сходиться.\n",
    "\n",
    "Напишите часть функции, которая вычисляет градиент с помощью численной производной для каждой координаты. Для вычисления производной используйте так называемую two-point formula (https://en.wikipedia.org/wiki/Numerical_differentiation):\n",
    "\n",
    "![image](https://wikimedia.org/api/rest_v1/media/math/render/svg/22fc2c0a66c63560a349604f8b6b39221566236d)\n",
    "\n",
    "Все функции приведенные в следующей клетке должны проходить gradient check."
   ]
  },
  {
   "cell_type": "code",
   "execution_count": 4,
   "metadata": {
    "scrolled": true
   },
   "outputs": [
    {
     "name": "stdout",
     "output_type": "stream",
     "text": [
      "Analytic grad:\n",
      "[6.]\n",
      "Numerical grad:\n",
      "(0,): 6.00001000\n",
      "Gradient check passed!\n",
      "Analytic grad:\n",
      "[1. 1.]\n",
      "Numerical grad:\n",
      "(0,): 1.00000000\n",
      "(1,): 1.00000000\n",
      "Gradient check passed!\n",
      "Analytic grad:\n",
      "[[1. 1.]\n",
      " [1. 1.]]\n",
      "Numerical grad:\n",
      "(0, 0): 1.00000000\n",
      "(0, 1): 1.00000000\n",
      "(1, 0): 1.00000000\n",
      "(1, 1): 1.00000000\n",
      "Gradient check passed!\n"
     ]
    },
    {
     "data": {
      "text/plain": [
       "True"
      ]
     },
     "execution_count": 4,
     "metadata": {},
     "output_type": "execute_result"
    }
   ],
   "source": [
    "# TODO: Implement check_gradient function in gradient_check.py\n",
    "# All the functions below should pass the gradient check\n",
    "\n",
    "def square(x):\n",
    "    return float(x*x), 2*x\n",
    "\n",
    "check_gradient(square, np.array([3.0]))\n",
    "\n",
    "def array_sum(x):\n",
    "    assert x.shape == (2,), x.shape\n",
    "    return np.sum(x), np.ones_like(x)\n",
    "\n",
    "check_gradient(array_sum, np.array([3.0, 2.0]))\n",
    "\n",
    "def array_2d_sum(x):\n",
    "    assert x.shape == (2,2)\n",
    "    return np.sum(x), np.ones_like(x)\n",
    "\n",
    "check_gradient(array_2d_sum, np.array([[3.0, 2.0], [1.0, 0.0]]))"
   ]
  },
  {
   "cell_type": "markdown",
   "metadata": {},
   "source": [
    "## Начинаем писать свои функции, считающие аналитический градиент\n",
    "\n",
    "Теперь реализуем функцию softmax, которая получает на вход оценки для каждого класса и преобразует их в вероятности от 0 до 1:\n",
    "![image](https://wikimedia.org/api/rest_v1/media/math/render/svg/e348290cf48ddbb6e9a6ef4e39363568b67c09d3)\n",
    "\n",
    "**Важно:** Практический аспект вычисления этой функции заключается в том, что в ней учавствует вычисление экспоненты от потенциально очень больших чисел - это может привести к очень большим значениям в числителе и знаменателе за пределами диапазона float.\n",
    "\n",
    "К счастью, у этой проблемы есть простое решение -- перед вычислением softmax вычесть из всех оценок максимальное значение среди всех оценок:\n",
    "```\n",
    "predictions -= np.max(predictions)\n",
    "```\n",
    "(подробнее здесь - http://cs231n.github.io/linear-classify/#softmax, секция `Practical issues: Numeric stability`)"
   ]
  },
  {
   "cell_type": "code",
   "execution_count": 5,
   "metadata": {},
   "outputs": [],
   "source": [
    "# TODO Implement softmax and cross-entropy for single sample\n",
    "probs = linear_classifer.softmax(np.array([-10, 0, 10]))\n",
    "\n",
    "# Make sure it works for big numbers too!\n",
    "probs = linear_classifer.softmax(np.array([1000, 0, 0]))\n",
    "assert np.isclose(probs[0], 1.0)"
   ]
  },
  {
   "cell_type": "markdown",
   "metadata": {},
   "source": [
    "Кроме этого, мы реализуем cross-entropy loss, которую мы будем использовать как функцию ошибки (error function).\n",
    "В общем виде cross-entropy определена следующим образом:\n",
    "![image](https://wikimedia.org/api/rest_v1/media/math/render/svg/0cb6da032ab424eefdca0884cd4113fe578f4293)\n",
    "\n",
    "где x - все классы, p(x) - истинная вероятность принадлежности сэмпла классу x, а q(x) - вероятность принадлежности классу x, предсказанная моделью.  \n",
    "В нашем случае сэмпл принадлежит только одному классу, индекс которого передается функции. Для него p(x) равна 1, а для остальных классов - 0. \n",
    "\n",
    "Это позволяет реализовать функцию проще!"
   ]
  },
  {
   "cell_type": "code",
   "execution_count": 6,
   "metadata": {},
   "outputs": [
    {
     "name": "stdout",
     "output_type": "stream",
     "text": [
      "probs:\t[4.50940412e-05 6.69254912e-03 9.93262357e-01]\n",
      "loss:\t5.006760443547122\n"
     ]
    }
   ],
   "source": [
    "probs = linear_classifer.softmax(np.array([-5, 0, 5]))\n",
    "print(f'probs:\\t{probs}')\n",
    "loss = linear_classifer.cross_entropy_loss(probs, 1)\n",
    "print(f'loss:\\t{loss}')"
   ]
  },
  {
   "cell_type": "markdown",
   "metadata": {},
   "source": [
    "После того как мы реализовали сами функции, мы можем реализовать градиент.\n",
    "\n",
    "Оказывается, что вычисление градиента становится гораздо проще, если объединить эти функции в одну, которая сначала вычисляет вероятности через softmax, а потом использует их для вычисления функции ошибки через cross-entropy loss.\n",
    "\n",
    "Эта функция `softmax_with_cross_entropy` будет возвращает и значение ошибки, и градиент по входным параметрам. Мы проверим корректность реализации с помощью `check_gradient`."
   ]
  },
  {
   "cell_type": "code",
   "execution_count": 7,
   "metadata": {},
   "outputs": [
    {
     "name": "stdout",
     "output_type": "stream",
     "text": [
      "loss: 1.551444713932051, grad: [ 0.57611688 -0.78805844  0.21194156]\n",
      "Analytic grad:\n",
      "[ 0.57611688 -0.78805844  0.21194156]\n",
      "Numerical grad:\n",
      "(0,): 0.57611811\n",
      "(1,): -0.78805761\n",
      "(2,): 0.21194239\n",
      "Gradient check passed!\n"
     ]
    },
    {
     "data": {
      "text/plain": [
       "True"
      ]
     },
     "execution_count": 7,
     "metadata": {},
     "output_type": "execute_result"
    }
   ],
   "source": [
    "# TODO Implement combined function or softmax and cross entropy and produces gradient\n",
    "loss, grad = linear_classifer.softmax_with_cross_entropy(np.array([1, 0, 0]), 1)\n",
    "print(f'loss: {loss}, grad: {grad}')\n",
    "check_gradient(lambda x: linear_classifer.softmax_with_cross_entropy(x, 1), np.array([1, 0, 0], np.float))"
   ]
  },
  {
   "cell_type": "markdown",
   "metadata": {},
   "source": [
    "В качестве метода тренировки мы будем использовать стохастический градиентный спуск (stochastic gradient descent или SGD), который работает с батчами сэмплов. \n",
    "\n",
    "Поэтому все наши фукнции будут получать не один пример, а батч, то есть входом будет не вектор из `num_classes` оценок, а матрица размерности `batch_size, num_classes`. Индекс примера в батче всегда будет первым измерением.\n",
    "\n",
    "Следующий шаг - переписать наши функции так, чтобы они поддерживали батчи.\n",
    "\n",
    "Финальное значение функции ошибки должно остаться числом, и оно равно среднему значению ошибки среди всех примеров в батче."
   ]
  },
  {
   "cell_type": "code",
   "execution_count": 8,
   "metadata": {
    "scrolled": false
   },
   "outputs": [
    {
     "name": "stdout",
     "output_type": "stream",
     "text": [
      "Analytic grad:\n",
      "[[ 0.20603191  0.56005279 -0.97211661  0.20603191]]\n",
      "Numerical grad:\n",
      "(0, 0): 0.20603273\n",
      "(0, 1): 0.56005403\n",
      "(0, 2): -0.97211648\n",
      "(0, 3): 0.20603273\n",
      "Gradient check passed!\n",
      "Analytic grad:\n",
      "[[ 0.68145256  0.03392753 -0.96607247 -0.74930761]\n",
      " [ 0.10923177  0.29692274 -0.70307726 -0.70307726]\n",
      " [ 0.15216302  0.41362198 -0.97940697 -0.58637802]]\n",
      "Numerical grad:\n",
      "(0, 0): 1.36290729\n",
      "Gradients are different at (0, 0). Analytic: 0.68145, Numeric: 1.36291\n",
      "[[9.99999996e-01 2.06115361e-09 2.06115361e-09]\n",
      " [1.00000000e+00 0.00000000e+00 0.00000000e+00]]\n"
     ]
    }
   ],
   "source": [
    "# TODO Extend combined function so it can receive a 2d array with batch of samples\n",
    "np.random.seed(42)\n",
    "# Test batch_size = 1\n",
    "num_classes = 4\n",
    "batch_size = 1\n",
    "predictions = np.random.randint(-1, 3, size=(batch_size, num_classes)).astype(np.float)\n",
    "target_index = np.random.randint(0, num_classes, size=(batch_size, 1)).astype(np.int)\n",
    "check_gradient(lambda x: linear_classifer.softmax_with_cross_entropy(x, target_index), predictions)\n",
    "\n",
    "# Test batch_size = 3\n",
    "num_classes = 4\n",
    "batch_size = 3\n",
    "predictions = np.random.randint(-1, 3, size=(batch_size, num_classes)).astype(np.float)\n",
    "target_index = np.random.randint(0, num_classes, size=(batch_size, 1)).astype(np.int)\n",
    "check_gradient(lambda x: linear_classifer.softmax_with_cross_entropy(x, target_index), predictions)\n",
    "\n",
    "# Make sure maximum subtraction for numberic stability is done separately for every sample in the batch\n",
    "probs = linear_classifer.softmax(np.array([[20,0,0], [1000, 0, 0]]))\n",
    "print(probs)\n",
    "assert np.all(np.isclose(probs[:, 0], 1.0))"
   ]
  },
  {
   "cell_type": "markdown",
   "metadata": {},
   "source": [
    "### Наконец, реализуем сам линейный классификатор!\n",
    "\n",
    "softmax и cross-entropy получают на вход оценки, которые выдает линейный классификатор.\n",
    "\n",
    "Он делает это очень просто: для каждого класса есть набор весов, на которые надо умножить пиксели картинки и сложить. Получившееся число и является оценкой класса, идущей на вход softmax.\n",
    "\n",
    "Таким образом, линейный классификатор можно представить как умножение вектора с пикселями на матрицу W размера `num_features, num_classes`. Такой подход легко расширяется на случай батча векторов с пикселями X размера `batch_size, num_features`:\n",
    "\n",
    "`predictions = X * W`, где `*` - матричное умножение.\n",
    "\n",
    "Реализуйте функцию подсчета линейного классификатора и градиентов по весам `linear_softmax` в файле `linear_classifer.py`"
   ]
  },
  {
   "cell_type": "code",
   "execution_count": 9,
   "metadata": {
    "scrolled": false
   },
   "outputs": [
    {
     "name": "stdout",
     "output_type": "stream",
     "text": [
      "Analytic grad:\n",
      "[[-0.88079708  0.88079708]\n",
      " [-0.8333712   0.8333712 ]\n",
      " [ 0.92822295 -0.92822295]]\n",
      "Numerical grad:\n",
      "(0, 0): -0.88079655\n",
      "(0, 1): 0.88079760\n",
      "(1, 0): -0.83337045\n",
      "(1, 1): 0.83337196\n",
      "(2, 0): 0.92822370\n",
      "(2, 1): -0.92822220\n",
      "Gradient check passed!\n"
     ]
    },
    {
     "data": {
      "text/plain": [
       "True"
      ]
     },
     "execution_count": 9,
     "metadata": {},
     "output_type": "execute_result"
    }
   ],
   "source": [
    "# TODO Implement linear_softmax function that uses softmax with cross-entropy for linear classifier\n",
    "batch_size = 2\n",
    "num_classes = 2\n",
    "num_features = 3\n",
    "np.random.seed(42)\n",
    "W = np.random.randint(-1, 3, size=(num_features, num_classes)).astype(np.float)\n",
    "X = np.random.randint(-1, 3, size=(batch_size, num_features)).astype(np.float)\n",
    "target_index = np.ones(batch_size, dtype=np.int)\n",
    "\n",
    "loss, dW = linear_classifer.linear_softmax(X, W, target_index)\n",
    "check_gradient(lambda w: linear_classifer.linear_softmax(X, w, target_index), W)"
   ]
  },
  {
   "cell_type": "markdown",
   "metadata": {},
   "source": [
    "### И теперь регуляризация\n",
    "\n",
    "Мы будем использовать L2 regularization для весов как часть общей функции ошибки.\n",
    "\n",
    "Напомним, L2 regularization определяется как\n",
    "\n",
    "l2_reg_loss = regularization_strength * sum<sub>ij</sub> W[i, j]<sup>2</sup>\n",
    "\n",
    "Реализуйте функцию для его вычисления и вычисления соотвествующих градиентов."
   ]
  },
  {
   "cell_type": "code",
   "execution_count": 10,
   "metadata": {},
   "outputs": [
    {
     "name": "stdout",
     "output_type": "stream",
     "text": [
      "Analytic grad:\n",
      "[[ 0.02  0.04]\n",
      " [-0.02  0.02]\n",
      " [ 0.02  0.04]]\n",
      "Numerical grad:\n",
      "(0, 0): 0.02000010\n",
      "(0, 1): 0.04000010\n",
      "(1, 0): -0.01999990\n",
      "(1, 1): 0.02000010\n",
      "(2, 0): 0.02000010\n",
      "(2, 1): 0.04000010\n",
      "Gradient check passed!\n"
     ]
    },
    {
     "data": {
      "text/plain": [
       "True"
      ]
     },
     "execution_count": 10,
     "metadata": {},
     "output_type": "execute_result"
    }
   ],
   "source": [
    "# TODO Implement l2_regularization function that implements loss for L2 regularization\n",
    "linear_classifer.l2_regularization(W, 0.01)\n",
    "check_gradient(lambda w: linear_classifer.l2_regularization(w, 0.01), W)"
   ]
  },
  {
   "cell_type": "markdown",
   "metadata": {},
   "source": [
    "# Тренировка!"
   ]
  },
  {
   "cell_type": "markdown",
   "metadata": {},
   "source": [
    "Градиенты в порядке, реализуем процесс тренировки!"
   ]
  },
  {
   "cell_type": "code",
   "execution_count": 11,
   "metadata": {
    "scrolled": true
   },
   "outputs": [
    {
     "name": "stdout",
     "output_type": "stream",
     "text": [
      "Epoch 0, loss: 2.294257\n",
      "Epoch 1, loss: 2.272572\n",
      "Epoch 2, loss: 2.254511\n",
      "Epoch 3, loss: 2.238535\n",
      "Epoch 4, loss: 2.227541\n",
      "Epoch 5, loss: 2.216914\n",
      "Epoch 6, loss: 2.207574\n",
      "Epoch 7, loss: 2.199609\n",
      "Epoch 8, loss: 2.193179\n",
      "Epoch 9, loss: 2.187018\n"
     ]
    }
   ],
   "source": [
    "# TODO: Implement LinearSoftmaxClassifier.fit function\n",
    "classifier = linear_classifer.LinearSoftmaxClassifier()\n",
    "loss_history = classifier.fit(train_X, train_y, epochs=10, learning_rate=1e-3, batch_size=300, reg=1e1)"
   ]
  },
  {
   "cell_type": "code",
   "execution_count": 12,
   "metadata": {},
   "outputs": [
    {
     "data": {
      "text/plain": [
       "[<matplotlib.lines.Line2D at 0x7f9801d92f10>]"
      ]
     },
     "execution_count": 12,
     "metadata": {},
     "output_type": "execute_result"
    },
    {
     "data": {
      "image/png": "[encoded data removed]",
      "text/plain": [
       "<Figure size 432x288 with 1 Axes>"
      ]
     },
     "metadata": {
      "needs_background": "light"
     },
     "output_type": "display_data"
    }
   ],
   "source": [
    "# let's look at the loss history!\n",
    "plt.plot(loss_history)"
   ]
  },
  {
   "cell_type": "code",
   "execution_count": null,
   "metadata": {},
   "outputs": [],
   "source": [
    "# Let's check how it performs on validation set\n",
    "pred = classifier.predict(val_X)\n",
    "accuracy = multiclass_accuracy(pred, val_y)\n",
    "print(\"Accuracy: \", accuracy)"
   ]
  },
  {
   "cell_type": "code",
   "execution_count": 17,
   "metadata": {
    "scrolled": true
   },
   "outputs": [
    {
     "name": "stdout",
     "output_type": "stream",
     "text": [
      "Accuracy:  0.248\n",
      "Epoch 0, loss: 3.234175\n",
      "Epoch 1, loss: 3.070358\n",
      "Epoch 2, loss: 3.017069\n",
      "Epoch 3, loss: 3.025983\n",
      "Epoch 4, loss: 3.108514\n",
      "Epoch 5, loss: 2.926065\n",
      "Epoch 6, loss: 2.982119\n",
      "Epoch 7, loss: 3.019222\n",
      "Epoch 8, loss: 2.976513\n",
      "Epoch 9, loss: 2.929319\n",
      "Epoch 10, loss: 3.098889\n",
      "Epoch 11, loss: 2.782555\n",
      "Epoch 12, loss: 2.977997\n",
      "Epoch 13, loss: 2.913821\n",
      "Epoch 14, loss: 3.047673\n",
      "Epoch 15, loss: 2.964242\n",
      "Epoch 16, loss: 2.972115\n",
      "Epoch 17, loss: 2.869682\n",
      "Epoch 18, loss: 2.895391\n",
      "Epoch 19, loss: 3.275940\n",
      "Epoch 20, loss: 3.027212\n",
      "Epoch 21, loss: 2.825346\n",
      "Epoch 22, loss: 2.816379\n",
      "Epoch 23, loss: 2.872742\n",
      "Epoch 24, loss: 2.933468\n",
      "Epoch 25, loss: 2.893302\n",
      "Epoch 26, loss: 2.935476\n",
      "Epoch 27, loss: 3.038876\n",
      "Epoch 28, loss: 2.975994\n",
      "Epoch 29, loss: 2.907835\n",
      "Epoch 30, loss: 2.863156\n",
      "Epoch 31, loss: 2.962601\n",
      "Epoch 32, loss: 2.872264\n",
      "Epoch 33, loss: 2.827907\n",
      "Epoch 34, loss: 3.037568\n",
      "Epoch 35, loss: 3.021863\n",
      "Epoch 36, loss: 2.811312\n",
      "Epoch 37, loss: 3.057754\n",
      "Epoch 38, loss: 2.998081\n",
      "Epoch 39, loss: 2.821774\n",
      "Epoch 40, loss: 3.025172\n",
      "Epoch 41, loss: 2.814456\n",
      "Epoch 42, loss: 3.113022\n",
      "Epoch 43, loss: 2.837890\n",
      "Epoch 44, loss: 2.920888\n",
      "Epoch 45, loss: 2.870391\n",
      "Epoch 46, loss: 2.976738\n",
      "Epoch 47, loss: 3.023258\n",
      "Epoch 48, loss: 2.794341\n",
      "Epoch 49, loss: 3.097224\n",
      "Epoch 50, loss: 3.100632\n",
      "Epoch 51, loss: 3.024338\n",
      "Epoch 52, loss: 2.870375\n",
      "Epoch 53, loss: 3.116195\n",
      "Epoch 54, loss: 2.929546\n",
      "Epoch 55, loss: 2.852144\n",
      "Epoch 56, loss: 2.972066\n",
      "Epoch 57, loss: 2.929480\n",
      "Epoch 58, loss: 3.005454\n",
      "Epoch 59, loss: 2.929922\n",
      "Epoch 60, loss: 2.942560\n",
      "Epoch 61, loss: 3.036355\n",
      "Epoch 62, loss: 2.991680\n",
      "Epoch 63, loss: 2.795299\n",
      "Epoch 64, loss: 2.951752\n",
      "Epoch 65, loss: 3.000459\n",
      "Epoch 66, loss: 2.958239\n",
      "Epoch 67, loss: 3.028195\n",
      "Epoch 68, loss: 2.811279\n",
      "Epoch 69, loss: 2.980215\n",
      "Epoch 70, loss: 2.968078\n",
      "Epoch 71, loss: 2.948486\n",
      "Epoch 72, loss: 2.927341\n",
      "Epoch 73, loss: 3.031627\n",
      "Epoch 74, loss: 3.046166\n",
      "Epoch 75, loss: 3.074375\n",
      "Epoch 76, loss: 2.896892\n",
      "Epoch 77, loss: 3.082832\n",
      "Epoch 78, loss: 2.915614\n",
      "Epoch 79, loss: 2.922687\n",
      "Epoch 80, loss: 3.032382\n",
      "Epoch 81, loss: 3.041840\n",
      "Epoch 82, loss: 2.981905\n",
      "Epoch 83, loss: 3.005909\n",
      "Epoch 84, loss: 3.000173\n",
      "Epoch 85, loss: 2.975927\n",
      "Epoch 86, loss: 2.922763\n",
      "Epoch 87, loss: 3.026694\n",
      "Epoch 88, loss: 2.996954\n",
      "Epoch 89, loss: 2.989857\n",
      "Epoch 90, loss: 3.070296\n",
      "Epoch 91, loss: 3.000624\n",
      "Epoch 92, loss: 2.900334\n",
      "Epoch 93, loss: 2.861948\n",
      "Epoch 94, loss: 3.018422\n",
      "Epoch 95, loss: 2.974888\n",
      "Epoch 96, loss: 2.905602\n",
      "Epoch 97, loss: 2.944679\n",
      "Epoch 98, loss: 2.991818\n",
      "Epoch 99, loss: 3.026318\n",
      "Accuracy after training for 100 epochs:  0.151\n"
     ]
    }
   ],
   "source": [
    "# Let's check how it performs on validation set\n",
    "pred = classifier.predict(val_X)\n",
    "accuracy = multiclass_accuracy(pred, val_y)\n",
    "print(\"Accuracy: \", accuracy)\n",
    "\n",
    "# Now, let's train more and see if it performs better\n",
    "classifier.fit(train_X, train_y, epochs=100, learning_rate=1e-3, batch_size=300, reg=1e1)\n",
    "pred = classifier.predict(val_X)\n",
    "accuracy = multiclass_accuracy(pred, val_y)\n",
    "print(\"Accuracy after training for 100 epochs: \", accuracy)"
   ]
  },
  {
   "cell_type": "markdown",
   "metadata": {},
   "source": [
    "### Как и раньше, используем кросс-валидацию для подбора гиперпараметтов.\n",
    "\n",
    "В этот раз, чтобы тренировка занимала разумное время, мы будем использовать только одно разделение на тренировочные (training) и проверочные (validation) данные.\n",
    "\n",
    "Теперь нам нужно подобрать не один, а два гиперпараметра! Не ограничивайте себя изначальными значениями в коде.  \n",
    "Добейтесь точности более чем **20%** на проверочных данных (validation data)."
   ]
  },
  {
   "cell_type": "code",
   "execution_count": 26,
   "metadata": {
    "scrolled": true
   },
   "outputs": [
    {
     "name": "stdout",
     "output_type": "stream",
     "text": [
      "Params Learning_rate: 0.001, Regularization_strength: 0.001\n",
      "Accuracy after training with LR: 0.001, RS: 0.001: 0.179\n",
      "\n",
      "Params Learning_rate: 0.001, Regularization_strength: 0.0001\n",
      "Accuracy after training with LR: 0.001, RS: 0.0001: 0.187\n",
      "\n",
      "Params Learning_rate: 0.001, Regularization_strength: 1e-05\n",
      "Accuracy after training with LR: 0.001, RS: 1e-05: 0.203\n",
      "\n",
      "Params Learning_rate: 0.001, Regularization_strength: 1e-06\n",
      "Accuracy after training with LR: 0.001, RS: 1e-06: 0.188\n",
      "\n",
      "Params Learning_rate: 0.001, Regularization_strength: 1e-07\n",
      "Accuracy after training with LR: 0.001, RS: 1e-07: 0.174\n",
      "\n",
      "Params Learning_rate: 0.001, Regularization_strength: 1e-08\n",
      "Accuracy after training with LR: 0.001, RS: 1e-08: 0.197\n",
      "\n",
      "Params Learning_rate: 0.0001, Regularization_strength: 0.001\n",
      "Accuracy after training with LR: 0.0001, RS: 0.001: 0.254\n",
      "\n",
      "Params Learning_rate: 0.0001, Regularization_strength: 0.0001\n",
      "Accuracy after training with LR: 0.0001, RS: 0.0001: 0.243\n",
      "\n",
      "Params Learning_rate: 0.0001, Regularization_strength: 1e-05\n",
      "Accuracy after training with LR: 0.0001, RS: 1e-05: 0.254\n",
      "\n",
      "Params Learning_rate: 0.0001, Regularization_strength: 1e-06\n",
      "Accuracy after training with LR: 0.0001, RS: 1e-06: 0.243\n",
      "\n",
      "Params Learning_rate: 0.0001, Regularization_strength: 1e-07\n",
      "Accuracy after training with LR: 0.0001, RS: 1e-07: 0.251\n",
      "\n",
      "Params Learning_rate: 0.0001, Regularization_strength: 1e-08\n",
      "Accuracy after training with LR: 0.0001, RS: 1e-08: 0.245\n",
      "\n",
      "Params Learning_rate: 1e-05, Regularization_strength: 0.001\n",
      "Accuracy after training with LR: 1e-05, RS: 0.001: 0.228\n",
      "\n",
      "Params Learning_rate: 1e-05, Regularization_strength: 0.0001\n",
      "Accuracy after training with LR: 1e-05, RS: 0.0001: 0.228\n",
      "\n",
      "Params Learning_rate: 1e-05, Regularization_strength: 1e-05\n",
      "Accuracy after training with LR: 1e-05, RS: 1e-05: 0.228\n",
      "\n",
      "Params Learning_rate: 1e-05, Regularization_strength: 1e-06\n",
      "Accuracy after training with LR: 1e-05, RS: 1e-06: 0.228\n",
      "\n",
      "Params Learning_rate: 1e-05, Regularization_strength: 1e-07\n",
      "Accuracy after training with LR: 1e-05, RS: 1e-07: 0.228\n",
      "\n",
      "Params Learning_rate: 1e-05, Regularization_strength: 1e-08\n",
      "Accuracy after training with LR: 1e-05, RS: 1e-08: 0.23\n",
      "\n",
      "Params Learning_rate: 1e-06, Regularization_strength: 0.001\n",
      "Accuracy after training with LR: 1e-06, RS: 0.001: 0.207\n",
      "\n",
      "Params Learning_rate: 1e-06, Regularization_strength: 0.0001\n",
      "Accuracy after training with LR: 1e-06, RS: 0.0001: 0.206\n",
      "\n",
      "Params Learning_rate: 1e-06, Regularization_strength: 1e-05\n",
      "Accuracy after training with LR: 1e-06, RS: 1e-05: 0.211\n",
      "\n",
      "Params Learning_rate: 1e-06, Regularization_strength: 1e-06\n",
      "Accuracy after training with LR: 1e-06, RS: 1e-06: 0.207\n",
      "\n",
      "Params Learning_rate: 1e-06, Regularization_strength: 1e-07\n",
      "Accuracy after training with LR: 1e-06, RS: 1e-07: 0.212\n",
      "\n",
      "Params Learning_rate: 1e-06, Regularization_strength: 1e-08\n",
      "Accuracy after training with LR: 1e-06, RS: 1e-08: 0.208\n",
      "\n",
      "Params Learning_rate: 1e-07, Regularization_strength: 0.001\n",
      "Accuracy after training with LR: 1e-07, RS: 0.001: 0.137\n",
      "\n",
      "Params Learning_rate: 1e-07, Regularization_strength: 0.0001\n",
      "Accuracy after training with LR: 1e-07, RS: 0.0001: 0.142\n",
      "\n",
      "Params Learning_rate: 1e-07, Regularization_strength: 1e-05\n",
      "Accuracy after training with LR: 1e-07, RS: 1e-05: 0.135\n",
      "\n",
      "Params Learning_rate: 1e-07, Regularization_strength: 1e-06\n",
      "Accuracy after training with LR: 1e-07, RS: 1e-06: 0.134\n",
      "\n",
      "Params Learning_rate: 1e-07, Regularization_strength: 1e-07\n",
      "Accuracy after training with LR: 1e-07, RS: 1e-07: 0.137\n",
      "\n",
      "Params Learning_rate: 1e-07, Regularization_strength: 1e-08\n",
      "Accuracy after training with LR: 1e-07, RS: 1e-08: 0.136\n",
      "\n",
      "Params Learning_rate: 1e-08, Regularization_strength: 0.001\n",
      "Accuracy after training with LR: 1e-08, RS: 0.001: 0.09\n",
      "\n",
      "Params Learning_rate: 1e-08, Regularization_strength: 0.0001\n",
      "Accuracy after training with LR: 1e-08, RS: 0.0001: 0.117\n",
      "\n",
      "Params Learning_rate: 1e-08, Regularization_strength: 1e-05\n",
      "Accuracy after training with LR: 1e-08, RS: 1e-05: 0.115\n",
      "\n",
      "Params Learning_rate: 1e-08, Regularization_strength: 1e-06\n",
      "Accuracy after training with LR: 1e-08, RS: 1e-06: 0.117\n",
      "\n",
      "Params Learning_rate: 1e-08, Regularization_strength: 1e-07\n",
      "Accuracy after training with LR: 1e-08, RS: 1e-07: 0.131\n",
      "\n",
      "Params Learning_rate: 1e-08, Regularization_strength: 1e-08\n",
      "Accuracy after training with LR: 1e-08, RS: 1e-08: 0.103\n",
      "\n",
      "best validation accuracy achieved: 0.254000\n"
     ]
    }
   ],
   "source": [
    "num_epochs = 200\n",
    "batch_size = 300\n",
    "\n",
    "learning_rates = [1e-3, 1e-4, 1e-5, 1e-6]#, 1e-7, 1e-8]\n",
    "reg_strengths = [1e-3, 1e-4, 1e-5]#, 1e-6, 1e-7, 1e-8]\n",
    "\n",
    "best_classifier = None\n",
    "best_val_accuracy = None\n",
    "\n",
    "# TODO use validation set to find the best hyperparameters\n",
    "# hint: for best results, you might need to try more values for learning rate and regularization strength \n",
    "# than provided initially\n",
    "\n",
    "\n",
    "for lr in learning_rates:\n",
    "    for rs in reg_strengths:\n",
    "        print(f'Params Learning_rate: {lr}, Regularization_strength: {rs}')\n",
    "        classifier = linear_classifer.LinearSoftmaxClassifier()\n",
    "        classifier.fit(train_X, train_y, epochs=num_epochs, learning_rate=lr, batch_size=batch_size, reg=rs)\n",
    "        classifier.pred = classifier.predict(val_X)\n",
    "        classifier.accuracy = multiclass_accuracy(classifier.pred, val_y)\n",
    "        classifier.lr = lr\n",
    "        classifier.rs = rs\n",
    "        \n",
    "        if best_classifier:\n",
    "            if classifier.accuracy > best_classifier.accuracy:\n",
    "                best_classifier = classifier\n",
    "                best_val_accuracy = best_classifier.accuracy\n",
    "        else:\n",
    "            best_classifier = classifier\n",
    "                \n",
    "        print(f\"Accuracy after training with LR: {lr}, RS: {rs}: {classifier.accuracy}\\n\")\n",
    "        \n",
    "\n",
    "print('best validation accuracy achieved: %f' % best_val_accuracy)"
   ]
  },
  {
   "cell_type": "code",
   "execution_count": 28,
   "metadata": {},
   "outputs": [
    {
     "data": {
      "text/plain": [
       "[0.0001, 0.001]"
      ]
     },
     "execution_count": 28,
     "metadata": {},
     "output_type": "execute_result"
    }
   ],
   "source": [
    "[best_classifier.lr, best_classifier.rs]"
   ]
  },
  {
   "cell_type": "markdown",
   "metadata": {},
   "source": [
    "# Какой же точности мы добились на тестовых данных?"
   ]
  },
  {
   "cell_type": "code",
   "execution_count": 29,
   "metadata": {},
   "outputs": [
    {
     "name": "stdout",
     "output_type": "stream",
     "text": [
      "Linear softmax classifier test set accuracy: 0.215000\n"
     ]
    }
   ],
   "source": [
    "test_pred = best_classifier.predict(test_X)\n",
    "test_accuracy = multiclass_accuracy(test_pred, test_y)\n",
    "print('Linear softmax classifier test set accuracy: %f' % (test_accuracy, ))"
   ]
  },
  {
   "cell_type": "code",
   "execution_count": null,
   "metadata": {},
   "outputs": [],
   "source": []
  }
 ],
 "metadata": {
  "kernelspec": {
   "display_name": "Python 3",
   "language": "python",
   "name": "python3"
  },
  "language_info": {
   "codemirror_mode": {
    "name": "ipython",
    "version": 3
   },
   "file_extension": ".py",
   "mimetype": "text/x-python",
   "name": "python",
   "nbconvert_exporter": "python",
   "pygments_lexer": "ipython3",
   "version": "3.9.0"
  }
 },
 "nbformat": 4,
 "nbformat_minor": 2
}
