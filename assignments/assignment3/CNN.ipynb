{
  "nbformat": 4,
  "nbformat_minor": 0,
  "metadata": {
    "kernelspec": {
      "display_name": "Python 3",
      "language": "python",
      "name": "python3"
    },
    "language_info": {
      "codemirror_mode": {
        "name": "ipython",
        "version": 3
      },
      "file_extension": ".py",
      "mimetype": "text/x-python",
      "name": "python",
      "nbconvert_exporter": "python",
      "pygments_lexer": "ipython3",
      "version": "3.9.0"
    },
    "colab": {
      "name": "CNN.ipynb",
      "provenance": [],
      "collapsed_sections": [],
      "toc_visible": true
    },
    "accelerator": "TPU"
  },
  "cells": [
    {
      "cell_type": "markdown",
      "metadata": {
        "id": "bWCdaevq6qZ2"
      },
      "source": [
        "# Задание 3.1 - Сверточные нейронные сети (Convolutional Neural Networks)\n",
        "\n",
        "Это последнее задание на numpy, вы до него дожили! Остался последний марш-бросок, дальше только PyTorch.\n",
        "\n",
        "В этом задании вы реализуете свою собственную сверточную нейронную сеть."
      ]
    },
    {
      "cell_type": "code",
      "metadata": {
        "id": "M2cBYI-S6qaa"
      },
      "source": [
        "import numpy as np\n",
        "import matplotlib.pyplot as plt\n",
        "\n",
        "%matplotlib inline\n",
        "\n",
        "%load_ext autoreload\n",
        "%autoreload 2"
      ],
      "execution_count": 1,
      "outputs": []
    },
    {
      "cell_type": "code",
      "metadata": {
        "id": "qdPqZ2IK83jJ"
      },
      "source": [
        "#from google.colab import drive\n",
        "#drive.mount('/content/drive')"
      ],
      "execution_count": 2,
      "outputs": []
    },
    {
      "cell_type": "code",
      "metadata": {
        "colab": {
          "base_uri": "https://localhost:8080/"
        },
        "id": "egsa-FDC2m1x",
        "outputId": "b0460c31-8e14-4489-de2c-0fc249cf56d6"
      },
      "source": [
        "#cd /content/drive/MyDrive/Colab/assignment3/"
      ],
      "execution_count": 3,
      "outputs": [
        {
          "output_type": "stream",
          "text": [
            "/content/drive/MyDrive/Colab/assignment3\n"
          ],
          "name": "stdout"
        }
      ]
    },
    {
      "cell_type": "code",
      "metadata": {
        "id": "GwC7poq26qad"
      },
      "source": [
        "from dataset import load_svhn, random_split_train_val\n",
        "from gradient_check import check_layer_gradient, check_layer_param_gradient, check_model_gradient\n",
        "from layers import FullyConnectedLayer, ReLULayer, ConvolutionalLayer, MaxPoolingLayer, Flattener\n",
        "from model import ConvNet\n",
        "from trainer import Trainer, Dataset\n",
        "from optim import SGD, MomentumSGD\n",
        "from metrics import multiclass_accuracy"
      ],
      "execution_count": 4,
      "outputs": []
    },
    {
      "cell_type": "markdown",
      "metadata": {
        "id": "rqhDN7HG6qae"
      },
      "source": [
        "# Загружаем данные\n",
        "\n",
        "На этот раз мы не будем их преобразовывать в один вектор, а оставим размерности (num_samples, 32, 32, 3)."
      ]
    },
    {
      "cell_type": "code",
      "metadata": {
        "id": "7vJgifVR6qaf"
      },
      "source": [
        "def prepare_for_neural_network(train_X, test_X):    \n",
        "    train_X = train_X.astype(np.float) / 255.0\n",
        "    test_X = test_X.astype(np.float) / 255.0\n",
        "    \n",
        "    # Subtract mean\n",
        "    mean_image = np.mean(train_X, axis = 0)\n",
        "    train_X -= mean_image\n",
        "    test_X -= mean_image\n",
        "    \n",
        "    return train_X, test_X\n",
        "    \n",
        "train_X, train_y, test_X, test_y = load_svhn(\"data\", max_train=10000, max_test=1000)    \n",
        "train_X, test_X = prepare_for_neural_network(train_X, test_X)\n",
        "# Split train into train and val\n",
        "train_X, train_y, val_X, val_y = random_split_train_val(train_X, train_y, num_val = 1000)"
      ],
      "execution_count": 5,
      "outputs": []
    },
    {
      "cell_type": "markdown",
      "metadata": {
        "id": "0EoS1XFJ6qah"
      },
      "source": [
        "# Реализуем новые слои!\n",
        "\n",
        "Сначала основной новый слой - сверточный (Convolutional layer). \n",
        "Для начала мы реализуем его для только одного канала, а потом для нескольких.\n",
        "\n",
        "Сверточный слой выполняет операцию свертки (convolution) с весами для каждого канала, а потом складывает результаты. \n",
        "Возможно, поможет пересмотреть Лекцию 6 или внимательно прочитать\n",
        "http://cs231n.github.io/convolutional-networks/\n",
        "\n",
        "Один из подходов к реализации сверточного слоя основан на том, что для конкретного \"пикселя\" выхода применение сверточного слоя эквивалентно обычному полносвязному.  \n",
        "Рассмотрим один такой \"пиксель\":\n",
        "![image.png](attachment:image.png)\n",
        "\n",
        "Он получает на вход   \n",
        "регион входа I размера `(batch_size, filter_size, filter_size, input_channels)`,  \n",
        "применяет к нему веса W `(filter_size, filter_size, input_channels, output_channels`\n",
        "и выдает `(batch_size, output_channels)`. \n",
        "\n",
        "Если:  \n",
        "- вход преобразовать в I' `(batch_size, filter_size*filter_size*input_channels)`,  \n",
        "- веса в W' `(filter_size*filter_size*input_channels, output_channels)`,  \n",
        "то выход \"пикселе\" будет эквивалентен полносвязному слою со входом I' и весами W'.\n",
        "\n",
        "Осталось выполнить его в цикле для каждого пикселя :)"
      ]
    },
    {
      "cell_type": "code",
      "metadata": {
        "id": "KgwNYSyM6qai",
        "colab": {
          "base_uri": "https://localhost:8080/"
        },
        "outputId": "eff119b0-5256-47f9-db7f-8ce84f402f95"
      },
      "source": [
        "# TODO: Implement ConvolutionaLayer that supports only 1 output and input channel\n",
        "\n",
        "# Note: now you're working with images, so X is 4-dimensional tensor of\n",
        "# (batch_size, height, width, channels)\n",
        "\n",
        "X = np.array([\n",
        "              [\n",
        "               [[1.0], [2.0]],\n",
        "               [[0.0], [-1.0]]\n",
        "              ]\n",
        "              ,\n",
        "              [\n",
        "               [[0.0], [1.0]],\n",
        "               [[-2.0], [-1.0]]\n",
        "              ]\n",
        "             ])\n",
        "\n",
        "# Batch of 2 images of dimensions 2x2 with a single channel\n",
        "print(\"Shape of X:\",X.shape)\n",
        "\n",
        "layer = ConvolutionalLayer(in_channels=1, out_channels=1, filter_size=2, padding=0)\n",
        "print(\"Shape of W\", layer.W.value.shape)\n",
        "layer.W.value = np.zeros_like(layer.W.value)\n",
        "layer.W.value[0, 0, 0, 0] = 1.0\n",
        "layer.B.value = np.ones_like(layer.B.value)\n",
        "result = layer.forward(X)\n",
        "\n",
        "assert result.shape == (2, 1, 1, 1)\n",
        "assert np.all(result == X[:, :1, :1, :1] +1), \"result: %s, X: %s\" % (result, X[:, :1, :1, :1])"
      ],
      "execution_count": 6,
      "outputs": [
        {
          "output_type": "stream",
          "text": [
            "Shape of X: (2, 2, 2, 1)\n",
            "Shape of W (2, 2, 1, 1)\n"
          ],
          "name": "stdout"
        }
      ]
    },
    {
      "cell_type": "code",
      "metadata": {
        "scrolled": false,
        "id": "TqCG8KtG6qak",
        "colab": {
          "base_uri": "https://localhost:8080/"
        },
        "outputId": "71cd510d-7582-42e0-b3db-c75b5a2031a6"
      },
      "source": [
        "# Now let's implement multiple output channels\n",
        "layer = ConvolutionalLayer(in_channels=1, out_channels=2, filter_size=2, padding=0)\n",
        "result = layer.forward(X)\n",
        "assert result.shape == (2, 1, 1, 2)\n",
        "\n",
        "\n",
        "# And now multple input channels!\n",
        "X = np.array([\n",
        "              [\n",
        "               [[1.0, 0.0], [2.0, 1.0]],\n",
        "               [[0.0, -1.0], [-1.0, -2.0]]\n",
        "              ]\n",
        "              ,\n",
        "              [\n",
        "               [[0.0, 1.0], [1.0, -1.0]],\n",
        "               [[-2.0, 2.0], [-1.0, 0.0]]\n",
        "              ]\n",
        "             ])\n",
        "\n",
        "print(\"Shape of X:\", X.shape)\n",
        "layer = ConvolutionalLayer(in_channels=2, out_channels=2, filter_size=2, padding=0)\n",
        "result = layer.forward(X)\n",
        "assert result.shape == (2, 1, 1, 2)"
      ],
      "execution_count": 7,
      "outputs": [
        {
          "output_type": "stream",
          "text": [
            "Shape of X: (2, 2, 2, 2)\n"
          ],
          "name": "stdout"
        }
      ]
    },
    {
      "cell_type": "markdown",
      "metadata": {
        "id": "IY8Dffj26qam"
      },
      "source": [
        "## А теперь имплементируем обратный проход\n",
        "Возможно, это самое сложное место в курсе. Дальше будет лучше.\n",
        "\n",
        "Раз выполнение сверточного слоя эквивалентно полносвязному слою для каждого \"пикселя\" выхода, то общий обратный проход эквивалентен обратному проходу каждого из таких \"слоев\".  \n",
        "Градиенты от каждого из этих \"слоев\" в каждом пикселе надо сложить в соответствующие пиксели градиента по входу, а градиенты весов сложить все вместе."
      ]
    },
    {
      "cell_type": "code",
      "metadata": {
        "scrolled": false,
        "id": "6T2vv_1p6qan",
        "colab": {
          "base_uri": "https://localhost:8080/"
        },
        "outputId": "a0b68792-829c-4662-f85f-1d73db52a519"
      },
      "source": [
        "# First test - check the shape is right\n",
        "layer = ConvolutionalLayer(in_channels=2, out_channels=2, filter_size=2, padding=0)\n",
        "result = layer.forward(X)\n",
        "d_input = layer.backward(np.ones_like(result))\n",
        "assert d_input.shape == X.shape\n",
        "\n",
        "# Actually test the backward pass\n",
        "# As usual, you'll need to copy gradient check code from the previous assignment\n",
        "layer = ConvolutionalLayer(in_channels=2, out_channels=2, filter_size=2, padding=0)\n",
        "assert check_layer_gradient(layer, X)\n",
        "\n",
        "layer = ConvolutionalLayer(in_channels=2, out_channels=2, filter_size=2, padding=0)\n",
        "assert check_layer_param_gradient(layer, X, 'W')\n",
        "layer = ConvolutionalLayer(in_channels=2, out_channels=2, filter_size=2, padding=0)\n",
        "assert check_layer_param_gradient(layer, X, 'B')"
      ],
      "execution_count": 8,
      "outputs": [
        {
          "output_type": "stream",
          "text": [
            "Gradient check passed!\n",
            "Gradient check passed!\n",
            "Gradient check passed!\n"
          ],
          "name": "stdout"
        }
      ]
    },
    {
      "cell_type": "code",
      "metadata": {
        "id": "YXClvM2i6qao",
        "colab": {
          "base_uri": "https://localhost:8080/"
        },
        "outputId": "2cad9a25-3462-4e9d-e612-ef83f37b638b"
      },
      "source": [
        "layer = ConvolutionalLayer(in_channels=3, out_channels=3, filter_size=3, padding=1)\n",
        "assert check_layer_param_gradient(layer, train_X[:2], 'W')\n",
        "layer = ConvolutionalLayer(in_channels=3, out_channels=3, filter_size=3, padding=1)\n",
        "assert check_layer_param_gradient(layer, train_X[:2], 'B')"
      ],
      "execution_count": 9,
      "outputs": [
        {
          "output_type": "stream",
          "text": [
            "Gradient check passed!\n",
            "Gradient check passed!\n"
          ],
          "name": "stdout"
        }
      ]
    },
    {
      "cell_type": "markdown",
      "metadata": {
        "id": "QM6n15aJ6qar"
      },
      "source": [
        "Осталось реализовать дополнение нулями (padding).   \n",
        "Достаточно дополнить входной тензор нулями по сторонам. Не забудьте учесть это при обратном проходе!"
      ]
    },
    {
      "cell_type": "code",
      "metadata": {
        "scrolled": true,
        "id": "_HJixn-46qas",
        "colab": {
          "base_uri": "https://localhost:8080/"
        },
        "outputId": "847bd483-e47b-4025-8944-2121634af432"
      },
      "source": [
        "layer = ConvolutionalLayer(in_channels=2, out_channels=2, filter_size=3, padding=1)\n",
        "result = layer.forward(X)\n",
        "# Note this kind of layer produces the same dimensions as input\n",
        "assert result.shape == X.shape,\"Result shape: %s - Expected shape %s\" % (result.shape, X.shape)\n",
        "d_input = layer.backward(np.ones_like(result))\n",
        "assert d_input.shape == X.shape\n",
        "layer = ConvolutionalLayer(in_channels=2, out_channels=2, filter_size=3, padding=1)\n",
        "assert check_layer_gradient(layer, X)"
      ],
      "execution_count": 10,
      "outputs": [
        {
          "output_type": "stream",
          "text": [
            "Gradient check passed!\n"
          ],
          "name": "stdout"
        }
      ]
    },
    {
      "cell_type": "markdown",
      "metadata": {
        "id": "TtLDpojL6qau"
      },
      "source": [
        "## После следующего слоя вам уже будет все ни по чем - max pooling\n",
        "\n",
        "Max Pooling - это слой, реализующий операцию максимума для каждого канала отдельно в окресности из `pool_size` \"пикселей\".\n",
        "\n",
        "![image](https://upload.wikimedia.org/wikipedia/commons/e/e9/Max_pooling.png)\n",
        "\n",
        "И напомним что такое stride.  \n",
        "Stride - это на сколько \"пикселей\" сдвигается окно на одном шаге.  \n",
        "Вот здесь, например, stride = 2\n",
        "\n",
        "![image.png](http://deeplearning.net/software/theano/_images/no_padding_strides.gif)\n",
        "\n",
        "На практике, для max pooling значение stride часто равно pool size."
      ]
    },
    {
      "cell_type": "code",
      "metadata": {
        "id": "SL4g5rZ06qav",
        "colab": {
          "base_uri": "https://localhost:8080/"
        },
        "outputId": "7284c40c-0823-4ffd-81e2-59e1fe0f60ae"
      },
      "source": [
        "pool = MaxPoolingLayer(2, 2)\n",
        "result = pool.forward(X)\n",
        "assert result.shape == (2, 1, 1, 2)\n",
        "\n",
        "assert check_layer_gradient(pool, X)"
      ],
      "execution_count": 11,
      "outputs": [
        {
          "output_type": "stream",
          "text": [
            "Gradient check passed!\n"
          ],
          "name": "stdout"
        }
      ]
    },
    {
      "cell_type": "code",
      "metadata": {
        "id": "845Z90ao6qa0",
        "colab": {
          "base_uri": "https://localhost:8080/"
        },
        "outputId": "1325bbf4-95a1-4c27-8efc-60aef2da2a12"
      },
      "source": [
        "pool = MaxPoolingLayer(4, 4)\n",
        "assert check_layer_gradient(pool, train_X[:1])"
      ],
      "execution_count": 12,
      "outputs": [
        {
          "output_type": "stream",
          "text": [
            "Gradient check passed!\n"
          ],
          "name": "stdout"
        }
      ]
    },
    {
      "cell_type": "markdown",
      "metadata": {
        "id": "Qp6873Od6qa2"
      },
      "source": [
        "И на закуску - слой, преобразующий четырехмерные тензоры в двумерные.\n",
        "\n",
        "Этот слой понадобится нам, чтобы в конце сети перейти от сверточных слоев к полносвязным."
      ]
    },
    {
      "cell_type": "code",
      "metadata": {
        "id": "e2EPKlwB6qa4",
        "colab": {
          "base_uri": "https://localhost:8080/"
        },
        "outputId": "b1f09854-eaff-4a76-d167-ec4508947002"
      },
      "source": [
        "flattener = Flattener()\n",
        "result = flattener.forward(X)\n",
        "assert result.shape == (2,8)\n",
        "\n",
        "assert check_layer_gradient(flattener, X)"
      ],
      "execution_count": 13,
      "outputs": [
        {
          "output_type": "stream",
          "text": [
            "Gradient check passed!\n"
          ],
          "name": "stdout"
        }
      ]
    },
    {
      "cell_type": "markdown",
      "metadata": {
        "id": "odObPZrt6qa5"
      },
      "source": [
        "# Теперь есть все кирпичики, создаем модель"
      ]
    },
    {
      "cell_type": "code",
      "metadata": {
        "scrolled": false,
        "id": "3R6UKCt76qa8",
        "colab": {
          "base_uri": "https://localhost:8080/"
        },
        "outputId": "914a9438-fd5e-401d-9a53-46d3ed16eb3e"
      },
      "source": [
        "# TODO: In model.py, implement missed functions function for ConvNet model\n",
        "\n",
        "# No need to use L2 regularization\n",
        "model = ConvNet(input_shape=(32,32,3), n_output_classes=10, conv1_channels=2, conv2_channels=2)\n",
        "loss = model.compute_loss_and_gradients(train_X[:2], train_y[:2])\n",
        "\n",
        "# TODO Now implement backward pass and aggregate all of the params\n",
        "check_model_gradient(model, train_X[:2], train_y[:2])"
      ],
      "execution_count": 14,
      "outputs": [
        {
          "output_type": "stream",
          "text": [
            "Checking gradient for Wc1\n",
            "Gradient check passed!\n",
            "Checking gradient for Bc1\n",
            "Gradient check passed!\n",
            "Checking gradient for Wc2\n",
            "Gradient check passed!\n",
            "Checking gradient for Bc2\n",
            "Gradient check passed!\n",
            "Checking gradient for Wfc\n",
            "Gradient check passed!\n",
            "Checking gradient for Bfc\n",
            "Gradient check passed!\n"
          ],
          "name": "stdout"
        },
        {
          "output_type": "execute_result",
          "data": {
            "text/plain": [
              "True"
            ]
          },
          "metadata": {
            "tags": []
          },
          "execution_count": 14
        }
      ]
    },
    {
      "cell_type": "markdown",
      "metadata": {
        "id": "F4s6Lotf6qa_"
      },
      "source": [
        "# Оптимизатор и код для тренировки \n",
        "Должен заработать с кодом из прошлого задания без изменений!"
      ]
    },
    {
      "cell_type": "code",
      "metadata": {
        "scrolled": false,
        "id": "T4XBblLt6qbD",
        "colab": {
          "base_uri": "https://localhost:8080/"
        },
        "outputId": "08aae0c3-0f50-4dd6-df3a-290421f6c191"
      },
      "source": [
        "model = ConvNet(input_shape=(32,32,3), n_output_classes=10, conv1_channels=2, conv2_channels=2)\n",
        "dataset = Dataset(train_X[:16], train_y[:16], val_X[:16], val_y[:16])\n",
        "trainer = Trainer(model, dataset, SGD(), batch_size=16, learning_rate=1e-4)\n",
        "\n",
        "loss_history, train_history, val_history = trainer.fit()"
      ],
      "execution_count": 15,
      "outputs": [
        {
          "output_type": "stream",
          "text": [
            "Epoch: 1, Loss: 2.301944, Train accuracy: 0.125000, val accuracy: 0.062500\n",
            "Epoch: 2, Loss: 2.301498, Train accuracy: 0.125000, val accuracy: 0.125000\n",
            "Epoch: 3, Loss: 2.301052, Train accuracy: 0.125000, val accuracy: 0.125000\n",
            "Epoch: 4, Loss: 2.300607, Train accuracy: 0.125000, val accuracy: 0.125000\n",
            "Epoch: 5, Loss: 2.300163, Train accuracy: 0.125000, val accuracy: 0.125000\n",
            "Epoch: 6, Loss: 2.299719, Train accuracy: 0.125000, val accuracy: 0.125000\n",
            "Epoch: 7, Loss: 2.299275, Train accuracy: 0.125000, val accuracy: 0.125000\n",
            "Epoch: 8, Loss: 2.298832, Train accuracy: 0.125000, val accuracy: 0.125000\n",
            "Epoch: 9, Loss: 2.298389, Train accuracy: 0.125000, val accuracy: 0.125000\n",
            "Epoch: 10, Loss: 2.297946, Train accuracy: 0.125000, val accuracy: 0.125000\n",
            "Epoch: 11, Loss: 2.297505, Train accuracy: 0.187500, val accuracy: 0.125000\n",
            "Epoch: 12, Loss: 2.297063, Train accuracy: 0.187500, val accuracy: 0.125000\n",
            "Epoch: 13, Loss: 2.296622, Train accuracy: 0.187500, val accuracy: 0.125000\n",
            "Epoch: 14, Loss: 2.296181, Train accuracy: 0.187500, val accuracy: 0.125000\n",
            "Epoch: 15, Loss: 2.295741, Train accuracy: 0.187500, val accuracy: 0.125000\n",
            "Epoch: 16, Loss: 2.295302, Train accuracy: 0.187500, val accuracy: 0.125000\n",
            "Epoch: 17, Loss: 2.294862, Train accuracy: 0.250000, val accuracy: 0.125000\n",
            "Epoch: 18, Loss: 2.294423, Train accuracy: 0.250000, val accuracy: 0.125000\n",
            "Epoch: 19, Loss: 2.293985, Train accuracy: 0.250000, val accuracy: 0.125000\n",
            "Epoch: 20, Loss: 2.293547, Train accuracy: 0.250000, val accuracy: 0.125000\n"
          ],
          "name": "stdout"
        }
      ]
    },
    {
      "cell_type": "code",
      "metadata": {
        "id": "eVcXAxvN6qbG",
        "colab": {
          "base_uri": "https://localhost:8080/",
          "height": 282
        },
        "outputId": "4782e04e-0114-41ce-8357-59eedd34ee0c"
      },
      "source": [
        "plt.plot(train_history)\n",
        "plt.plot(val_history)"
      ],
      "execution_count": 16,
      "outputs": [
        {
          "output_type": "execute_result",
          "data": {
            "text/plain": [
              "[<matplotlib.lines.Line2D at 0x7f0c443250b8>]"
            ]
          },
          "metadata": {
            "tags": []
          },
          "execution_count": 16
        },
        {
          "output_type": "display_data",
          "data": {
            "image/png": "[encoded data removed]",
            "text/plain": [
              "<Figure size 432x288 with 1 Axes>"
            ]
          },
          "metadata": {
            "tags": [],
            "needs_background": "light"
          }
        }
      ]
    },
    {
      "cell_type": "markdown",
      "metadata": {
        "id": "vHKB9Dk16qbH"
      },
      "source": [
        "# Последнее упражнение\n",
        "В качестве последнего упражнения мы доведем точность на тренировочном наборе данных до 100% на небольшом наборе данных.\n",
        "Сверточные сети требуют большого количества вычислений и аккуратной эффективной реализации, поэтому настоящие модели мы будем тренировать уже на PyTorch в следующем задании."
      ]
    },
    {
      "cell_type": "markdown",
      "metadata": {
        "id": "PNY--mYJ6qbI"
      },
      "source": [
        "## Итак, оверфитим маленький набор данных\n"
      ]
    },
    {
      "cell_type": "code",
      "metadata": {
        "id": "9_TZztQG6qbK",
        "colab": {
          "base_uri": "https://localhost:8080/"
        },
        "outputId": "d4d993e1-077b-4a5c-d07f-e5abd6ce7297"
      },
      "source": [
        "data_size = 128\n",
        "model = ConvNet(input_shape=(32,32,3), n_output_classes=10, conv1_channels=16, conv2_channels=32)\n",
        "dataset = Dataset(train_X[:data_size], train_y[:data_size], val_X[:data_size], val_y[:data_size])\n",
        "# TODO: Change any hyperparamers or optimizators to reach 1.0 training accuracy in 50 epochs or less\n",
        "# Hint: If you have hard time finding the right parameters manually, try grid search or random search!\n",
        "trainer = Trainer(model, dataset, MomentumSGD(0.99), learning_rate=1e-3, num_epochs=50, batch_size=8)\n",
        "\n",
        "loss_history, train_history, val_history = trainer.fit()"
      ],
      "execution_count": 25,
      "outputs": [
        {
          "output_type": "stream",
          "text": [
            "Epoch: 1, Loss: 8.381140, Train accuracy: 0.101562, val accuracy: 0.054688\n",
            "Epoch: 2, Loss: 14.277386, Train accuracy: 0.234375, val accuracy: 0.187500\n",
            "Epoch: 3, Loss: 8.175513, Train accuracy: 0.304688, val accuracy: 0.140625\n",
            "Epoch: 4, Loss: 4.568973, Train accuracy: 0.242188, val accuracy: 0.093750\n",
            "Epoch: 5, Loss: 8.508115, Train accuracy: 0.312500, val accuracy: 0.242188\n",
            "Epoch: 6, Loss: 5.653526, Train accuracy: 0.320312, val accuracy: 0.171875\n",
            "Epoch: 7, Loss: 4.387338, Train accuracy: 0.257812, val accuracy: 0.117188\n",
            "Epoch: 8, Loss: 3.852879, Train accuracy: 0.437500, val accuracy: 0.171875\n",
            "Epoch: 9, Loss: 1.689386, Train accuracy: 0.453125, val accuracy: 0.140625\n",
            "Epoch: 10, Loss: 3.508855, Train accuracy: 0.453125, val accuracy: 0.242188\n",
            "Epoch: 11, Loss: 3.884396, Train accuracy: 0.398438, val accuracy: 0.148438\n",
            "Epoch: 12, Loss: 1.299873, Train accuracy: 0.546875, val accuracy: 0.210938\n",
            "Epoch: 13, Loss: 1.660686, Train accuracy: 0.578125, val accuracy: 0.101562\n",
            "Epoch: 14, Loss: 0.901259, Train accuracy: 0.726562, val accuracy: 0.132812\n",
            "Epoch: 15, Loss: 0.615828, Train accuracy: 0.703125, val accuracy: 0.148438\n",
            "Epoch: 16, Loss: 0.601441, Train accuracy: 0.765625, val accuracy: 0.109375\n",
            "Epoch: 17, Loss: 0.786212, Train accuracy: 0.765625, val accuracy: 0.148438\n",
            "Epoch: 18, Loss: 0.816045, Train accuracy: 0.773438, val accuracy: 0.171875\n",
            "Epoch: 19, Loss: 0.567986, Train accuracy: 0.828125, val accuracy: 0.109375\n",
            "Epoch: 20, Loss: 0.951113, Train accuracy: 0.867188, val accuracy: 0.148438\n",
            "Epoch: 21, Loss: 0.458553, Train accuracy: 0.843750, val accuracy: 0.210938\n",
            "Epoch: 22, Loss: 0.577319, Train accuracy: 0.789062, val accuracy: 0.156250\n",
            "Epoch: 23, Loss: 0.414516, Train accuracy: 0.890625, val accuracy: 0.148438\n",
            "Epoch: 24, Loss: 0.734505, Train accuracy: 0.890625, val accuracy: 0.210938\n",
            "Epoch: 25, Loss: 0.571487, Train accuracy: 0.914062, val accuracy: 0.117188\n",
            "Epoch: 26, Loss: 0.699041, Train accuracy: 0.773438, val accuracy: 0.093750\n",
            "Epoch: 27, Loss: 0.730047, Train accuracy: 0.882812, val accuracy: 0.109375\n",
            "Epoch: 28, Loss: 0.395275, Train accuracy: 0.828125, val accuracy: 0.148438\n",
            "Epoch: 29, Loss: 0.463480, Train accuracy: 0.906250, val accuracy: 0.125000\n",
            "Epoch: 30, Loss: 0.642323, Train accuracy: 0.921875, val accuracy: 0.125000\n",
            "Epoch: 31, Loss: 0.536808, Train accuracy: 0.945312, val accuracy: 0.132812\n",
            "Epoch: 32, Loss: 0.528170, Train accuracy: 0.960938, val accuracy: 0.125000\n",
            "Epoch: 33, Loss: 0.430349, Train accuracy: 0.960938, val accuracy: 0.140625\n",
            "Epoch: 34, Loss: 0.145302, Train accuracy: 0.921875, val accuracy: 0.156250\n",
            "Epoch: 35, Loss: 0.246503, Train accuracy: 0.960938, val accuracy: 0.148438\n",
            "Epoch: 36, Loss: 0.359045, Train accuracy: 0.929688, val accuracy: 0.164062\n",
            "Epoch: 37, Loss: 0.639335, Train accuracy: 0.945312, val accuracy: 0.148438\n",
            "Epoch: 38, Loss: 0.064641, Train accuracy: 0.937500, val accuracy: 0.125000\n",
            "Epoch: 39, Loss: 0.226955, Train accuracy: 0.992188, val accuracy: 0.125000\n",
            "Epoch: 40, Loss: 0.227205, Train accuracy: 0.976562, val accuracy: 0.132812\n",
            "Epoch: 41, Loss: 0.839731, Train accuracy: 0.968750, val accuracy: 0.132812\n",
            "Epoch: 42, Loss: 0.337046, Train accuracy: 0.984375, val accuracy: 0.156250\n",
            "Epoch: 43, Loss: 0.365441, Train accuracy: 0.984375, val accuracy: 0.156250\n",
            "Epoch: 44, Loss: 0.157990, Train accuracy: 1.000000, val accuracy: 0.132812\n",
            "Epoch: 45, Loss: 0.225293, Train accuracy: 0.984375, val accuracy: 0.164062\n",
            "Epoch: 46, Loss: 0.151932, Train accuracy: 1.000000, val accuracy: 0.140625\n",
            "Epoch: 47, Loss: 0.260397, Train accuracy: 0.984375, val accuracy: 0.093750\n",
            "Epoch: 48, Loss: 0.338197, Train accuracy: 0.992188, val accuracy: 0.164062\n",
            "Epoch: 49, Loss: 0.477795, Train accuracy: 0.992188, val accuracy: 0.148438\n",
            "Epoch: 50, Loss: 0.134497, Train accuracy: 1.000000, val accuracy: 0.171875\n"
          ],
          "name": "stdout"
        }
      ]
    },
    {
      "cell_type": "code",
      "metadata": {
        "id": "JW5FdeTN6qbM",
        "colab": {
          "base_uri": "https://localhost:8080/",
          "height": 282
        },
        "outputId": "33e222c3-27b1-41fb-db21-696b8e228fbb"
      },
      "source": [
        "plt.plot(train_history)\n",
        "plt.plot(val_history)"
      ],
      "execution_count": 26,
      "outputs": [
        {
          "output_type": "execute_result",
          "data": {
            "text/plain": [
              "[<matplotlib.lines.Line2D at 0x7f0c43d33908>]"
            ]
          },
          "metadata": {
            "tags": []
          },
          "execution_count": 26
        },
        {
          "output_type": "display_data",
          "data": {
            "image/png": "[encoded data removed]",
            "text/plain": [
              "<Figure size 432x288 with 1 Axes>"
            ]
          },
          "metadata": {
            "tags": [],
            "needs_background": "light"
          }
        }
      ]
    },
    {
      "cell_type": "markdown",
      "metadata": {
        "id": "DmgfmVbO6qbO"
      },
      "source": [
        "Дальнейшие упражнения - уже на PyTorch, открывайте следующий notebook!\n",
        "\n",
        "![image.png](attachment:image.png)"
      ]
    }
  ]
}