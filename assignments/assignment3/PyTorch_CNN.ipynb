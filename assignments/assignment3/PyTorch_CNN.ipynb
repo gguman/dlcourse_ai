{
  "nbformat": 4,
  "nbformat_minor": 0,
  "metadata": {
    "accelerator": "GPU",
    "colab": {
      "name": "PyTorch_CNN.ipynb",
      "provenance": [],
      "collapsed_sections": []
    },
    "kernelspec": {
      "display_name": "Python 3",
      "language": "python",
      "name": "python3"
    },
    "language_info": {
      "codemirror_mode": {
        "name": "ipython",
        "version": 3
      },
      "file_extension": ".py",
      "mimetype": "text/x-python",
      "name": "python",
      "nbconvert_exporter": "python",
      "pygments_lexer": "ipython3",
      "version": "3.9.0"
    },
    "widgets": {
      "application/vnd.jupyter.widget-state+json": {
        "bcccf0e828fe4b8ea728f0e2e08adf63": {
          "model_module": "@jupyter-widgets/controls",
          "model_name": "HBoxModel",
          "state": {
            "_view_name": "HBoxView",
            "_dom_classes": [],
            "_model_name": "HBoxModel",
            "_view_module": "@jupyter-widgets/controls",
            "_model_module_version": "1.5.0",
            "_view_count": null,
            "_view_module_version": "1.5.0",
            "box_style": "",
            "layout": "IPY_MODEL_65cb1db7cdb0496196aa83dc8d813011",
            "_model_module": "@jupyter-widgets/controls",
            "children": [
              "IPY_MODEL_fd1e8004f05c40f6a5e87451ad40b281",
              "IPY_MODEL_ea5dea35fe614092a75b9b20fb2211b1"
            ]
          }
        },
        "65cb1db7cdb0496196aa83dc8d813011": {
          "model_module": "@jupyter-widgets/base",
          "model_name": "LayoutModel",
          "state": {
            "_view_name": "LayoutView",
            "grid_template_rows": null,
            "right": null,
            "justify_content": null,
            "_view_module": "@jupyter-widgets/base",
            "overflow": null,
            "_model_module_version": "1.2.0",
            "_view_count": null,
            "flex_flow": null,
            "width": null,
            "min_width": null,
            "border": null,
            "align_items": null,
            "bottom": null,
            "_model_module": "@jupyter-widgets/base",
            "top": null,
            "grid_column": null,
            "overflow_y": null,
            "overflow_x": null,
            "grid_auto_flow": null,
            "grid_area": null,
            "grid_template_columns": null,
            "flex": null,
            "_model_name": "LayoutModel",
            "justify_items": null,
            "grid_row": null,
            "max_height": null,
            "align_content": null,
            "visibility": null,
            "align_self": null,
            "height": null,
            "min_height": null,
            "padding": null,
            "grid_auto_rows": null,
            "grid_gap": null,
            "max_width": null,
            "order": null,
            "_view_module_version": "1.2.0",
            "grid_template_areas": null,
            "object_position": null,
            "object_fit": null,
            "grid_auto_columns": null,
            "margin": null,
            "display": null,
            "left": null
          }
        },
        "fd1e8004f05c40f6a5e87451ad40b281": {
          "model_module": "@jupyter-widgets/controls",
          "model_name": "FloatProgressModel",
          "state": {
            "_view_name": "ProgressView",
            "style": "IPY_MODEL_cb1bf46dd0f94911a14627ae39955169",
            "_dom_classes": [],
            "description": "",
            "_model_name": "FloatProgressModel",
            "bar_style": "success",
            "max": 1,
            "_view_module": "@jupyter-widgets/controls",
            "_model_module_version": "1.5.0",
            "value": 1,
            "_view_count": null,
            "_view_module_version": "1.5.0",
            "orientation": "horizontal",
            "min": 0,
            "description_tooltip": null,
            "_model_module": "@jupyter-widgets/controls",
            "layout": "IPY_MODEL_c852cdcc67d5414f84f230ffa4fdc4e5"
          }
        },
        "ea5dea35fe614092a75b9b20fb2211b1": {
          "model_module": "@jupyter-widgets/controls",
          "model_name": "HTMLModel",
          "state": {
            "_view_name": "HTMLView",
            "style": "IPY_MODEL_35bcaadeadb24cc683aa273cf0c5e656",
            "_dom_classes": [],
            "description": "",
            "_model_name": "HTMLModel",
            "placeholder": "​",
            "_view_module": "@jupyter-widgets/controls",
            "_model_module_version": "1.5.0",
            "value": " 182042624/? [00:06&lt;00:00, 26505853.20it/s]",
            "_view_count": null,
            "_view_module_version": "1.5.0",
            "description_tooltip": null,
            "_model_module": "@jupyter-widgets/controls",
            "layout": "IPY_MODEL_c6ad61d2ecb347e680877cae3a83c3fc"
          }
        },
        "cb1bf46dd0f94911a14627ae39955169": {
          "model_module": "@jupyter-widgets/controls",
          "model_name": "ProgressStyleModel",
          "state": {
            "_view_name": "StyleView",
            "_model_name": "ProgressStyleModel",
            "description_width": "initial",
            "_view_module": "@jupyter-widgets/base",
            "_model_module_version": "1.5.0",
            "_view_count": null,
            "_view_module_version": "1.2.0",
            "bar_color": null,
            "_model_module": "@jupyter-widgets/controls"
          }
        },
        "c852cdcc67d5414f84f230ffa4fdc4e5": {
          "model_module": "@jupyter-widgets/base",
          "model_name": "LayoutModel",
          "state": {
            "_view_name": "LayoutView",
            "grid_template_rows": null,
            "right": null,
            "justify_content": null,
            "_view_module": "@jupyter-widgets/base",
            "overflow": null,
            "_model_module_version": "1.2.0",
            "_view_count": null,
            "flex_flow": null,
            "width": null,
            "min_width": null,
            "border": null,
            "align_items": null,
            "bottom": null,
            "_model_module": "@jupyter-widgets/base",
            "top": null,
            "grid_column": null,
            "overflow_y": null,
            "overflow_x": null,
            "grid_auto_flow": null,
            "grid_area": null,
            "grid_template_columns": null,
            "flex": null,
            "_model_name": "LayoutModel",
            "justify_items": null,
            "grid_row": null,
            "max_height": null,
            "align_content": null,
            "visibility": null,
            "align_self": null,
            "height": null,
            "min_height": null,
            "padding": null,
            "grid_auto_rows": null,
            "grid_gap": null,
            "max_width": null,
            "order": null,
            "_view_module_version": "1.2.0",
            "grid_template_areas": null,
            "object_position": null,
            "object_fit": null,
            "grid_auto_columns": null,
            "margin": null,
            "display": null,
            "left": null
          }
        },
        "35bcaadeadb24cc683aa273cf0c5e656": {
          "model_module": "@jupyter-widgets/controls",
          "model_name": "DescriptionStyleModel",
          "state": {
            "_view_name": "StyleView",
            "_model_name": "DescriptionStyleModel",
            "description_width": "",
            "_view_module": "@jupyter-widgets/base",
            "_model_module_version": "1.5.0",
            "_view_count": null,
            "_view_module_version": "1.2.0",
            "_model_module": "@jupyter-widgets/controls"
          }
        },
        "c6ad61d2ecb347e680877cae3a83c3fc": {
          "model_module": "@jupyter-widgets/base",
          "model_name": "LayoutModel",
          "state": {
            "_view_name": "LayoutView",
            "grid_template_rows": null,
            "right": null,
            "justify_content": null,
            "_view_module": "@jupyter-widgets/base",
            "overflow": null,
            "_model_module_version": "1.2.0",
            "_view_count": null,
            "flex_flow": null,
            "width": null,
            "min_width": null,
            "border": null,
            "align_items": null,
            "bottom": null,
            "_model_module": "@jupyter-widgets/base",
            "top": null,
            "grid_column": null,
            "overflow_y": null,
            "overflow_x": null,
            "grid_auto_flow": null,
            "grid_area": null,
            "grid_template_columns": null,
            "flex": null,
            "_model_name": "LayoutModel",
            "justify_items": null,
            "grid_row": null,
            "max_height": null,
            "align_content": null,
            "visibility": null,
            "align_self": null,
            "height": null,
            "min_height": null,
            "padding": null,
            "grid_auto_rows": null,
            "grid_gap": null,
            "max_width": null,
            "order": null,
            "_view_module_version": "1.2.0",
            "grid_template_areas": null,
            "object_position": null,
            "object_fit": null,
            "grid_auto_columns": null,
            "margin": null,
            "display": null,
            "left": null
          }
        },
        "db7b43fb7f7a47b08f230ec0239aeb00": {
          "model_module": "@jupyter-widgets/controls",
          "model_name": "HBoxModel",
          "state": {
            "_view_name": "HBoxView",
            "_dom_classes": [],
            "_model_name": "HBoxModel",
            "_view_module": "@jupyter-widgets/controls",
            "_model_module_version": "1.5.0",
            "_view_count": null,
            "_view_module_version": "1.5.0",
            "box_style": "",
            "layout": "IPY_MODEL_1689adeb274a4d0a85e39309049f9304",
            "_model_module": "@jupyter-widgets/controls",
            "children": [
              "IPY_MODEL_8ce7b7360b7d449c97b6d5cb3ea31efd",
              "IPY_MODEL_6d5c95f1e0cb45b487df31ec55f7dc88"
            ]
          }
        },
        "1689adeb274a4d0a85e39309049f9304": {
          "model_module": "@jupyter-widgets/base",
          "model_name": "LayoutModel",
          "state": {
            "_view_name": "LayoutView",
            "grid_template_rows": null,
            "right": null,
            "justify_content": null,
            "_view_module": "@jupyter-widgets/base",
            "overflow": null,
            "_model_module_version": "1.2.0",
            "_view_count": null,
            "flex_flow": null,
            "width": null,
            "min_width": null,
            "border": null,
            "align_items": null,
            "bottom": null,
            "_model_module": "@jupyter-widgets/base",
            "top": null,
            "grid_column": null,
            "overflow_y": null,
            "overflow_x": null,
            "grid_auto_flow": null,
            "grid_area": null,
            "grid_template_columns": null,
            "flex": null,
            "_model_name": "LayoutModel",
            "justify_items": null,
            "grid_row": null,
            "max_height": null,
            "align_content": null,
            "visibility": null,
            "align_self": null,
            "height": null,
            "min_height": null,
            "padding": null,
            "grid_auto_rows": null,
            "grid_gap": null,
            "max_width": null,
            "order": null,
            "_view_module_version": "1.2.0",
            "grid_template_areas": null,
            "object_position": null,
            "object_fit": null,
            "grid_auto_columns": null,
            "margin": null,
            "display": null,
            "left": null
          }
        },
        "8ce7b7360b7d449c97b6d5cb3ea31efd": {
          "model_module": "@jupyter-widgets/controls",
          "model_name": "FloatProgressModel",
          "state": {
            "_view_name": "ProgressView",
            "style": "IPY_MODEL_cef5f0e20d564b2fa677a4f26c4d37e5",
            "_dom_classes": [],
            "description": "",
            "_model_name": "FloatProgressModel",
            "bar_style": "info",
            "max": 1,
            "_view_module": "@jupyter-widgets/controls",
            "_model_module_version": "1.5.0",
            "value": 1,
            "_view_count": null,
            "_view_module_version": "1.5.0",
            "orientation": "horizontal",
            "min": 0,
            "description_tooltip": null,
            "_model_module": "@jupyter-widgets/controls",
            "layout": "IPY_MODEL_1fc2795298194b3ead0e3329afd08c87"
          }
        },
        "6d5c95f1e0cb45b487df31ec55f7dc88": {
          "model_module": "@jupyter-widgets/controls",
          "model_name": "HTMLModel",
          "state": {
            "_view_name": "HTMLView",
            "style": "IPY_MODEL_06da76c613c345b4b908aab5611e8bc4",
            "_dom_classes": [],
            "description": "",
            "_model_name": "HTMLModel",
            "placeholder": "​",
            "_view_module": "@jupyter-widgets/controls",
            "_model_module_version": "1.5.0",
            "value": " 64282624/? [00:20&lt;00:00, 34623766.28it/s]",
            "_view_count": null,
            "_view_module_version": "1.5.0",
            "description_tooltip": null,
            "_model_module": "@jupyter-widgets/controls",
            "layout": "IPY_MODEL_f15c446d5bb54ddfa57bf80f6ab60e7a"
          }
        },
        "cef5f0e20d564b2fa677a4f26c4d37e5": {
          "model_module": "@jupyter-widgets/controls",
          "model_name": "ProgressStyleModel",
          "state": {
            "_view_name": "StyleView",
            "_model_name": "ProgressStyleModel",
            "description_width": "initial",
            "_view_module": "@jupyter-widgets/base",
            "_model_module_version": "1.5.0",
            "_view_count": null,
            "_view_module_version": "1.2.0",
            "bar_color": null,
            "_model_module": "@jupyter-widgets/controls"
          }
        },
        "1fc2795298194b3ead0e3329afd08c87": {
          "model_module": "@jupyter-widgets/base",
          "model_name": "LayoutModel",
          "state": {
            "_view_name": "LayoutView",
            "grid_template_rows": null,
            "right": null,
            "justify_content": null,
            "_view_module": "@jupyter-widgets/base",
            "overflow": null,
            "_model_module_version": "1.2.0",
            "_view_count": null,
            "flex_flow": null,
            "width": null,
            "min_width": null,
            "border": null,
            "align_items": null,
            "bottom": null,
            "_model_module": "@jupyter-widgets/base",
            "top": null,
            "grid_column": null,
            "overflow_y": null,
            "overflow_x": null,
            "grid_auto_flow": null,
            "grid_area": null,
            "grid_template_columns": null,
            "flex": null,
            "_model_name": "LayoutModel",
            "justify_items": null,
            "grid_row": null,
            "max_height": null,
            "align_content": null,
            "visibility": null,
            "align_self": null,
            "height": null,
            "min_height": null,
            "padding": null,
            "grid_auto_rows": null,
            "grid_gap": null,
            "max_width": null,
            "order": null,
            "_view_module_version": "1.2.0",
            "grid_template_areas": null,
            "object_position": null,
            "object_fit": null,
            "grid_auto_columns": null,
            "margin": null,
            "display": null,
            "left": null
          }
        },
        "06da76c613c345b4b908aab5611e8bc4": {
          "model_module": "@jupyter-widgets/controls",
          "model_name": "DescriptionStyleModel",
          "state": {
            "_view_name": "StyleView",
            "_model_name": "DescriptionStyleModel",
            "description_width": "",
            "_view_module": "@jupyter-widgets/base",
            "_model_module_version": "1.5.0",
            "_view_count": null,
            "_view_module_version": "1.2.0",
            "_model_module": "@jupyter-widgets/controls"
          }
        },
        "f15c446d5bb54ddfa57bf80f6ab60e7a": {
          "model_module": "@jupyter-widgets/base",
          "model_name": "LayoutModel",
          "state": {
            "_view_name": "LayoutView",
            "grid_template_rows": null,
            "right": null,
            "justify_content": null,
            "_view_module": "@jupyter-widgets/base",
            "overflow": null,
            "_model_module_version": "1.2.0",
            "_view_count": null,
            "flex_flow": null,
            "width": null,
            "min_width": null,
            "border": null,
            "align_items": null,
            "bottom": null,
            "_model_module": "@jupyter-widgets/base",
            "top": null,
            "grid_column": null,
            "overflow_y": null,
            "overflow_x": null,
            "grid_auto_flow": null,
            "grid_area": null,
            "grid_template_columns": null,
            "flex": null,
            "_model_name": "LayoutModel",
            "justify_items": null,
            "grid_row": null,
            "max_height": null,
            "align_content": null,
            "visibility": null,
            "align_self": null,
            "height": null,
            "min_height": null,
            "padding": null,
            "grid_auto_rows": null,
            "grid_gap": null,
            "max_width": null,
            "order": null,
            "_view_module_version": "1.2.0",
            "grid_template_areas": null,
            "object_position": null,
            "object_fit": null,
            "grid_auto_columns": null,
            "margin": null,
            "display": null,
            "left": null
          }
        }
      }
    }
  },
  "cells": [
    {
      "cell_type": "markdown",
      "metadata": {
        "id": "2HWBVxffjphS"
      },
      "source": [
        "# Задание 3.2 - сверточные нейронные сети (CNNs) в PyTorch\n",
        "\n",
        "Это упражнение мы буде выполнять в Google Colab - https://colab.research.google.com/  \n",
        "Google Colab позволяет запускать код в notebook в облаке Google, где можно воспользоваться бесплатным GPU!  \n",
        "\n",
        "Авторы курса благодарят компанию Google и надеятся, что праздник не закончится.\n",
        "\n",
        "Туториал по настройке Google Colab:  \n",
        "https://medium.com/deep-learning-turkey/google-colab-free-gpu-tutorial-e113627b9f5d  \n",
        "(Keras инсталлировать не нужно, наш notebook сам установит PyTorch)\n"
      ]
    },
    {
      "cell_type": "code",
      "metadata": {
        "id": "FcXBeP1O7cnY"
      },
      "source": [
        "# Intstall PyTorch and download data\n",
        "#!pip3 install torch torchvision\n",
        "\n",
        "#!wget -c http://ufldl.stanford.edu/housenumbers/train_32x32.mat http://ufldl.stanford.edu/housenumbers/test_32x32.mat"
      ],
      "execution_count": null,
      "outputs": []
    },
    {
      "cell_type": "code",
      "metadata": {
        "id": "-afwWw-Q85vD"
      },
      "source": [
        "from collections import namedtuple\n",
        "\n",
        "import matplotlib.pyplot as plt\n",
        "import numpy as np\n",
        "import PIL\n",
        "import torch\n",
        "import torch.nn as nn\n",
        "import torch.optim as optim\n",
        "import torchvision.datasets as dset\n",
        "from torch.utils.data.sampler import SubsetRandomSampler\n",
        "\n",
        "from torchvision import transforms"
      ],
      "execution_count": 1,
      "outputs": []
    },
    {
      "cell_type": "code",
      "metadata": {
        "id": "NNU-OD9O9ltP"
      },
      "source": [
        "device = torch.device(\"cuda:0\") # Let's make sure GPU is available!"
      ],
      "execution_count": 2,
      "outputs": []
    },
    {
      "cell_type": "markdown",
      "metadata": {
        "id": "7OePkc01jphl"
      },
      "source": [
        "# Загружаем данные"
      ]
    },
    {
      "cell_type": "code",
      "metadata": {
        "colab": {
          "base_uri": "https://localhost:8080/",
          "height": 132,
          "referenced_widgets": [
            "bcccf0e828fe4b8ea728f0e2e08adf63",
            "65cb1db7cdb0496196aa83dc8d813011",
            "fd1e8004f05c40f6a5e87451ad40b281",
            "ea5dea35fe614092a75b9b20fb2211b1",
            "cb1bf46dd0f94911a14627ae39955169",
            "c852cdcc67d5414f84f230ffa4fdc4e5",
            "35bcaadeadb24cc683aa273cf0c5e656",
            "c6ad61d2ecb347e680877cae3a83c3fc",
            "db7b43fb7f7a47b08f230ec0239aeb00",
            "1689adeb274a4d0a85e39309049f9304",
            "8ce7b7360b7d449c97b6d5cb3ea31efd",
            "6d5c95f1e0cb45b487df31ec55f7dc88",
            "cef5f0e20d564b2fa677a4f26c4d37e5",
            "1fc2795298194b3ead0e3329afd08c87",
            "06da76c613c345b4b908aab5611e8bc4",
            "f15c446d5bb54ddfa57bf80f6ab60e7a"
          ]
        },
        "id": "YAvkoRx-9FsP",
        "outputId": "f34e3a33-dadd-4b7b-e5a9-b39e51a09a17"
      },
      "source": [
        "# First, lets load the dataset\n",
        "data_train = dset.SVHN('./', \n",
        "                       transform=transforms.Compose([\n",
        "                           transforms.ToTensor(),\n",
        "                           transforms.Normalize(mean=[0.43,0.44,0.47],\n",
        "                                               std=[0.20,0.20,0.20])                           \n",
        "                       ]),\n",
        "                       download=True\n",
        "                      )\n",
        "data_test = dset.SVHN('./', split='test', transform=transforms.Compose([\n",
        "                           transforms.ToTensor(),\n",
        "                           transforms.Normalize(mean=[0.43,0.44,0.47],\n",
        "                                               std=[0.20,0.20,0.20])                           \n",
        "                       ]),\n",
        "                      download=True\n",
        "                      )"
      ],
      "execution_count": 3,
      "outputs": [
        {
          "output_type": "stream",
          "text": [
            "Downloading http://ufldl.stanford.edu/housenumbers/train_32x32.mat to ./train_32x32.mat\n"
          ],
          "name": "stdout"
        },
        {
          "output_type": "display_data",
          "data": {
            "application/vnd.jupyter.widget-view+json": {
              "model_id": "bcccf0e828fe4b8ea728f0e2e08adf63",
              "version_minor": 0,
              "version_major": 2
            },
            "text/plain": [
              "HBox(children=(FloatProgress(value=1.0, bar_style='info', max=1.0), HTML(value='')))"
            ]
          },
          "metadata": {
            "tags": []
          }
        },
        {
          "output_type": "stream",
          "text": [
            "\n",
            "Downloading http://ufldl.stanford.edu/housenumbers/test_32x32.mat to ./test_32x32.mat\n"
          ],
          "name": "stdout"
        },
        {
          "output_type": "display_data",
          "data": {
            "application/vnd.jupyter.widget-view+json": {
              "model_id": "db7b43fb7f7a47b08f230ec0239aeb00",
              "version_minor": 0,
              "version_major": 2
            },
            "text/plain": [
              "HBox(children=(FloatProgress(value=1.0, bar_style='info', max=1.0), HTML(value='')))"
            ]
          },
          "metadata": {
            "tags": []
          }
        }
      ]
    },
    {
      "cell_type": "markdown",
      "metadata": {
        "id": "v5CAEbUSjphm"
      },
      "source": [
        "Разделяем данные на training и validation.\n",
        "\n",
        "На всякий случай для подробностей - https://pytorch.org/tutorials/beginner/data_loading_tutorial.html"
      ]
    },
    {
      "cell_type": "code",
      "metadata": {
        "id": "YRnr8CPg7Hli"
      },
      "source": [
        "batch_size = 64\n",
        "\n",
        "data_size = data_train.data.shape[0]\n",
        "validation_split = .2\n",
        "split = int(np.floor(validation_split * data_size))\n",
        "indices = list(range(data_size))\n",
        "np.random.shuffle(indices)\n",
        "\n",
        "train_indices, val_indices = indices[split:], indices[:split]\n",
        "\n",
        "train_sampler = SubsetRandomSampler(train_indices)\n",
        "val_sampler = SubsetRandomSampler(val_indices)\n",
        "\n",
        "train_loader = torch.utils.data.DataLoader(data_train, batch_size=batch_size, \n",
        "                                           sampler=train_sampler)\n",
        "val_loader = torch.utils.data.DataLoader(data_train, batch_size=batch_size,\n",
        "                                         sampler=val_sampler)"
      ],
      "execution_count": 4,
      "outputs": []
    },
    {
      "cell_type": "code",
      "metadata": {
        "id": "LyYvt-T67PBG"
      },
      "source": [
        "# We'll use a special helper module to shape it into a flat tensor\n",
        "class Flattener(nn.Module):\n",
        "    def forward(self, x):\n",
        "        batch_size, *_ = x.shape\n",
        "        return x.view(batch_size, -1)"
      ],
      "execution_count": 5,
      "outputs": []
    },
    {
      "cell_type": "markdown",
      "metadata": {
        "id": "XEhhuX0ejphy"
      },
      "source": [
        "Создадим простейшую сеть с новыми слоями:  \n",
        "Convolutional - `nn.Conv2d`  \n",
        "MaxPool - `nn.MaxPool2d`"
      ]
    },
    {
      "cell_type": "code",
      "metadata": {
        "id": "w9SFVGZP7SQd"
      },
      "source": [
        "nn_model = nn.Sequential(\n",
        "            nn.Conv2d(3, 64, 3, padding=1),\n",
        "            nn.ReLU(inplace=True),\n",
        "            nn.MaxPool2d(4),\n",
        "            nn.Conv2d(64, 64, 3, padding=1),\n",
        "            nn.ReLU(inplace=True),\n",
        "            nn.MaxPool2d(4),    \n",
        "            Flattener(),\n",
        "            nn.Linear(64 * 2 * 2, 10),\n",
        "          )\n",
        "\n",
        "nn_model.type(torch.cuda.FloatTensor)\n",
        "nn_model.to(device)\n",
        "\n",
        "loss = nn.CrossEntropyLoss().type(torch.cuda.FloatTensor)\n",
        "optimizer = optim.SGD(nn_model.parameters(), lr=1e-1, weight_decay=1e-4)"
      ],
      "execution_count": null,
      "outputs": []
    },
    {
      "cell_type": "code",
      "metadata": {
        "id": "xSrj2ZyGb_re"
      },
      "source": [
        "for param in nn_model.parameters():\n",
        "    print(param.shape)"
      ],
      "execution_count": null,
      "outputs": []
    },
    {
      "cell_type": "markdown",
      "metadata": {
        "id": "OI-qwJ3Njphz"
      },
      "source": [
        "Восстановите функцию `compute_accuracy` из прошлого задания.  \n",
        "Единственное отличие в новом - она должна передать данные на GPU прежде чем прогонять через модель. Сделайте это так же, как это делает функция `train_model`"
      ]
    },
    {
      "cell_type": "code",
      "metadata": {
        "id": "2ek3KVQK7hJ6"
      },
      "source": [
        "def train_model(model, train_loader, val_loader, loss, optimizer, num_epochs, scheduler=None, anneal=None):    \n",
        "    loss_history = []\n",
        "    train_history = []\n",
        "    val_history = []\n",
        "    for epoch in range(num_epochs):\n",
        "        model.train() # Enter train mode\n",
        "        \n",
        "        if anneal:\n",
        "          if not epoch % anneal:\n",
        "            for g in optimizer.param_groups:\n",
        "              g['lr'] = g['lr'] * (1 - anneal)\n",
        "        \n",
        "        loss_accum = 0\n",
        "        correct_samples = 0\n",
        "        total_samples = 0\n",
        "        for i_step, (x, y) in enumerate(train_loader):\n",
        "          \n",
        "            x_gpu = x.to(device)\n",
        "            y_gpu = y.to(device)\n",
        "            prediction = model(x_gpu)    \n",
        "            loss_value = loss(prediction, y_gpu)\n",
        "            optimizer.zero_grad()\n",
        "            loss_value.backward()\n",
        "            optimizer.step()\n",
        "            \n",
        "            _, indices = torch.max(prediction, 1)\n",
        "            correct_samples += torch.sum(indices == y_gpu)\n",
        "            total_samples += y.shape[0]\n",
        "            \n",
        "            loss_accum += loss_value\n",
        "\n",
        "        ave_loss = loss_accum / i_step\n",
        "        train_accuracy = float(correct_samples) / total_samples\n",
        "        val_accuracy = compute_accuracy(model, val_loader)\n",
        "        \n",
        "        loss_history.append(float(ave_loss))\n",
        "        train_history.append(train_accuracy)\n",
        "        val_history.append(val_accuracy)\n",
        "\n",
        "        if scheduler: scheduler.step()\n",
        "        \n",
        "        print(\"Epoch: %i, Average loss: %f, Train accuracy: %f, Val accuracy: %f\" % (epoch + 1, ave_loss, train_accuracy, val_accuracy))\n",
        "        \n",
        "    return loss_history, train_history, val_history\n",
        "        \n",
        "def compute_accuracy(model, loader):\n",
        "    \"\"\"\n",
        "    Computes accuracy on the dataset wrapped in a loader\n",
        "    \n",
        "    Returns: accuracy as a float value between 0 and 1\n",
        "    \"\"\"\n",
        "    correct_samples = 0\n",
        "    total_samples = 0\n",
        "\n",
        "    for i_step, (x, y) in enumerate(loader):\n",
        "        model.eval() # Evaluation mode\n",
        "        # TODO: Copy implementation from previous assignment\n",
        "        # Don't forget to move the data to device before running it through the model!\n",
        "        \n",
        "        x_gpu = x.to(device)\n",
        "        y_gpu = y.to(device)\n",
        "        prediction = model(x_gpu) \n",
        "\n",
        "        _, indices = torch.max(prediction, 1)\n",
        "        correct_samples += torch.sum(indices == y_gpu)\n",
        "        total_samples += y.shape[0]\n",
        "\n",
        "    accuracy = correct_samples / total_samples\n",
        "    #raise Exception(\"Not implemented\")\n",
        "    return accuracy"
      ],
      "execution_count": 6,
      "outputs": []
    },
    {
      "cell_type": "code",
      "metadata": {
        "colab": {
          "base_uri": "https://localhost:8080/"
        },
        "id": "3MroU_0WcGSs",
        "outputId": "2590c27a-9c37-4fe2-f300-04a4c5de1cd1"
      },
      "source": [
        "loss_history, train_history, val_history = train_model(nn_model, train_loader, val_loader, loss, optimizer, 5)"
      ],
      "execution_count": null,
      "outputs": [
        {
          "output_type": "stream",
          "text": [
            "Epoch: 1, Average loss: 1.384517, Train accuracy: 0.537129, Val accuracy: 0.776602\n",
            "Epoch: 2, Average loss: 0.685986, Train accuracy: 0.790056, Val accuracy: 0.754215\n",
            "Epoch: 3, Average loss: 0.585471, Train accuracy: 0.824813, Val accuracy: 0.833254\n",
            "Epoch: 4, Average loss: 0.536867, Train accuracy: 0.839846, Val accuracy: 0.836462\n",
            "Epoch: 5, Average loss: 0.506207, Train accuracy: 0.851943, Val accuracy: 0.838168\n"
          ],
          "name": "stdout"
        }
      ]
    },
    {
      "cell_type": "markdown",
      "metadata": {
        "id": "6a-3a1ZFGEw_"
      },
      "source": [
        "# Аугментация данных (Data augmentation)\n",
        "\n",
        "В работе с изображениями одним из особенно важных методов является аугментация данных - то есть, генерация дополнительных данных для тренировки на основе изначальных.   \n",
        "Таким образом, мы получаем возможность \"увеличить\" набор данных для тренировки, что ведет к лучшей работе сети.\n",
        "Важно, чтобы аугментированные данные были похожи на те, которые могут встретиться в реальной жизни, иначе польза от аугментаций уменьшается и может ухудшить работу сети.\n",
        "\n",
        "С PyTorch идут несколько таких алгоритмов, называемых `transforms`. Более подробно про них можно прочитать тут -\n",
        "https://pytorch.org/tutorials/beginner/data_loading_tutorial.html#transforms\n",
        "\n",
        "Ниже мы используем следующие алгоритмы генерации:\n",
        "- ColorJitter - случайное изменение цвета\n",
        "- RandomHorizontalFlip - горизонтальное отражение с вероятностью 50%\n",
        "- RandomVerticalFlip - вертикальное отражение с вероятностью 50%\n",
        "- RandomRotation - случайный поворот"
      ]
    },
    {
      "cell_type": "code",
      "metadata": {
        "colab": {
          "base_uri": "https://localhost:8080/"
        },
        "id": "jCWMUWmr7t5g",
        "outputId": "c9ebc00f-b00c-426b-b6a4-b7216fb20390"
      },
      "source": [
        "tfs = transforms.Compose([\n",
        "    transforms.ColorJitter(hue=.50, saturation=.50),\n",
        "    transforms.RandomHorizontalFlip(),\n",
        "    transforms.RandomVerticalFlip(),\n",
        "    transforms.RandomRotation(50, resample=PIL.Image.BILINEAR),\n",
        "    transforms.ToTensor(),\n",
        "    transforms.Normalize(mean=[0.43,0.44,0.47],\n",
        "                       std=[0.20,0.20,0.20])                           \n",
        "])\n",
        "\n",
        "# Create augmented train dataset\n",
        "data_aug_train = dset.SVHN('./', \n",
        "                       transform=tfs,\n",
        "                       download=True\n",
        "                      )\n",
        "\n",
        "train_aug_loader = torch.utils.data.DataLoader(data_aug_train, batch_size=batch_size, \n",
        "                                           sampler=train_sampler)"
      ],
      "execution_count": 7,
      "outputs": [
        {
          "output_type": "stream",
          "text": [
            "Using downloaded and verified file: ./train_32x32.mat\n"
          ],
          "name": "stdout"
        }
      ]
    },
    {
      "cell_type": "markdown",
      "metadata": {
        "id": "SNagjMnyjph2"
      },
      "source": [
        "Визуализируем результаты агментации (вообще, смотреть на сгенерированные данные всегда очень полезно)."
      ]
    },
    {
      "cell_type": "code",
      "metadata": {
        "colab": {
          "base_uri": "https://localhost:8080/",
          "height": 150
        },
        "id": "YlJJEro1KZ45",
        "outputId": "e0402dca-e290-4ec9-e550-dd764dd49980"
      },
      "source": [
        "# TODO: Visualize some augmented images!\n",
        "# hint: you can create new datasets and loaders to accomplish this\n",
        "\n",
        "# Based on the visualizations, should we keep all the augmentations?\n",
        "\n",
        "tfs = transforms.Compose([\n",
        "    transforms.ColorJitter(hue=.20, saturation=.20),\n",
        "    transforms.RandomHorizontalFlip(),\n",
        "    transforms.RandomVerticalFlip(),\n",
        "    transforms.RandomRotation(10, resample=PIL.Image.BILINEAR),\n",
        "])\n",
        "\n",
        "data_aug_vis = dset.SVHN('./', \n",
        "                       transform=tfs,\n",
        "                       download=True\n",
        "                      )\n",
        "\n",
        "plt.figure(figsize=(30, 3))\n",
        "\n",
        "for i, (x, y) in enumerate(data_aug_vis):\n",
        "    if i == 10:\n",
        "        break\n",
        "    plt.subplot(1, 10, i+1)\n",
        "    plt.grid(False)\n",
        "    plt.imshow(x)\n",
        "    plt.axis('off')"
      ],
      "execution_count": null,
      "outputs": [
        {
          "output_type": "stream",
          "text": [
            "Using downloaded and verified file: ./train_32x32.mat\n"
          ],
          "name": "stdout"
        },
        {
          "output_type": "display_data",
          "data": {
            "image/png": "[encoded data removed]",
            "text/plain": [
              "<Figure size 2160x216 with 10 Axes>"
            ]
          },
          "metadata": {
            "tags": [],
            "needs_background": "light"
          }
        }
      ]
    },
    {
      "cell_type": "markdown",
      "metadata": {
        "id": "o2LrmsYHoguB"
      },
      "source": [
        "Все ли агментации одинаково полезны на этом наборе данных? Могут ли быть среди них те, которые собьют модель с толку?\n",
        "\n",
        "Выберите из них только корректные"
      ]
    },
    {
      "cell_type": "code",
      "metadata": {
        "colab": {
          "base_uri": "https://localhost:8080/"
        },
        "id": "evro9ksXGs9u",
        "outputId": "259352ef-ac0c-404a-988d-4f673ad2e82f"
      },
      "source": [
        "# TODO: \n",
        "cust_tfs = transforms.Compose([\n",
        "    # TODO: Add good augmentations\n",
        "    transforms.ColorJitter(hue=.20, saturation=.20),                #selected\n",
        "    transforms.RandomRotation(10, resample=PIL.Image.BILINEAR),     #selected\n",
        "    transforms.ToTensor(),\n",
        "    transforms.Normalize(mean=[0.43,0.44,0.47],\n",
        "                       std=[0.20,0.20,0.20])                           \n",
        "])\n",
        "\n",
        "# TODO create new instances of loaders with the augmentations you chose\n",
        "\n",
        "data_cust_aug_train = dset.SVHN('./', \n",
        "                       transform=cust_tfs,\n",
        "                       download=True\n",
        "                      )\n",
        "\n",
        "train_cust_aug_loader = torch.utils.data.DataLoader(data_cust_aug_train, batch_size=batch_size, \n",
        "                                           sampler=train_sampler)"
      ],
      "execution_count": 8,
      "outputs": [
        {
          "output_type": "stream",
          "text": [
            "Using downloaded and verified file: ./train_32x32.mat\n"
          ],
          "name": "stdout"
        }
      ]
    },
    {
      "cell_type": "code",
      "metadata": {
        "colab": {
          "base_uri": "https://localhost:8080/"
        },
        "id": "PeO6Zw0DHqPR",
        "outputId": "0360485c-7dd0-4a6f-8fcc-17717d07d7b3"
      },
      "source": [
        "# Finally, let's train with augmentations!\n",
        "\n",
        "# Note we shouldn't use augmentations on validation\n",
        "\n",
        "loss_history, train_history, val_history = train_model(nn_model, train_cust_aug_loader, val_loader, loss, optimizer, 5)"
      ],
      "execution_count": null,
      "outputs": [
        {
          "output_type": "stream",
          "text": [
            "Epoch: 1, Average loss: 0.597236, Train accuracy: 0.815804, Val accuracy: 0.839124\n",
            "Epoch: 2, Average loss: 0.552423, Train accuracy: 0.831826, Val accuracy: 0.842878\n",
            "Epoch: 3, Average loss: 0.533047, Train accuracy: 0.836860, Val accuracy: 0.848952\n",
            "Epoch: 4, Average loss: 0.518817, Train accuracy: 0.841518, Val accuracy: 0.849771\n",
            "Epoch: 5, Average loss: 0.502874, Train accuracy: 0.847865, Val accuracy: 0.840625\n"
          ],
          "name": "stdout"
        }
      ]
    },
    {
      "cell_type": "markdown",
      "metadata": {
        "id": "r0bcioK6JBDK"
      },
      "source": [
        "# LeNet\n",
        "Попробуем имплементировать классическую архитектуру сверточной нейронной сети, предложенную Яном ЛеКуном в 1998 году. В свое время она достигла впечатляющих результатов на MNIST, посмотрим как она справится с SVHN?\n",
        "Она описана в статье [\"Gradient Based Learning Applied to Document Recognition\"](http://yann.lecun.com/exdb/publis/pdf/lecun-01a.pdf), попробуйте прочитать ключевые части и имплементировать предложенную архитетуру на PyTorch.\n",
        "\n",
        "Реализовывать слои и функцию ошибки LeNet, которых нет в PyTorch, **не нужно** - просто возьмите их размеры и переведите в уже известные нам Convolutional, Pooling и Fully Connected layers.\n",
        "\n",
        "Если в статье не очень понятно, можно просто погуглить LeNet и разобраться в деталях :)"
      ]
    },
    {
      "cell_type": "code",
      "metadata": {
        "id": "ieEzZUglJAUB"
      },
      "source": [
        "# TODO: Implement LeNet-like architecture for SVHN task\n",
        "# input [batch_size=64, n_channels=3, width=32, height=32]\n",
        "lenet_model = nn.Sequential(\n",
        "    nn.Conv2d(in_channels=3, out_channels=6, kernel_size=5, padding=0),         #out=[(32-5)+1:28x28]\n",
        "    nn.Tanh(),\n",
        "    nn.AvgPool2d(2),                                                            #out=[(28-2)/2+1:14x14]\n",
        "    \n",
        "    nn.Conv2d(in_channels=6, out_channels=16, kernel_size=5, padding=0),        #out=[(14-5)+1:10x10]\n",
        "    nn.Tanh(),\n",
        "    nn.AvgPool2d(2),                                                            #out=[(10-2)/2+1:5x5]\n",
        "\n",
        "    Flattener(),\n",
        "    \n",
        "    nn.Linear(16 * 5 * 5, 140),\n",
        "    nn.Tanh(),\n",
        "    nn.Linear(140, 84),\n",
        "    nn.Tanh(),\n",
        "    nn.Linear(84, 10),\n",
        ")\n",
        "\n",
        "lenet_model.type(torch.cuda.FloatTensor)\n",
        "lenet_model.to(device)\n",
        "\n",
        "loss = nn.CrossEntropyLoss().type(torch.cuda.FloatTensor)\n",
        "optimizer = optim.SGD(lenet_model.parameters(), lr=1e-1, weight_decay=1e-4)"
      ],
      "execution_count": null,
      "outputs": []
    },
    {
      "cell_type": "code",
      "metadata": {
        "colab": {
          "base_uri": "https://localhost:8080/"
        },
        "id": "bRHj0A8laoJO",
        "outputId": "16ffb287-85cd-428a-f6f5-77667bcf712b"
      },
      "source": [
        "print(f'Batch size and shape of input are: {train_cust_aug_loader.batch_size} and {train_cust_aug_loader.dataset.data.shape}')"
      ],
      "execution_count": null,
      "outputs": [
        {
          "output_type": "stream",
          "text": [
            "Batch size and shape of input are: 64 and (73257, 3, 32, 32)\n"
          ],
          "name": "stdout"
        }
      ]
    },
    {
      "cell_type": "code",
      "metadata": {
        "colab": {
          "base_uri": "https://localhost:8080/"
        },
        "id": "cRaZfLhe0rBE",
        "outputId": "16a41023-a98c-48e8-ce2a-4dcf454b5806"
      },
      "source": [
        "params_reset(lenet_model)\n",
        "\n",
        "#Epoch: 1, Average loss: 0.492229, Train accuracy: 0.848701, Val accuracy: 0.858781\n",
        "#Epoch: 2, Average loss: 0.450788, Train accuracy: 0.860629, Val accuracy: 0.873729\n",
        "#Epoch: 3, Average loss: 0.423045, Train accuracy: 0.869109, Val accuracy: 0.866357\n",
        "\n",
        "loss_history, train_history, val_history = train_model(lenet_model, train_cust_aug_loader, val_loader, loss, optimizer, 3)"
      ],
      "execution_count": null,
      "outputs": [
        {
          "output_type": "stream",
          "text": [
            "reset 0:Conv2d\n",
            "skip  1:Tanh\n",
            "skip  2:AvgPool2d\n",
            "reset 3:Conv2d\n",
            "skip  4:Tanh\n",
            "skip  5:AvgPool2d\n",
            "skip  6:Flattener\n",
            "reset 7:Linear\n",
            "skip  8:Tanh\n",
            "reset 9:Linear\n",
            "skip  10:Tanh\n",
            "reset 11:Linear\n",
            "Epoch: 1, Average loss: 2.070863, Train accuracy: 0.269529, Val accuracy: 0.626510\n",
            "Epoch: 2, Average loss: 0.775839, Train accuracy: 0.759376, Val accuracy: 0.818511\n",
            "Epoch: 3, Average loss: 0.553782, Train accuracy: 0.829608, Val accuracy: 0.849157\n"
          ],
          "name": "stdout"
        }
      ]
    },
    {
      "cell_type": "code",
      "metadata": {
        "colab": {
          "base_uri": "https://localhost:8080/"
        },
        "id": "WMmaPfdeKk9H",
        "outputId": "90f33860-c9ab-4aef-90ea-57bd6f7650eb"
      },
      "source": [
        "# Let's train it!\n",
        "loss_history, train_history, val_history = train_model(lenet_model, train_cust_aug_loader, val_loader, loss, optimizer, 5)"
      ],
      "execution_count": null,
      "outputs": [
        {
          "output_type": "stream",
          "text": [
            "Epoch: 1, Average loss: 0.341699, Train accuracy: 0.895045, Val accuracy: 0.885673\n",
            "Epoch: 2, Average loss: 0.332645, Train accuracy: 0.897178, Val accuracy: 0.869497\n",
            "Epoch: 3, Average loss: 0.324518, Train accuracy: 0.900386, Val accuracy: 0.888335\n",
            "Epoch: 4, Average loss: 0.310995, Train accuracy: 0.902928, Val accuracy: 0.893113\n",
            "Epoch: 5, Average loss: 0.304244, Train accuracy: 0.905880, Val accuracy: 0.881100\n"
          ],
          "name": "stdout"
        }
      ]
    },
    {
      "cell_type": "code",
      "metadata": {
        "colab": {
          "base_uri": "https://localhost:8080/"
        },
        "id": "dhHWO_oCW-GI",
        "outputId": "a7e220d7-a002-4f54-f529-07079c3c9c9e"
      },
      "source": [
        "def weight_init(m):\n",
        "    if isinstance(m, nn.Conv2d) or isinstance(m, nn.Linear):\n",
        "        m.reset_parameters()\n",
        "\n",
        "lenet_model.apply(weight_init)"
      ],
      "execution_count": null,
      "outputs": [
        {
          "output_type": "execute_result",
          "data": {
            "text/plain": [
              "Sequential(\n",
              "  (0): Conv2d(3, 6, kernel_size=(5, 5), stride=(1, 1))\n",
              "  (1): Tanh()\n",
              "  (2): AvgPool2d(kernel_size=2, stride=2, padding=0)\n",
              "  (3): Conv2d(6, 16, kernel_size=(5, 5), stride=(1, 1))\n",
              "  (4): Tanh()\n",
              "  (5): AvgPool2d(kernel_size=2, stride=2, padding=0)\n",
              "  (6): Flattener()\n",
              "  (7): Linear(in_features=400, out_features=140, bias=True)\n",
              "  (8): Tanh()\n",
              "  (9): Linear(in_features=140, out_features=84, bias=True)\n",
              "  (10): Tanh()\n",
              "  (11): Linear(in_features=84, out_features=10, bias=True)\n",
              ")"
            ]
          },
          "metadata": {
            "tags": []
          },
          "execution_count": 40
        }
      ]
    },
    {
      "cell_type": "code",
      "metadata": {
        "id": "hFaIkIqj3WAP"
      },
      "source": [
        "def params_reset(model):\n",
        "  for number, module in model.named_children():\n",
        "      try:\n",
        "        module.reset_parameters()\n",
        "        #print(f'reset {number}:{module.__class__.__name__}')\n",
        "      except nn.modules.module.ModuleAttributeError:\n",
        "        #print(f'skip  {number}:{module.__class__.__name__}')\n",
        "        pass\n",
        "  print('\\nparams were reseted')"
      ],
      "execution_count": null,
      "outputs": []
    },
    {
      "cell_type": "markdown",
      "metadata": {
        "id": "u_O9qiYySvuj"
      },
      "source": [
        "# Подбор гиперпараметров"
      ]
    },
    {
      "cell_type": "code",
      "metadata": {
        "colab": {
          "base_uri": "https://localhost:8080/"
        },
        "id": "i6mhfdQ9K-N3",
        "outputId": "77d9c1b0-a212-4dfa-e81b-0ad12cd16a4a"
      },
      "source": [
        "# The key hyperparameters we're going to tune are learning speed, annealing rate and regularization\n",
        "# We also encourage you to try different optimizers as well\n",
        "\n",
        "Hyperparams = namedtuple(\"Hyperparams\", ['learning_rate', 'anneal_epochs', 'reg'])\n",
        "RunResult = namedtuple(\"RunResult\", ['model', 'train_history', 'val_history', 'final_val_accuracy'])\n",
        "\n",
        "#learning_rates = np.logspace(1, 4, num=5, base=.1)\n",
        "#reg = np.logspace(1, 2.5, num=5, base=1e-3)\n",
        "\n",
        "learning_rates = [1e0, 1e-1, 1e-2, 1e-3, 1e-4]\n",
        "anneal_coeff = 0.2\n",
        "anneal_epochs = [1, 5]#, 15, 20, 50]\n",
        "reg = [1e-3, 1e-4]\n",
        "\n",
        "batch_size = 64\n",
        "epoch_num = 10\n",
        "\n",
        "\n",
        "# Record all the runs here\n",
        "# Key should be Hyperparams and values should be RunResult\n",
        "run_record = {} \n",
        "\n",
        "# Use grid search or random search and record all runs in run_record dictionnary \n",
        "# Important: perform search in logarithmic space!\n",
        "\n",
        "# TODO: Your code here!\n",
        "\n",
        "for lr in learning_rates:\n",
        "    for rg in reg:\n",
        "      for ae in anneal_epochs:\n",
        "          \n",
        "          params_reset(lenet_model)\n",
        "\n",
        "          hyperp = Hyperparams(lr, ae, rg)\n",
        "          \n",
        "          print(f'\\n! Started new iter with lr: {hyperp.learning_rate}, reg: {hyperp.reg} and anneal: {hyperp.anneal_epochs} !\\n')\n",
        "\n",
        "          optimizer = optim.SGD(lenet_model.parameters(), \n",
        "                                lr=hyperp.learning_rate, \n",
        "                                weight_decay=hyperp.reg)\n",
        "\n",
        "          scheduler = optim.lr_scheduler.StepLR(optimizer, \n",
        "                                                step_size=hyperp.anneal_epochs, \n",
        "                                                gamma=anneal_coeff)\n",
        "              \n",
        "          loss_history, train_history, val_history = train_model(lenet_model, \n",
        "                                                                train_cust_aug_loader, \n",
        "                                                                val_loader, \n",
        "                                                                loss, \n",
        "                                                                optimizer, \n",
        "                                                                epoch_num,\n",
        "                                                                scheduler=scheduler)\n",
        "                                                                \n",
        "              \n",
        "          run_record[hyperp] = RunResult(lenet_model, train_history, val_history, val_history[-1].item())\n"
      ],
      "execution_count": null,
      "outputs": [
        {
          "output_type": "stream",
          "text": [
            "\n",
            "params were reseted\n",
            "\n",
            "! Started new iter with lr: 1.0, reg: 0.001 and anneal: 1 !\n",
            "\n",
            "Epoch: 1, Average loss: 5.103462, Train accuracy: 0.144269, Val accuracy: 0.109754\n",
            "Epoch: 2, Average loss: 2.164613, Train accuracy: 0.218271, Val accuracy: 0.276978\n",
            "Epoch: 3, Average loss: 1.904269, Train accuracy: 0.332850, Val accuracy: 0.364890\n",
            "Epoch: 4, Average loss: 1.814382, Train accuracy: 0.371208, Val accuracy: 0.379974\n",
            "Epoch: 5, Average loss: 1.794502, Train accuracy: 0.379381, Val accuracy: 0.382773\n",
            "Epoch: 6, Average loss: 1.787616, Train accuracy: 0.383169, Val accuracy: 0.384342\n",
            "Epoch: 7, Average loss: 1.787580, Train accuracy: 0.382930, Val accuracy: 0.384888\n",
            "Epoch: 8, Average loss: 1.786419, Train accuracy: 0.383357, Val accuracy: 0.384957\n",
            "Epoch: 9, Average loss: 1.787575, Train accuracy: 0.382350, Val accuracy: 0.384888\n",
            "Epoch: 10, Average loss: 1.789056, Train accuracy: 0.382572, Val accuracy: 0.384888\n",
            "\n",
            "params were reseted\n",
            "\n",
            "! Started new iter with lr: 1.0, reg: 0.001 and anneal: 5 !\n",
            "\n",
            "Epoch: 1, Average loss: 1.547941, Train accuracy: 0.485206, Val accuracy: 0.740223\n",
            "Epoch: 2, Average loss: 0.880842, Train accuracy: 0.728850, Val accuracy: 0.747594\n",
            "Epoch: 3, Average loss: 0.830204, Train accuracy: 0.745401, Val accuracy: 0.758378\n",
            "Epoch: 4, Average loss: 0.791287, Train accuracy: 0.758182, Val accuracy: 0.691762\n",
            "Epoch: 5, Average loss: 0.788729, Train accuracy: 0.761543, Val accuracy: 0.717835\n",
            "Epoch: 6, Average loss: 0.485250, Train accuracy: 0.851961, Val accuracy: 0.869497\n",
            "Epoch: 7, Average loss: 0.429527, Train accuracy: 0.868478, Val accuracy: 0.867449\n",
            "Epoch: 8, Average loss: 0.418732, Train accuracy: 0.872180, Val accuracy: 0.870726\n",
            "Epoch: 9, Average loss: 0.412715, Train accuracy: 0.872743, Val accuracy: 0.876322\n",
            "Epoch: 10, Average loss: 0.411124, Train accuracy: 0.873835, Val accuracy: 0.871340\n",
            "\n",
            "params were reseted\n",
            "\n",
            "! Started new iter with lr: 1.0, reg: 0.0001 and anneal: 1 !\n",
            "\n",
            "Epoch: 1, Average loss: 1.505923, Train accuracy: 0.497219, Val accuracy: 0.742816\n",
            "Epoch: 2, Average loss: 0.593523, Train accuracy: 0.818107, Val accuracy: 0.848338\n",
            "Epoch: 3, Average loss: 0.491802, Train accuracy: 0.849794, Val accuracy: 0.857416\n",
            "Epoch: 4, Average loss: 0.466935, Train accuracy: 0.857165, Val accuracy: 0.859327\n",
            "Epoch: 5, Average loss: 0.465279, Train accuracy: 0.857199, Val accuracy: 0.860010\n",
            "Epoch: 6, Average loss: 0.463965, Train accuracy: 0.857864, Val accuracy: 0.859737\n",
            "Epoch: 7, Average loss: 0.463046, Train accuracy: 0.857643, Val accuracy: 0.859737\n",
            "Epoch: 8, Average loss: 0.463129, Train accuracy: 0.857881, Val accuracy: 0.859668\n",
            "Epoch: 9, Average loss: 0.461779, Train accuracy: 0.858342, Val accuracy: 0.859668\n",
            "Epoch: 10, Average loss: 0.463291, Train accuracy: 0.857267, Val accuracy: 0.859668\n",
            "\n",
            "params were reseted\n",
            "\n",
            "! Started new iter with lr: 1.0, reg: 0.0001 and anneal: 5 !\n",
            "\n",
            "Epoch: 1, Average loss: 1.490296, Train accuracy: 0.506962, Val accuracy: 0.717494\n",
            "Epoch: 2, Average loss: 0.873747, Train accuracy: 0.731410, Val accuracy: 0.764726\n",
            "Epoch: 3, Average loss: 0.774339, Train accuracy: 0.763318, Val accuracy: 0.804382\n",
            "Epoch: 4, Average loss: 0.730193, Train accuracy: 0.779169, Val accuracy: 0.791755\n",
            "Epoch: 5, Average loss: 0.700191, Train accuracy: 0.788383, Val accuracy: 0.787523\n",
            "Epoch: 6, Average loss: 0.505642, Train accuracy: 0.845169, Val accuracy: 0.856051\n",
            "Epoch: 7, Average loss: 0.455064, Train accuracy: 0.860390, Val accuracy: 0.863900\n",
            "Epoch: 8, Average loss: 0.437474, Train accuracy: 0.865799, Val accuracy: 0.862671\n",
            "Epoch: 9, Average loss: 0.415105, Train accuracy: 0.872863, Val accuracy: 0.866562\n",
            "Epoch: 10, Average loss: 0.400495, Train accuracy: 0.877299, Val accuracy: 0.869770\n",
            "\n",
            "params were reseted\n",
            "\n",
            "! Started new iter with lr: 0.1, reg: 0.001 and anneal: 1 !\n",
            "\n",
            "Epoch: 1, Average loss: 2.076038, Train accuracy: 0.267481, Val accuracy: 0.579483\n",
            "Epoch: 2, Average loss: 0.967816, Train accuracy: 0.702710, Val accuracy: 0.766501\n",
            "Epoch: 3, Average loss: 0.798451, Train accuracy: 0.760298, Val accuracy: 0.783359\n",
            "Epoch: 4, Average loss: 0.772133, Train accuracy: 0.768181, Val accuracy: 0.785748\n",
            "Epoch: 5, Average loss: 0.767278, Train accuracy: 0.769802, Val accuracy: 0.786158\n",
            "Epoch: 6, Average loss: 0.766058, Train accuracy: 0.770604, Val accuracy: 0.785544\n",
            "Epoch: 7, Average loss: 0.765317, Train accuracy: 0.770587, Val accuracy: 0.785544\n",
            "Epoch: 8, Average loss: 0.765923, Train accuracy: 0.770604, Val accuracy: 0.785544\n",
            "Epoch: 9, Average loss: 0.766067, Train accuracy: 0.769802, Val accuracy: 0.785544\n",
            "Epoch: 10, Average loss: 0.765800, Train accuracy: 0.771883, Val accuracy: 0.785612\n",
            "\n",
            "params were reseted\n",
            "\n",
            "! Started new iter with lr: 0.1, reg: 0.001 and anneal: 5 !\n",
            "\n",
            "Epoch: 1, Average loss: 2.034868, Train accuracy: 0.281865, Val accuracy: 0.627193\n",
            "Epoch: 2, Average loss: 0.903084, Train accuracy: 0.718032, Val accuracy: 0.803426\n",
            "Epoch: 3, Average loss: 0.628760, Train accuracy: 0.806231, Val accuracy: 0.844038\n",
            "Epoch: 4, Average loss: 0.538268, Train accuracy: 0.834710, Val accuracy: 0.845267\n",
            "Epoch: 5, Average loss: 0.488122, Train accuracy: 0.850766, Val accuracy: 0.859327\n",
            "Epoch: 6, Average loss: 0.407291, Train accuracy: 0.877572, Val accuracy: 0.882329\n",
            "Epoch: 7, Average loss: 0.392892, Train accuracy: 0.881582, Val accuracy: 0.883148\n",
            "Epoch: 8, Average loss: 0.385251, Train accuracy: 0.884380, Val accuracy: 0.886356\n",
            "Epoch: 9, Average loss: 0.380297, Train accuracy: 0.886087, Val accuracy: 0.885127\n",
            "Epoch: 10, Average loss: 0.373281, Train accuracy: 0.889107, Val accuracy: 0.889086\n",
            "\n",
            "params were reseted\n",
            "\n",
            "! Started new iter with lr: 0.1, reg: 0.0001 and anneal: 1 !\n",
            "\n",
            "Epoch: 1, Average loss: 1.868123, Train accuracy: 0.352370, Val accuracy: 0.724251\n",
            "Epoch: 2, Average loss: 0.754104, Train accuracy: 0.771679, Val accuracy: 0.810184\n",
            "Epoch: 3, Average loss: 0.652351, Train accuracy: 0.804133, Val accuracy: 0.822469\n",
            "Epoch: 4, Average loss: 0.637644, Train accuracy: 0.808876, Val accuracy: 0.824858\n",
            "Epoch: 5, Average loss: 0.633508, Train accuracy: 0.808006, Val accuracy: 0.825063\n",
            "Epoch: 6, Average loss: 0.632180, Train accuracy: 0.808740, Val accuracy: 0.824927\n",
            "Epoch: 7, Average loss: 0.633432, Train accuracy: 0.808347, Val accuracy: 0.824858\n",
            "Epoch: 8, Average loss: 0.632380, Train accuracy: 0.809781, Val accuracy: 0.824858\n",
            "Epoch: 9, Average loss: 0.631561, Train accuracy: 0.809388, Val accuracy: 0.824858\n",
            "Epoch: 10, Average loss: 0.631439, Train accuracy: 0.810907, Val accuracy: 0.824858\n",
            "\n",
            "params were reseted\n",
            "\n",
            "! Started new iter with lr: 0.1, reg: 0.0001 and anneal: 5 !\n",
            "\n",
            "Epoch: 1, Average loss: 1.994102, Train accuracy: 0.300549, Val accuracy: 0.637636\n",
            "Epoch: 2, Average loss: 0.813728, Train accuracy: 0.748678, Val accuracy: 0.812026\n",
            "Epoch: 3, Average loss: 0.560086, Train accuracy: 0.826912, Val accuracy: 0.844925\n",
            "Epoch: 4, Average loss: 0.490344, Train accuracy: 0.849811, Val accuracy: 0.870726\n",
            "Epoch: 5, Average loss: 0.443906, Train accuracy: 0.862779, Val accuracy: 0.874821\n",
            "Epoch: 6, Average loss: 0.374389, Train accuracy: 0.886513, Val accuracy: 0.889018\n",
            "Epoch: 7, Average loss: 0.363049, Train accuracy: 0.890114, Val accuracy: 0.890929\n",
            "Epoch: 8, Average loss: 0.354638, Train accuracy: 0.892298, Val accuracy: 0.888813\n",
            "Epoch: 9, Average loss: 0.346668, Train accuracy: 0.895523, Val accuracy: 0.891611\n",
            "Epoch: 10, Average loss: 0.342372, Train accuracy: 0.897843, Val accuracy: 0.892294\n",
            "\n",
            "params were reseted\n",
            "\n",
            "! Started new iter with lr: 0.01, reg: 0.001 and anneal: 1 !\n",
            "\n",
            "Epoch: 1, Average loss: 2.253454, Train accuracy: 0.182541, Val accuracy: 0.194321\n",
            "Epoch: 2, Average loss: 2.235892, Train accuracy: 0.187933, Val accuracy: 0.194321\n",
            "Epoch: 3, Average loss: 2.235427, Train accuracy: 0.187933, Val accuracy: 0.194321\n",
            "Epoch: 4, Average loss: 2.235389, Train accuracy: 0.187933, Val accuracy: 0.194321\n",
            "Epoch: 5, Average loss: 2.235253, Train accuracy: 0.187933, Val accuracy: 0.194321\n",
            "Epoch: 6, Average loss: 2.235293, Train accuracy: 0.187933, Val accuracy: 0.194321\n",
            "Epoch: 7, Average loss: 2.235268, Train accuracy: 0.187933, Val accuracy: 0.194321\n",
            "Epoch: 8, Average loss: 2.235355, Train accuracy: 0.187933, Val accuracy: 0.194321\n",
            "Epoch: 9, Average loss: 2.235249, Train accuracy: 0.187933, Val accuracy: 0.194321\n",
            "Epoch: 10, Average loss: 2.235278, Train accuracy: 0.187933, Val accuracy: 0.194321\n",
            "\n",
            "params were reseted\n",
            "\n",
            "! Started new iter with lr: 0.01, reg: 0.001 and anneal: 5 !\n",
            "\n",
            "Epoch: 1, Average loss: 2.251755, Train accuracy: 0.182695, Val accuracy: 0.194321\n",
            "Epoch: 2, Average loss: 2.235001, Train accuracy: 0.187950, Val accuracy: 0.194594\n",
            "Epoch: 3, Average loss: 2.229888, Train accuracy: 0.190612, Val accuracy: 0.201556\n",
            "Epoch: 4, Average loss: 2.220028, Train accuracy: 0.202402, Val accuracy: 0.226196\n",
            "Epoch: 5, Average loss: 2.204225, Train accuracy: 0.225079, Val accuracy: 0.247150\n",
            "Epoch: 6, Average loss: 2.191746, Train accuracy: 0.238593, Val accuracy: 0.249061\n",
            "Epoch: 7, Average loss: 2.187065, Train accuracy: 0.242347, Val accuracy: 0.252816\n",
            "Epoch: 8, Average loss: 2.180949, Train accuracy: 0.246835, Val accuracy: 0.259436\n",
            "Epoch: 9, Average loss: 2.174940, Train accuracy: 0.252551, Val accuracy: 0.264965\n",
            "Epoch: 10, Average loss: 2.166137, Train accuracy: 0.259274, Val accuracy: 0.274111\n",
            "\n",
            "params were reseted\n",
            "\n",
            "! Started new iter with lr: 0.01, reg: 0.0001 and anneal: 1 !\n",
            "\n",
            "Epoch: 1, Average loss: 2.253330, Train accuracy: 0.182712, Val accuracy: 0.194321\n",
            "Epoch: 2, Average loss: 2.235158, Train accuracy: 0.187933, Val accuracy: 0.194321\n",
            "Epoch: 3, Average loss: 2.234401, Train accuracy: 0.187950, Val accuracy: 0.194321\n",
            "Epoch: 4, Average loss: 2.234306, Train accuracy: 0.187933, Val accuracy: 0.194321\n",
            "Epoch: 5, Average loss: 2.234330, Train accuracy: 0.187950, Val accuracy: 0.194321\n",
            "Epoch: 6, Average loss: 2.234253, Train accuracy: 0.187933, Val accuracy: 0.194321\n",
            "Epoch: 7, Average loss: 2.234317, Train accuracy: 0.187950, Val accuracy: 0.194321\n",
            "Epoch: 8, Average loss: 2.234256, Train accuracy: 0.187950, Val accuracy: 0.194321\n",
            "Epoch: 9, Average loss: 2.234203, Train accuracy: 0.187933, Val accuracy: 0.194321\n",
            "Epoch: 10, Average loss: 2.234186, Train accuracy: 0.187950, Val accuracy: 0.194321\n",
            "\n",
            "params were reseted\n",
            "\n",
            "! Started new iter with lr: 0.01, reg: 0.0001 and anneal: 5 !\n",
            "\n",
            "Epoch: 1, Average loss: 2.251997, Train accuracy: 0.184230, Val accuracy: 0.194321\n",
            "Epoch: 2, Average loss: 2.234339, Train accuracy: 0.188069, Val accuracy: 0.195345\n",
            "Epoch: 3, Average loss: 2.227511, Train accuracy: 0.194417, Val accuracy: 0.208791\n",
            "Epoch: 4, Average loss: 2.215135, Train accuracy: 0.212606, Val accuracy: 0.231042\n",
            "Epoch: 5, Average loss: 2.195167, Train accuracy: 0.235863, Val accuracy: 0.256979\n",
            "Epoch: 6, Average loss: 2.175935, Train accuracy: 0.250401, Val accuracy: 0.259368\n",
            "Epoch: 7, Average loss: 2.166419, Train accuracy: 0.255230, Val accuracy: 0.266808\n",
            "Epoch: 8, Average loss: 2.154380, Train accuracy: 0.261680, Val accuracy: 0.273087\n",
            "Epoch: 9, Average loss: 2.138535, Train accuracy: 0.271218, Val accuracy: 0.284486\n",
            "Epoch: 10, Average loss: 2.116931, Train accuracy: 0.280654, Val accuracy: 0.295679\n",
            "\n",
            "params were reseted\n",
            "\n",
            "! Started new iter with lr: 0.001, reg: 0.001 and anneal: 1 !\n",
            "\n",
            "Epoch: 1, Average loss: 2.291648, Train accuracy: 0.136573, Val accuracy: 0.174937\n",
            "Epoch: 2, Average loss: 2.279620, Train accuracy: 0.176927, Val accuracy: 0.182377\n",
            "Epoch: 3, Average loss: 2.277581, Train accuracy: 0.179913, Val accuracy: 0.183878\n",
            "Epoch: 4, Average loss: 2.277132, Train accuracy: 0.180425, Val accuracy: 0.184424\n",
            "Epoch: 5, Average loss: 2.277048, Train accuracy: 0.180579, Val accuracy: 0.184493\n",
            "Epoch: 6, Average loss: 2.277056, Train accuracy: 0.179401, Val accuracy: 0.184493\n",
            "Epoch: 7, Average loss: 2.277059, Train accuracy: 0.180613, Val accuracy: 0.184493\n",
            "Epoch: 8, Average loss: 2.277041, Train accuracy: 0.179828, Val accuracy: 0.184493\n",
            "Epoch: 9, Average loss: 2.277076, Train accuracy: 0.180493, Val accuracy: 0.184493\n",
            "Epoch: 10, Average loss: 2.277052, Train accuracy: 0.180818, Val accuracy: 0.184493\n",
            "\n",
            "params were reseted\n",
            "\n",
            "! Started new iter with lr: 0.001, reg: 0.001 and anneal: 5 !\n",
            "\n",
            "Epoch: 1, Average loss: 2.296545, Train accuracy: 0.157373, Val accuracy: 0.194321\n",
            "Epoch: 2, Average loss: 2.276808, Train accuracy: 0.187933, Val accuracy: 0.194321\n",
            "Epoch: 3, Average loss: 2.262174, Train accuracy: 0.187933, Val accuracy: 0.194321\n",
            "Epoch: 4, Average loss: 2.251615, Train accuracy: 0.187933, Val accuracy: 0.194321\n",
            "Epoch: 5, Average loss: 2.244642, Train accuracy: 0.187933, Val accuracy: 0.194321\n",
            "Epoch: 6, Average loss: 2.241647, Train accuracy: 0.187933, Val accuracy: 0.194321\n",
            "Epoch: 7, Average loss: 2.240900, Train accuracy: 0.187933, Val accuracy: 0.194321\n",
            "Epoch: 8, Average loss: 2.240363, Train accuracy: 0.187933, Val accuracy: 0.194321\n",
            "Epoch: 9, Average loss: 2.239731, Train accuracy: 0.187933, Val accuracy: 0.194321\n",
            "Epoch: 10, Average loss: 2.239335, Train accuracy: 0.187933, Val accuracy: 0.194321\n",
            "\n",
            "params were reseted\n",
            "\n",
            "! Started new iter with lr: 0.001, reg: 0.0001 and anneal: 1 !\n",
            "\n",
            "Epoch: 1, Average loss: 2.304893, Train accuracy: 0.099102, Val accuracy: 0.151184\n",
            "Epoch: 2, Average loss: 2.289451, Train accuracy: 0.156690, Val accuracy: 0.171729\n",
            "Epoch: 3, Average loss: 2.286762, Train accuracy: 0.167594, Val accuracy: 0.175005\n",
            "Epoch: 4, Average loss: 2.286177, Train accuracy: 0.170187, Val accuracy: 0.175415\n",
            "Epoch: 5, Average loss: 2.286089, Train accuracy: 0.170546, Val accuracy: 0.175892\n",
            "Epoch: 6, Average loss: 2.286099, Train accuracy: 0.170477, Val accuracy: 0.176029\n",
            "Epoch: 7, Average loss: 2.286065, Train accuracy: 0.170938, Val accuracy: 0.176029\n",
            "Epoch: 8, Average loss: 2.286058, Train accuracy: 0.171348, Val accuracy: 0.176029\n",
            "Epoch: 9, Average loss: 2.286049, Train accuracy: 0.171706, Val accuracy: 0.176029\n",
            "Epoch: 10, Average loss: 2.286141, Train accuracy: 0.170307, Val accuracy: 0.176029\n",
            "\n",
            "params were reseted\n",
            "\n",
            "! Started new iter with lr: 0.001, reg: 0.0001 and anneal: 5 !\n",
            "\n",
            "Epoch: 1, Average loss: 2.302851, Train accuracy: 0.107805, Val accuracy: 0.153300\n",
            "Epoch: 2, Average loss: 2.280770, Train accuracy: 0.181654, Val accuracy: 0.193297\n",
            "Epoch: 3, Average loss: 2.264518, Train accuracy: 0.187916, Val accuracy: 0.194458\n",
            "Epoch: 4, Average loss: 2.252711, Train accuracy: 0.187933, Val accuracy: 0.194321\n",
            "Epoch: 5, Average loss: 2.245066, Train accuracy: 0.187933, Val accuracy: 0.194321\n",
            "Epoch: 6, Average loss: 2.241907, Train accuracy: 0.187933, Val accuracy: 0.194321\n",
            "Epoch: 7, Average loss: 2.241069, Train accuracy: 0.187933, Val accuracy: 0.194321\n",
            "Epoch: 8, Average loss: 2.240545, Train accuracy: 0.187933, Val accuracy: 0.194321\n",
            "Epoch: 9, Average loss: 2.239893, Train accuracy: 0.187933, Val accuracy: 0.194321\n",
            "Epoch: 10, Average loss: 2.239281, Train accuracy: 0.187933, Val accuracy: 0.194321\n",
            "\n",
            "params were reseted\n",
            "\n",
            "! Started new iter with lr: 0.0001, reg: 0.001 and anneal: 1 !\n",
            "\n",
            "Epoch: 1, Average loss: 2.304739, Train accuracy: 0.121250, Val accuracy: 0.124565\n",
            "Epoch: 2, Average loss: 2.303330, Train accuracy: 0.127188, Val accuracy: 0.127227\n",
            "Epoch: 3, Average loss: 2.302934, Train accuracy: 0.129151, Val accuracy: 0.127636\n",
            "Epoch: 4, Average loss: 2.302967, Train accuracy: 0.129901, Val accuracy: 0.127773\n",
            "Epoch: 5, Average loss: 2.302900, Train accuracy: 0.129372, Val accuracy: 0.127773\n",
            "Epoch: 6, Average loss: 2.302998, Train accuracy: 0.129099, Val accuracy: 0.127773\n",
            "Epoch: 7, Average loss: 2.302979, Train accuracy: 0.129526, Val accuracy: 0.127773\n",
            "Epoch: 8, Average loss: 2.302990, Train accuracy: 0.128536, Val accuracy: 0.127773\n",
            "Epoch: 9, Average loss: 2.302912, Train accuracy: 0.129748, Val accuracy: 0.127773\n",
            "Epoch: 10, Average loss: 2.302863, Train accuracy: 0.129338, Val accuracy: 0.127773\n",
            "\n",
            "params were reseted\n",
            "\n",
            "! Started new iter with lr: 0.0001, reg: 0.001 and anneal: 5 !\n",
            "\n",
            "Epoch: 1, Average loss: 2.312459, Train accuracy: 0.073934, Val accuracy: 0.077469\n",
            "Epoch: 2, Average loss: 2.309491, Train accuracy: 0.073678, Val accuracy: 0.079380\n",
            "Epoch: 3, Average loss: 2.306679, Train accuracy: 0.074771, Val accuracy: 0.079926\n",
            "Epoch: 4, Average loss: 2.303957, Train accuracy: 0.076613, Val accuracy: 0.082725\n",
            "Epoch: 5, Average loss: 2.301311, Train accuracy: 0.082449, Val accuracy: 0.089755\n",
            "Epoch: 6, Average loss: 2.299784, Train accuracy: 0.088114, Val accuracy: 0.091803\n",
            "Epoch: 7, Average loss: 2.299222, Train accuracy: 0.089342, Val accuracy: 0.093509\n",
            "Epoch: 8, Average loss: 2.298753, Train accuracy: 0.092533, Val accuracy: 0.096853\n",
            "Epoch: 9, Average loss: 2.298298, Train accuracy: 0.095093, Val accuracy: 0.101631\n",
            "Epoch: 10, Average loss: 2.297770, Train accuracy: 0.099904, Val accuracy: 0.106614\n",
            "\n",
            "params were reseted\n",
            "\n",
            "! Started new iter with lr: 0.0001, reg: 0.0001 and anneal: 1 !\n",
            "\n",
            "Epoch: 1, Average loss: 2.314060, Train accuracy: 0.068577, Val accuracy: 0.069961\n",
            "Epoch: 2, Average loss: 2.312202, Train accuracy: 0.069071, Val accuracy: 0.069961\n",
            "Epoch: 3, Average loss: 2.311858, Train accuracy: 0.069413, Val accuracy: 0.069961\n",
            "Epoch: 4, Average loss: 2.311796, Train accuracy: 0.068184, Val accuracy: 0.069961\n",
            "Epoch: 5, Average loss: 2.311827, Train accuracy: 0.068184, Val accuracy: 0.069961\n",
            "Epoch: 6, Average loss: 2.311783, Train accuracy: 0.068764, Val accuracy: 0.069961\n",
            "Epoch: 7, Average loss: 2.311792, Train accuracy: 0.068730, Val accuracy: 0.069961\n",
            "Epoch: 8, Average loss: 2.311755, Train accuracy: 0.068508, Val accuracy: 0.069961\n",
            "Epoch: 9, Average loss: 2.311734, Train accuracy: 0.068440, Val accuracy: 0.069961\n",
            "Epoch: 10, Average loss: 2.311847, Train accuracy: 0.068645, Val accuracy: 0.069961\n",
            "\n",
            "params were reseted\n",
            "\n",
            "! Started new iter with lr: 0.0001, reg: 0.0001 and anneal: 5 !\n",
            "\n",
            "Epoch: 1, Average loss: 2.310124, Train accuracy: 0.075777, Val accuracy: 0.076582\n",
            "Epoch: 2, Average loss: 2.307175, Train accuracy: 0.076528, Val accuracy: 0.079244\n",
            "Epoch: 3, Average loss: 2.304364, Train accuracy: 0.082415, Val accuracy: 0.089209\n",
            "Epoch: 4, Average loss: 2.301679, Train accuracy: 0.095792, Val accuracy: 0.110231\n",
            "Epoch: 5, Average loss: 2.299004, Train accuracy: 0.116626, Val accuracy: 0.127568\n",
            "Epoch: 6, Average loss: 2.297434, Train accuracy: 0.127854, Val accuracy: 0.129479\n",
            "Epoch: 7, Average loss: 2.296955, Train accuracy: 0.130311, Val accuracy: 0.132073\n",
            "Epoch: 8, Average loss: 2.296406, Train accuracy: 0.133433, Val accuracy: 0.134325\n",
            "Epoch: 9, Average loss: 2.295922, Train accuracy: 0.136539, Val accuracy: 0.137806\n",
            "Epoch: 10, Average loss: 2.295479, Train accuracy: 0.137989, Val accuracy: 0.140536\n"
          ],
          "name": "stdout"
        }
      ]
    },
    {
      "cell_type": "code",
      "metadata": {
        "colab": {
          "base_uri": "https://localhost:8080/"
        },
        "id": "Y6xExdw8JB1l",
        "outputId": "9ab67bec-8a74-4c15-cb69-d245c643990a"
      },
      "source": [
        "best_val_accuracy = None\n",
        "best_hyperparams = None\n",
        "best_run = None\n",
        "\n",
        "for hyperparams, run_result in run_record.items():\n",
        "    if best_val_accuracy is None or best_val_accuracy < run_result.final_val_accuracy:\n",
        "        best_val_accuracy = run_result.final_val_accuracy\n",
        "        best_hyperparams = hyperparams\n",
        "        best_run = run_result\n",
        "        \n",
        "print(\"Best validation accuracy: %4.2f, best hyperparams: %s\" % (best_val_accuracy, best_hyperparams))\n",
        "        "
      ],
      "execution_count": null,
      "outputs": [
        {
          "output_type": "stream",
          "text": [
            "Best validation accuracy: 0.89, best hyperparams: Hyperparams(learning_rate=0.1, anneal_epochs=5, reg=0.0001)\n"
          ],
          "name": "stdout"
        }
      ]
    },
    {
      "cell_type": "markdown",
      "metadata": {
        "id": "LOmsR0uVgtgf"
      },
      "source": [
        "# Свободное упражнение - догоним и перегоним LeNet!\n",
        "\n",
        "Попробуйте найти архитектуру и настройки тренировки, чтобы выступить лучше наших бейзлайнов.\n",
        "\n",
        "Что можно и нужно попробовать:\n",
        "- BatchNormalization (для convolution layers он в PyTorch называется [batchnorm2d](https://pytorch.org/docs/stable/nn.html#batchnorm2d))\n",
        "- Изменить количество слоев и их толщину\n",
        "- Изменять количество эпох тренировки\n",
        "- Попробовать и другие агментации"
      ]
    },
    {
      "cell_type": "code",
      "metadata": {
        "id": "tSVhD747icoc",
        "outputId": "f3f8648d-2f7a-44af-ba47-57ee60698b6c",
        "colab": {
          "base_uri": "https://localhost:8080/"
        }
      },
      "source": [
        "epoch_num = 10\n",
        "\n",
        "best_model = nn.Sequential(\n",
        "    \n",
        "    nn.BatchNorm2d(3),\n",
        "    nn.Conv2d(in_channels=3, out_channels=16, kernel_size=3, padding=1),        #out=[(32-3+2*1)+1:32x32]\n",
        "    nn.ReLU(inplace=True),\n",
        "    nn.MaxPool2d(2),                                                            #out=[(32-2)/2+1:16x16]\n",
        "    \n",
        "    nn.BatchNorm2d(16),\n",
        "    nn.Conv2d(in_channels=16, out_channels=24, kernel_size=3, padding=1),       #out=[(16-3+2*1)+1:16x16]\n",
        "    nn.ReLU(inplace=True),\n",
        "    nn.MaxPool2d(2),                                                            #out=[(16-2)/2+1:8x8]\n",
        "\n",
        "    nn.BatchNorm2d(24),\n",
        "    nn.Conv2d(in_channels=24, out_channels=32, kernel_size=3, padding=1),       #out=[(8-3+2*1)+1:8x8]\n",
        "    nn.ReLU(inplace=True),\n",
        "    nn.MaxPool2d(2),                                                            #out=[(8-2)/2+1:4x4]\n",
        "\n",
        "    Flattener(),\n",
        "    \n",
        "    nn.Linear(32 * 4 * 4, 140),\n",
        "    nn.ReLU(inplace=True),\n",
        "\n",
        "    nn.Linear(140, 84),\n",
        "    nn.ReLU(inplace=True),\n",
        "\n",
        "    nn.Linear(84, 10),\n",
        ")\n",
        "\n",
        "best_model.type(torch.cuda.FloatTensor)\n",
        "best_model.to(device)\n",
        "\n",
        "loss = nn.CrossEntropyLoss().type(torch.cuda.FloatTensor)\n",
        "#optimizer = optim.SGD(best_model.parameters(), \n",
        "#                      lr=1e-1, \n",
        "#                      weight_decay=1e-4)\n",
        "\n",
        "optimizer = optim.Adam(best_model.parameters(), \n",
        "                       lr=1e-3, \n",
        "                       betas=(0.9, 0.999), \n",
        "                       eps=1e-08, \n",
        "                       weight_decay=1e-4, \n",
        "                       amsgrad=False)\n",
        "\n",
        "loss_history, train_history, val_history = train_model(best_model, \n",
        "                                                        train_cust_aug_loader, \n",
        "                                                        val_loader, \n",
        "                                                        loss, \n",
        "                                                        optimizer, \n",
        "                                                        epoch_num)\n",
        "\n",
        "#.906354\n",
        "#.915774(.920142)\n",
        "##adam\n",
        "#.923950"
      ],
      "execution_count": 12,
      "outputs": [
        {
          "output_type": "stream",
          "text": [
            "Epoch: 1, Average loss: 0.976829, Train accuracy: 0.675903, Val accuracy: 0.829431\n",
            "Epoch: 2, Average loss: 0.496852, Train accuracy: 0.846654, Val accuracy: 0.879803\n",
            "Epoch: 3, Average loss: 0.418713, Train accuracy: 0.870201, Val accuracy: 0.886356\n",
            "Epoch: 4, Average loss: 0.380134, Train accuracy: 0.882981, Val accuracy: 0.894751\n",
            "Epoch: 5, Average loss: 0.348635, Train accuracy: 0.893185, Val accuracy: 0.893386\n",
            "Epoch: 6, Average loss: 0.326421, Train accuracy: 0.899857, Val accuracy: 0.901167\n",
            "Epoch: 7, Average loss: 0.309469, Train accuracy: 0.904105, Val accuracy: 0.908675\n",
            "Epoch: 8, Average loss: 0.294590, Train accuracy: 0.909088, Val accuracy: 0.905399\n",
            "Epoch: 9, Average loss: 0.282537, Train accuracy: 0.912603, Val accuracy: 0.904853\n",
            "Epoch: 10, Average loss: 0.271898, Train accuracy: 0.917346, Val accuracy: 0.912156\n"
          ],
          "name": "stdout"
        }
      ]
    },
    {
      "cell_type": "markdown",
      "metadata": {
        "id": "ubeKgBcnhx7N"
      },
      "source": [
        "# Финальный аккорд - проверим лучшую модель на test set\n",
        "\n",
        "В качестве разнообразия - напишите код для прогона модели на test set вы.\n",
        "\n",
        "В результате вы должны натренировать модель, которая покажет более **90%** точности на test set.  \n",
        "Как водится, лучший результат в группе получит дополнительные баллы!"
      ]
    },
    {
      "cell_type": "code",
      "metadata": {
        "id": "EIqM1kdeh-hd",
        "outputId": "e2e28c86-7804-4457-c58a-5e4f677d8555",
        "colab": {
          "base_uri": "https://localhost:8080/"
        }
      },
      "source": [
        "# TODO Write the code to compute accuracy on test set\n",
        "\n",
        "test_size = data_test.data.shape[0]\n",
        "test_sampler = SubsetRandomSampler(list(range(test_size)))\n",
        "test_loader = torch.utils.data.DataLoader(data_test, batch_size=batch_size,\n",
        "                                         sampler=test_sampler)\n",
        "\n",
        "final_test_accuracy = compute_accuracy(best_model, test_loader)\n",
        "print(\"Final test accuracy - \", final_test_accuracy)"
      ],
      "execution_count": 14,
      "outputs": [
        {
          "output_type": "stream",
          "text": [
            "Final test accuracy -  tensor(0.9110, device='cuda:0')\n"
          ],
          "name": "stdout"
        }
      ]
    }
  ]
}